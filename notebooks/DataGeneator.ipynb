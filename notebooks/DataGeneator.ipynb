{
 "cells": [
  {
   "cell_type": "code",
   "execution_count": 309,
   "metadata": {},
   "outputs": [],
   "source": [
    "from sklearn.datasets.samples_generator import make_blobs\n",
    "from  sklearn.datasets import make_classification\n",
    "from  sklearn.datasets import make_regression\n",
    "from matplotlib import pyplot\n",
    "import pandas as pd    \n",
    "import numpy as np"
   ]
  },
  {
   "cell_type": "code",
   "execution_count": 331,
   "metadata": {},
   "outputs": [],
   "source": [
    "def generate_cadres(samples, features, informative, cadres, seed):\n",
    "    \"\"\"\n",
    "    samples = sample size\n",
    "    features = cadre features \n",
    "    cadres = number of cadres\n",
    "    informative = random state\n",
    "    seed = random state\n",
    "    \"\"\"\n",
    "    samples_per_cadre=int(samples/cadres)\n",
    "    X, y= make_classification(n_samples=samples, n_features=features, n_informative=informative,  n_classes=cadres,  random_state=seed)\n",
    "    c_columns = ['cad'+str(x) for x in range (features)] #['cad'+str(x) for x in range (cf)]\n",
    "    df = pd.DataFrame(X, columns = c_columns)\n",
    "    df[\"cadre\"] = y\n",
    "    df=df.sort_values(by=['cadre'], )\n",
    "    df=df.reset_index(drop=True)\n",
    "    df['index_c']= [x for y in range(cadres) for x in range(samples_per_cadre)]\n",
    "    return df"
   ]
  },
  {
   "cell_type": "code",
   "execution_count": 332,
   "metadata": {},
   "outputs": [],
   "source": [
    "def generate_variables(df, samples, features, classes, informative, seed):\n",
    "        # df = dataframe\n",
    "        # features = number of features\n",
    "        # n = sample size\n",
    "        # c = cadre you wish to generate variables for\n",
    "        # r = random state\n",
    "        # y = target / dependent variable / number of responses for categorical variable\n",
    "        # X = independent variables\n",
    "        df2=pd.DataFrame()\n",
    "        \n",
    "        for cadre in range(cadres):\n",
    "            seed_c=cadre*seed\n",
    "            X, y= make_classification(n_samples=samples, n_features=features, n_informative=informative,  n_classes=classes,  random_state=seed_c)\n",
    "            columns= [ 'dv'+str(x) for x in range(features)]\n",
    "            df3 = pd.DataFrame(X, columns = columns)\n",
    "            df3[\"target\"]=y\n",
    "            df3[\"cadre\"]=cadre\n",
    "            df3[\"index_c\"]=df3.index\n",
    "            df2=df2.append(df3)\n",
    "            #df2.merge(df3,left_on='cadre',right_on='cadre')\n",
    "        #df2=pd.concat([df2.loc[df2.cadre==0,], df3], axis=1, join='inner')\n",
    "        return df2"
   ]
  },
  {
   "cell_type": "code",
   "execution_count": null,
   "metadata": {},
   "outputs": [],
   "source": []
  },
  {
   "cell_type": "code",
   "execution_count": null,
   "metadata": {},
   "outputs": [],
   "source": []
  },
  {
   "cell_type": "code",
   "execution_count": null,
   "metadata": {},
   "outputs": [],
   "source": []
  },
  {
   "cell_type": "code",
   "execution_count": null,
   "metadata": {},
   "outputs": [],
   "source": []
  },
  {
   "cell_type": "code",
   "execution_count": null,
   "metadata": {},
   "outputs": [],
   "source": []
  },
  {
   "cell_type": "code",
   "execution_count": null,
   "metadata": {},
   "outputs": [],
   "source": []
  },
  {
   "cell_type": "code",
   "execution_count": null,
   "metadata": {},
   "outputs": [],
   "source": []
  },
  {
   "cell_type": "code",
   "execution_count": null,
   "metadata": {},
   "outputs": [],
   "source": []
  },
  {
   "cell_type": "code",
   "execution_count": null,
   "metadata": {},
   "outputs": [],
   "source": []
  }
 ],
 "metadata": {
  "kernelspec": {
   "display_name": "Python 3",
   "language": "python",
   "name": "python3"
  },
  "language_info": {
   "codemirror_mode": {
    "name": "ipython",
    "version": 3
   },
   "file_extension": ".py",
   "mimetype": "text/x-python",
   "name": "python",
   "nbconvert_exporter": "python",
   "pygments_lexer": "ipython3",
   "version": "3.7.0"
  }
 },
 "nbformat": 4,
 "nbformat_minor": 2
}
