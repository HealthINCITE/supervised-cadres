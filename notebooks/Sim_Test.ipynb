{
 "cells": [
  {
   "cell_type": "markdown",
   "metadata": {},
   "source": [
    "This notebook addresses three main objectives:\n",
    "1. First we generate synthetic data using the `DGen` module \n",
    "2. Second, we replicate the SCM from the `binaryClassification2.py` module\n",
    "3. Finally, we test the results from step 2, using regular Logistic Regression (since the target is binary)"
   ]
  },
  {
   "cell_type": "markdown",
   "metadata": {},
   "source": [
    "**Import Modules**"
   ]
  },
  {
   "cell_type": "code",
   "execution_count": 1,
   "metadata": {},
   "outputs": [],
   "source": [
    "from  sklearn.datasets import make_regression\n",
    "import pandas as pd    \n",
    "import numpy as np\n",
    "from DGen import DGenerator\n",
    "import matplotlib.pyplot as plt\n",
    "import seaborn as sns\n",
    "%matplotlib inline"
   ]
  },
  {
   "cell_type": "code",
   "execution_count": 2,
   "metadata": {},
   "outputs": [
    {
     "data": {
      "text/plain": [
       "<module 'DGen' from 'C:\\\\Users\\\\kofi_\\\\Documents\\\\GitHub\\\\supervised-cadres\\\\notebooks\\\\DGen.py'>"
      ]
     },
     "execution_count": 2,
     "metadata": {},
     "output_type": "execute_result"
    }
   ],
   "source": [
    "import importlib\n",
    "import DGen\n",
    "importlib.reload(DGen)"
   ]
  },
  {
   "cell_type": "code",
   "execution_count": 3,
   "metadata": {},
   "outputs": [],
   "source": [
    "# imports from binary example 2\n",
    "import sys\n",
    "from scipy.stats import zscore, zmap\n",
    "from sklearn.model_selection import train_test_split, KFold\n",
    "from itertools import product\n",
    "from joblib import Parallel, delayed\n",
    "from multiprocessing import cpu_count"
   ]
  },
  {
   "cell_type": "code",
   "execution_count": 4,
   "metadata": {},
   "outputs": [],
   "source": [
    "sys.path.insert(0, '../cadreModels/')\n",
    "from classificationBinary2 import binaryCadreModel"
   ]
  },
  {
   "cell_type": "markdown",
   "metadata": {},
   "source": [
    "**Generate Cadres**"
   ]
  },
  {
   "cell_type": "code",
   "execution_count": null,
   "metadata": {},
   "outputs": [],
   "source": [
    "c_samples = 1000\n",
    "c_features = 10\n",
    "c_informative = 5\n",
    "c_cadres = 5\n",
    "c_seed = 101"
   ]
  },
  {
   "cell_type": "code",
   "execution_count": 5,
   "metadata": {},
   "outputs": [
    {
     "data": {
      "text/html": [
       "<div>\n",
       "<style scoped>\n",
       "    .dataframe tbody tr th:only-of-type {\n",
       "        vertical-align: middle;\n",
       "    }\n",
       "\n",
       "    .dataframe tbody tr th {\n",
       "        vertical-align: top;\n",
       "    }\n",
       "\n",
       "    .dataframe thead th {\n",
       "        text-align: right;\n",
       "    }\n",
       "</style>\n",
       "<table border=\"1\" class=\"dataframe\">\n",
       "  <thead>\n",
       "    <tr style=\"text-align: right;\">\n",
       "      <th></th>\n",
       "      <th>cad0</th>\n",
       "      <th>cad1</th>\n",
       "      <th>cad2</th>\n",
       "      <th>cad3</th>\n",
       "      <th>cad4</th>\n",
       "      <th>cad5</th>\n",
       "      <th>cad6</th>\n",
       "      <th>cad7</th>\n",
       "      <th>cad8</th>\n",
       "      <th>cad9</th>\n",
       "      <th>cadre</th>\n",
       "      <th>index_c</th>\n",
       "    </tr>\n",
       "  </thead>\n",
       "  <tbody>\n",
       "    <tr>\n",
       "      <th>0</th>\n",
       "      <td>-0.269700</td>\n",
       "      <td>-0.052448</td>\n",
       "      <td>-0.491707</td>\n",
       "      <td>1.334820</td>\n",
       "      <td>0.346316</td>\n",
       "      <td>0.685278</td>\n",
       "      <td>-0.077507</td>\n",
       "      <td>0.936459</td>\n",
       "      <td>-0.135235</td>\n",
       "      <td>0.537657</td>\n",
       "      <td>0</td>\n",
       "      <td>0</td>\n",
       "    </tr>\n",
       "    <tr>\n",
       "      <th>1</th>\n",
       "      <td>-0.181931</td>\n",
       "      <td>0.649485</td>\n",
       "      <td>-0.422580</td>\n",
       "      <td>2.394812</td>\n",
       "      <td>-0.080366</td>\n",
       "      <td>2.889139</td>\n",
       "      <td>-0.699968</td>\n",
       "      <td>1.838718</td>\n",
       "      <td>1.496954</td>\n",
       "      <td>0.693969</td>\n",
       "      <td>0</td>\n",
       "      <td>1</td>\n",
       "    </tr>\n",
       "    <tr>\n",
       "      <th>2</th>\n",
       "      <td>-1.140108</td>\n",
       "      <td>-1.620099</td>\n",
       "      <td>-1.200107</td>\n",
       "      <td>1.817854</td>\n",
       "      <td>0.628411</td>\n",
       "      <td>0.961853</td>\n",
       "      <td>0.423366</td>\n",
       "      <td>-0.280959</td>\n",
       "      <td>0.051579</td>\n",
       "      <td>0.164921</td>\n",
       "      <td>0</td>\n",
       "      <td>2</td>\n",
       "    </tr>\n",
       "    <tr>\n",
       "      <th>3</th>\n",
       "      <td>-0.885340</td>\n",
       "      <td>-1.678986</td>\n",
       "      <td>0.836371</td>\n",
       "      <td>3.003209</td>\n",
       "      <td>1.146120</td>\n",
       "      <td>3.661416</td>\n",
       "      <td>0.646925</td>\n",
       "      <td>0.714126</td>\n",
       "      <td>3.296597</td>\n",
       "      <td>-1.059550</td>\n",
       "      <td>0</td>\n",
       "      <td>3</td>\n",
       "    </tr>\n",
       "    <tr>\n",
       "      <th>4</th>\n",
       "      <td>0.738830</td>\n",
       "      <td>1.005992</td>\n",
       "      <td>0.208713</td>\n",
       "      <td>0.909989</td>\n",
       "      <td>-1.547411</td>\n",
       "      <td>-0.346845</td>\n",
       "      <td>0.937485</td>\n",
       "      <td>1.302065</td>\n",
       "      <td>0.286691</td>\n",
       "      <td>-0.643863</td>\n",
       "      <td>0</td>\n",
       "      <td>4</td>\n",
       "    </tr>\n",
       "  </tbody>\n",
       "</table>\n",
       "</div>"
      ],
      "text/plain": [
       "       cad0      cad1      cad2      cad3      cad4      cad5      cad6  \\\n",
       "0 -0.269700 -0.052448 -0.491707  1.334820  0.346316  0.685278 -0.077507   \n",
       "1 -0.181931  0.649485 -0.422580  2.394812 -0.080366  2.889139 -0.699968   \n",
       "2 -1.140108 -1.620099 -1.200107  1.817854  0.628411  0.961853  0.423366   \n",
       "3 -0.885340 -1.678986  0.836371  3.003209  1.146120  3.661416  0.646925   \n",
       "4  0.738830  1.005992  0.208713  0.909989 -1.547411 -0.346845  0.937485   \n",
       "\n",
       "       cad7      cad8      cad9  cadre  index_c  \n",
       "0  0.936459 -0.135235  0.537657      0        0  \n",
       "1  1.838718  1.496954  0.693969      0        1  \n",
       "2 -0.280959  0.051579  0.164921      0        2  \n",
       "3  0.714126  3.296597 -1.059550      0        3  \n",
       "4  1.302065  0.286691 -0.643863      0        4  "
      ]
     },
     "execution_count": 5,
     "metadata": {},
     "output_type": "execute_result"
    }
   ],
   "source": [
    "df_cadre = DGen.DGenerator.generate_cadres(samples = c_samples, features = c_features, informative = c_informative, cadres = c_cadres, seed = c_seed)\n",
    "df_cadre.head()"
   ]
  },
  {
   "cell_type": "markdown",
   "metadata": {},
   "source": [
    "**Generate Features and DVs**"
   ]
  },
  {
   "cell_type": "code",
   "execution_count": null,
   "metadata": {},
   "outputs": [],
   "source": [
    "t_cadres = 5\n",
    "t_samples = int(c_samples/t_cadres)\n",
    "t_features = 5\n",
    "t_classes = 2\n",
    "t_informative = 3\n",
    "t_seed = 101"
   ]
  },
  {
   "cell_type": "code",
   "execution_count": 6,
   "metadata": {},
   "outputs": [
    {
     "data": {
      "text/html": [
       "<div>\n",
       "<style scoped>\n",
       "    .dataframe tbody tr th:only-of-type {\n",
       "        vertical-align: middle;\n",
       "    }\n",
       "\n",
       "    .dataframe tbody tr th {\n",
       "        vertical-align: top;\n",
       "    }\n",
       "\n",
       "    .dataframe thead th {\n",
       "        text-align: right;\n",
       "    }\n",
       "</style>\n",
       "<table border=\"1\" class=\"dataframe\">\n",
       "  <thead>\n",
       "    <tr style=\"text-align: right;\">\n",
       "      <th></th>\n",
       "      <th>dv0</th>\n",
       "      <th>dv1</th>\n",
       "      <th>dv2</th>\n",
       "      <th>dv3</th>\n",
       "      <th>dv4</th>\n",
       "      <th>target</th>\n",
       "      <th>cadre</th>\n",
       "      <th>index_c</th>\n",
       "    </tr>\n",
       "  </thead>\n",
       "  <tbody>\n",
       "    <tr>\n",
       "      <th>0</th>\n",
       "      <td>0.742269</td>\n",
       "      <td>0.831867</td>\n",
       "      <td>-0.771575</td>\n",
       "      <td>0.842334</td>\n",
       "      <td>0.520759</td>\n",
       "      <td>1</td>\n",
       "      <td>0</td>\n",
       "      <td>0</td>\n",
       "    </tr>\n",
       "    <tr>\n",
       "      <th>1</th>\n",
       "      <td>0.160512</td>\n",
       "      <td>-0.159833</td>\n",
       "      <td>-0.780318</td>\n",
       "      <td>0.409191</td>\n",
       "      <td>-0.527419</td>\n",
       "      <td>1</td>\n",
       "      <td>0</td>\n",
       "      <td>1</td>\n",
       "    </tr>\n",
       "    <tr>\n",
       "      <th>2</th>\n",
       "      <td>0.998435</td>\n",
       "      <td>-0.248226</td>\n",
       "      <td>-0.305384</td>\n",
       "      <td>-1.388785</td>\n",
       "      <td>-0.676256</td>\n",
       "      <td>0</td>\n",
       "      <td>0</td>\n",
       "      <td>2</td>\n",
       "    </tr>\n",
       "    <tr>\n",
       "      <th>3</th>\n",
       "      <td>-1.131430</td>\n",
       "      <td>1.655346</td>\n",
       "      <td>1.174063</td>\n",
       "      <td>2.429695</td>\n",
       "      <td>2.735830</td>\n",
       "      <td>0</td>\n",
       "      <td>0</td>\n",
       "      <td>3</td>\n",
       "    </tr>\n",
       "    <tr>\n",
       "      <th>4</th>\n",
       "      <td>-1.092046</td>\n",
       "      <td>0.077012</td>\n",
       "      <td>0.944960</td>\n",
       "      <td>0.616437</td>\n",
       "      <td>0.733610</td>\n",
       "      <td>0</td>\n",
       "      <td>0</td>\n",
       "      <td>4</td>\n",
       "    </tr>\n",
       "  </tbody>\n",
       "</table>\n",
       "</div>"
      ],
      "text/plain": [
       "        dv0       dv1       dv2       dv3       dv4  target  cadre  index_c\n",
       "0  0.742269  0.831867 -0.771575  0.842334  0.520759       1      0        0\n",
       "1  0.160512 -0.159833 -0.780318  0.409191 -0.527419       1      0        1\n",
       "2  0.998435 -0.248226 -0.305384 -1.388785 -0.676256       0      0        2\n",
       "3 -1.131430  1.655346  1.174063  2.429695  2.735830       0      0        3\n",
       "4 -1.092046  0.077012  0.944960  0.616437  0.733610       0      0        4"
      ]
     },
     "execution_count": 6,
     "metadata": {},
     "output_type": "execute_result"
    }
   ],
   "source": [
    "df_variables = DGenerator.generate_variables(cadres = t_cadres, samples = t_samples, features = t_features, classes = t_classes, informative = t_informative, seed = t_seed)\n",
    "df_variables.head()"
   ]
  },
  {
   "cell_type": "code",
   "execution_count": 7,
   "metadata": {},
   "outputs": [
    {
     "data": {
      "text/html": [
       "<div>\n",
       "<style scoped>\n",
       "    .dataframe tbody tr th:only-of-type {\n",
       "        vertical-align: middle;\n",
       "    }\n",
       "\n",
       "    .dataframe tbody tr th {\n",
       "        vertical-align: top;\n",
       "    }\n",
       "\n",
       "    .dataframe thead th {\n",
       "        text-align: right;\n",
       "    }\n",
       "</style>\n",
       "<table border=\"1\" class=\"dataframe\">\n",
       "  <thead>\n",
       "    <tr style=\"text-align: right;\">\n",
       "      <th></th>\n",
       "      <th>cad0</th>\n",
       "      <th>cad1</th>\n",
       "      <th>cad2</th>\n",
       "      <th>cad3</th>\n",
       "      <th>cad4</th>\n",
       "      <th>cad5</th>\n",
       "      <th>cad6</th>\n",
       "      <th>cad7</th>\n",
       "      <th>cad8</th>\n",
       "      <th>cad9</th>\n",
       "      <th>cadre</th>\n",
       "      <th>index_c</th>\n",
       "      <th>dv0</th>\n",
       "      <th>dv1</th>\n",
       "      <th>dv2</th>\n",
       "      <th>dv3</th>\n",
       "      <th>dv4</th>\n",
       "      <th>target</th>\n",
       "    </tr>\n",
       "  </thead>\n",
       "  <tbody>\n",
       "    <tr>\n",
       "      <th>0</th>\n",
       "      <td>-0.269700</td>\n",
       "      <td>-0.052448</td>\n",
       "      <td>-0.491707</td>\n",
       "      <td>1.334820</td>\n",
       "      <td>0.346316</td>\n",
       "      <td>0.685278</td>\n",
       "      <td>-0.077507</td>\n",
       "      <td>0.936459</td>\n",
       "      <td>-0.135235</td>\n",
       "      <td>0.537657</td>\n",
       "      <td>0</td>\n",
       "      <td>0</td>\n",
       "      <td>0.742269</td>\n",
       "      <td>0.831867</td>\n",
       "      <td>-0.771575</td>\n",
       "      <td>0.842334</td>\n",
       "      <td>0.520759</td>\n",
       "      <td>1</td>\n",
       "    </tr>\n",
       "    <tr>\n",
       "      <th>1</th>\n",
       "      <td>0.203320</td>\n",
       "      <td>1.429266</td>\n",
       "      <td>-2.340578</td>\n",
       "      <td>3.666363</td>\n",
       "      <td>0.666266</td>\n",
       "      <td>-0.237156</td>\n",
       "      <td>2.108665</td>\n",
       "      <td>2.719190</td>\n",
       "      <td>-0.814543</td>\n",
       "      <td>0.104569</td>\n",
       "      <td>0</td>\n",
       "      <td>0</td>\n",
       "      <td>0.742269</td>\n",
       "      <td>0.831867</td>\n",
       "      <td>-0.771575</td>\n",
       "      <td>0.842334</td>\n",
       "      <td>0.520759</td>\n",
       "      <td>1</td>\n",
       "    </tr>\n",
       "    <tr>\n",
       "      <th>2</th>\n",
       "      <td>-0.181931</td>\n",
       "      <td>0.649485</td>\n",
       "      <td>-0.422580</td>\n",
       "      <td>2.394812</td>\n",
       "      <td>-0.080366</td>\n",
       "      <td>2.889139</td>\n",
       "      <td>-0.699968</td>\n",
       "      <td>1.838718</td>\n",
       "      <td>1.496954</td>\n",
       "      <td>0.693969</td>\n",
       "      <td>0</td>\n",
       "      <td>1</td>\n",
       "      <td>0.160512</td>\n",
       "      <td>-0.159833</td>\n",
       "      <td>-0.780318</td>\n",
       "      <td>0.409191</td>\n",
       "      <td>-0.527419</td>\n",
       "      <td>1</td>\n",
       "    </tr>\n",
       "    <tr>\n",
       "      <th>3</th>\n",
       "      <td>-1.140108</td>\n",
       "      <td>-1.620099</td>\n",
       "      <td>-1.200107</td>\n",
       "      <td>1.817854</td>\n",
       "      <td>0.628411</td>\n",
       "      <td>0.961853</td>\n",
       "      <td>0.423366</td>\n",
       "      <td>-0.280959</td>\n",
       "      <td>0.051579</td>\n",
       "      <td>0.164921</td>\n",
       "      <td>0</td>\n",
       "      <td>2</td>\n",
       "      <td>0.998435</td>\n",
       "      <td>-0.248226</td>\n",
       "      <td>-0.305384</td>\n",
       "      <td>-1.388785</td>\n",
       "      <td>-0.676256</td>\n",
       "      <td>0</td>\n",
       "    </tr>\n",
       "    <tr>\n",
       "      <th>4</th>\n",
       "      <td>-0.885340</td>\n",
       "      <td>-1.678986</td>\n",
       "      <td>0.836371</td>\n",
       "      <td>3.003209</td>\n",
       "      <td>1.146120</td>\n",
       "      <td>3.661416</td>\n",
       "      <td>0.646925</td>\n",
       "      <td>0.714126</td>\n",
       "      <td>3.296597</td>\n",
       "      <td>-1.059550</td>\n",
       "      <td>0</td>\n",
       "      <td>3</td>\n",
       "      <td>-1.131430</td>\n",
       "      <td>1.655346</td>\n",
       "      <td>1.174063</td>\n",
       "      <td>2.429695</td>\n",
       "      <td>2.735830</td>\n",
       "      <td>0</td>\n",
       "    </tr>\n",
       "  </tbody>\n",
       "</table>\n",
       "</div>"
      ],
      "text/plain": [
       "       cad0      cad1      cad2      cad3      cad4      cad5      cad6  \\\n",
       "0 -0.269700 -0.052448 -0.491707  1.334820  0.346316  0.685278 -0.077507   \n",
       "1  0.203320  1.429266 -2.340578  3.666363  0.666266 -0.237156  2.108665   \n",
       "2 -0.181931  0.649485 -0.422580  2.394812 -0.080366  2.889139 -0.699968   \n",
       "3 -1.140108 -1.620099 -1.200107  1.817854  0.628411  0.961853  0.423366   \n",
       "4 -0.885340 -1.678986  0.836371  3.003209  1.146120  3.661416  0.646925   \n",
       "\n",
       "       cad7      cad8      cad9  cadre  index_c       dv0       dv1       dv2  \\\n",
       "0  0.936459 -0.135235  0.537657      0        0  0.742269  0.831867 -0.771575   \n",
       "1  2.719190 -0.814543  0.104569      0        0  0.742269  0.831867 -0.771575   \n",
       "2  1.838718  1.496954  0.693969      0        1  0.160512 -0.159833 -0.780318   \n",
       "3 -0.280959  0.051579  0.164921      0        2  0.998435 -0.248226 -0.305384   \n",
       "4  0.714126  3.296597 -1.059550      0        3 -1.131430  1.655346  1.174063   \n",
       "\n",
       "        dv3       dv4  target  \n",
       "0  0.842334  0.520759       1  \n",
       "1  0.842334  0.520759       1  \n",
       "2  0.409191 -0.527419       1  \n",
       "3 -1.388785 -0.676256       0  \n",
       "4  2.429695  2.735830       0  "
      ]
     },
     "execution_count": 7,
     "metadata": {},
     "output_type": "execute_result"
    }
   ],
   "source": [
    "z = pd.merge(df_cadre, df_variables)\n",
    "z.head()"
   ]
  },
  {
   "cell_type": "markdown",
   "metadata": {},
   "source": [
    "**Begin SCM**"
   ]
  },
  {
   "cell_type": "code",
   "execution_count": 8,
   "metadata": {},
   "outputs": [
    {
     "data": {
      "text/html": [
       "<div>\n",
       "<style scoped>\n",
       "    .dataframe tbody tr th:only-of-type {\n",
       "        vertical-align: middle;\n",
       "    }\n",
       "\n",
       "    .dataframe tbody tr th {\n",
       "        vertical-align: top;\n",
       "    }\n",
       "\n",
       "    .dataframe thead th {\n",
       "        text-align: right;\n",
       "    }\n",
       "</style>\n",
       "<table border=\"1\" class=\"dataframe\">\n",
       "  <thead>\n",
       "    <tr style=\"text-align: right;\">\n",
       "      <th></th>\n",
       "      <th>cad0</th>\n",
       "      <th>cad1</th>\n",
       "      <th>cad2</th>\n",
       "      <th>cad3</th>\n",
       "      <th>cad4</th>\n",
       "      <th>cad5</th>\n",
       "      <th>cad6</th>\n",
       "      <th>cad7</th>\n",
       "      <th>cad8</th>\n",
       "      <th>cad9</th>\n",
       "      <th>dv0</th>\n",
       "      <th>dv1</th>\n",
       "      <th>dv2</th>\n",
       "      <th>dv3</th>\n",
       "      <th>dv4</th>\n",
       "      <th>target</th>\n",
       "    </tr>\n",
       "  </thead>\n",
       "  <tbody>\n",
       "    <tr>\n",
       "      <th>0</th>\n",
       "      <td>-0.269700</td>\n",
       "      <td>-0.052448</td>\n",
       "      <td>-0.491707</td>\n",
       "      <td>1.334820</td>\n",
       "      <td>0.346316</td>\n",
       "      <td>0.685278</td>\n",
       "      <td>-0.077507</td>\n",
       "      <td>0.936459</td>\n",
       "      <td>-0.135235</td>\n",
       "      <td>0.537657</td>\n",
       "      <td>0.742269</td>\n",
       "      <td>0.831867</td>\n",
       "      <td>-0.771575</td>\n",
       "      <td>0.842334</td>\n",
       "      <td>0.520759</td>\n",
       "      <td>1</td>\n",
       "    </tr>\n",
       "    <tr>\n",
       "      <th>1</th>\n",
       "      <td>0.203320</td>\n",
       "      <td>1.429266</td>\n",
       "      <td>-2.340578</td>\n",
       "      <td>3.666363</td>\n",
       "      <td>0.666266</td>\n",
       "      <td>-0.237156</td>\n",
       "      <td>2.108665</td>\n",
       "      <td>2.719190</td>\n",
       "      <td>-0.814543</td>\n",
       "      <td>0.104569</td>\n",
       "      <td>0.742269</td>\n",
       "      <td>0.831867</td>\n",
       "      <td>-0.771575</td>\n",
       "      <td>0.842334</td>\n",
       "      <td>0.520759</td>\n",
       "      <td>1</td>\n",
       "    </tr>\n",
       "    <tr>\n",
       "      <th>2</th>\n",
       "      <td>-0.181931</td>\n",
       "      <td>0.649485</td>\n",
       "      <td>-0.422580</td>\n",
       "      <td>2.394812</td>\n",
       "      <td>-0.080366</td>\n",
       "      <td>2.889139</td>\n",
       "      <td>-0.699968</td>\n",
       "      <td>1.838718</td>\n",
       "      <td>1.496954</td>\n",
       "      <td>0.693969</td>\n",
       "      <td>0.160512</td>\n",
       "      <td>-0.159833</td>\n",
       "      <td>-0.780318</td>\n",
       "      <td>0.409191</td>\n",
       "      <td>-0.527419</td>\n",
       "      <td>1</td>\n",
       "    </tr>\n",
       "    <tr>\n",
       "      <th>3</th>\n",
       "      <td>-1.140108</td>\n",
       "      <td>-1.620099</td>\n",
       "      <td>-1.200107</td>\n",
       "      <td>1.817854</td>\n",
       "      <td>0.628411</td>\n",
       "      <td>0.961853</td>\n",
       "      <td>0.423366</td>\n",
       "      <td>-0.280959</td>\n",
       "      <td>0.051579</td>\n",
       "      <td>0.164921</td>\n",
       "      <td>0.998435</td>\n",
       "      <td>-0.248226</td>\n",
       "      <td>-0.305384</td>\n",
       "      <td>-1.388785</td>\n",
       "      <td>-0.676256</td>\n",
       "      <td>0</td>\n",
       "    </tr>\n",
       "    <tr>\n",
       "      <th>4</th>\n",
       "      <td>-0.885340</td>\n",
       "      <td>-1.678986</td>\n",
       "      <td>0.836371</td>\n",
       "      <td>3.003209</td>\n",
       "      <td>1.146120</td>\n",
       "      <td>3.661416</td>\n",
       "      <td>0.646925</td>\n",
       "      <td>0.714126</td>\n",
       "      <td>3.296597</td>\n",
       "      <td>-1.059550</td>\n",
       "      <td>-1.131430</td>\n",
       "      <td>1.655346</td>\n",
       "      <td>1.174063</td>\n",
       "      <td>2.429695</td>\n",
       "      <td>2.735830</td>\n",
       "      <td>0</td>\n",
       "    </tr>\n",
       "  </tbody>\n",
       "</table>\n",
       "</div>"
      ],
      "text/plain": [
       "       cad0      cad1      cad2      cad3      cad4      cad5      cad6  \\\n",
       "0 -0.269700 -0.052448 -0.491707  1.334820  0.346316  0.685278 -0.077507   \n",
       "1  0.203320  1.429266 -2.340578  3.666363  0.666266 -0.237156  2.108665   \n",
       "2 -0.181931  0.649485 -0.422580  2.394812 -0.080366  2.889139 -0.699968   \n",
       "3 -1.140108 -1.620099 -1.200107  1.817854  0.628411  0.961853  0.423366   \n",
       "4 -0.885340 -1.678986  0.836371  3.003209  1.146120  3.661416  0.646925   \n",
       "\n",
       "       cad7      cad8      cad9       dv0       dv1       dv2       dv3  \\\n",
       "0  0.936459 -0.135235  0.537657  0.742269  0.831867 -0.771575  0.842334   \n",
       "1  2.719190 -0.814543  0.104569  0.742269  0.831867 -0.771575  0.842334   \n",
       "2  1.838718  1.496954  0.693969  0.160512 -0.159833 -0.780318  0.409191   \n",
       "3 -0.280959  0.051579  0.164921  0.998435 -0.248226 -0.305384 -1.388785   \n",
       "4  0.714126  3.296597 -1.059550 -1.131430  1.655346  1.174063  2.429695   \n",
       "\n",
       "        dv4  target  \n",
       "0  0.520759       1  \n",
       "1  0.520759       1  \n",
       "2 -0.527419       1  \n",
       "3 -0.676256       0  \n",
       "4  2.735830       0  "
      ]
     },
     "execution_count": 8,
     "metadata": {},
     "output_type": "execute_result"
    }
   ],
   "source": [
    "data = z.drop(['cadre','index_c'], 1)\n",
    "data.head()"
   ]
  },
  {
   "cell_type": "markdown",
   "metadata": {},
   "source": [
    "Alex performs randomized train-test split"
   ]
  },
  {
   "cell_type": "code",
   "execution_count": 9,
   "metadata": {},
   "outputs": [],
   "source": [
    "Dtr, Dva = train_test_split(data, test_size=0.2, random_state=101)"
   ]
  },
  {
   "cell_type": "markdown",
   "metadata": {},
   "source": [
    "Separate cadre prediction features from target prediction features (optional)"
   ]
  },
  {
   "cell_type": "code",
   "execution_count": 10,
   "metadata": {},
   "outputs": [],
   "source": [
    "cadreFts = data.columns[data.columns.str.contains('cad')]\n",
    "predictFts = data.columns[data.columns.str.contains('dv')]"
   ]
  },
  {
   "cell_type": "code",
   "execution_count": 11,
   "metadata": {},
   "outputs": [
    {
     "name": "stdout",
     "output_type": "stream",
     "text": [
      "Index(['cad0', 'cad1', 'cad2', 'cad3', 'cad4', 'cad5', 'cad6', 'cad7', 'cad8',\n",
      "       'cad9'],\n",
      "      dtype='object')\n"
     ]
    }
   ],
   "source": [
    "print(cadreFts)"
   ]
  },
  {
   "cell_type": "code",
   "execution_count": 12,
   "metadata": {},
   "outputs": [
    {
     "name": "stdout",
     "output_type": "stream",
     "text": [
      "Index(['dv0', 'dv1', 'dv2', 'dv3', 'dv4'], dtype='object')\n"
     ]
    }
   ],
   "source": [
    "print(predictFts)"
   ]
  },
  {
   "cell_type": "code",
   "execution_count": 13,
   "metadata": {},
   "outputs": [],
   "source": [
    "features = cadreFts.union(predictFts)"
   ]
  },
  {
   "cell_type": "markdown",
   "metadata": {},
   "source": [
    "Standardize training and validation sets"
   ]
  },
  {
   "cell_type": "code",
   "execution_count": 14,
   "metadata": {},
   "outputs": [],
   "source": [
    "Dva[features] = zmap(Dva[features].values, Dtr[features].values)\n",
    "Dtr[features] = zscore(Dtr[features].values)"
   ]
  },
  {
   "cell_type": "code",
   "execution_count": 15,
   "metadata": {},
   "outputs": [
    {
     "data": {
      "text/html": [
       "<div>\n",
       "<style scoped>\n",
       "    .dataframe tbody tr th:only-of-type {\n",
       "        vertical-align: middle;\n",
       "    }\n",
       "\n",
       "    .dataframe tbody tr th {\n",
       "        vertical-align: top;\n",
       "    }\n",
       "\n",
       "    .dataframe thead th {\n",
       "        text-align: right;\n",
       "    }\n",
       "</style>\n",
       "<table border=\"1\" class=\"dataframe\">\n",
       "  <thead>\n",
       "    <tr style=\"text-align: right;\">\n",
       "      <th></th>\n",
       "      <th>cad0</th>\n",
       "      <th>cad1</th>\n",
       "      <th>cad2</th>\n",
       "      <th>cad3</th>\n",
       "      <th>cad4</th>\n",
       "      <th>cad5</th>\n",
       "      <th>cad6</th>\n",
       "      <th>cad7</th>\n",
       "      <th>cad8</th>\n",
       "      <th>cad9</th>\n",
       "      <th>dv0</th>\n",
       "      <th>dv1</th>\n",
       "      <th>dv2</th>\n",
       "      <th>dv3</th>\n",
       "      <th>dv4</th>\n",
       "      <th>target</th>\n",
       "    </tr>\n",
       "  </thead>\n",
       "  <tbody>\n",
       "    <tr>\n",
       "      <th>545</th>\n",
       "      <td>-2.154437</td>\n",
       "      <td>2.350941</td>\n",
       "      <td>0.817070</td>\n",
       "      <td>0.070597</td>\n",
       "      <td>0.183276</td>\n",
       "      <td>-1.197490</td>\n",
       "      <td>-0.388677</td>\n",
       "      <td>1.305508</td>\n",
       "      <td>0.306209</td>\n",
       "      <td>-1.129895</td>\n",
       "      <td>0.904040</td>\n",
       "      <td>0.438087</td>\n",
       "      <td>-0.494778</td>\n",
       "      <td>1.123486</td>\n",
       "      <td>0.954192</td>\n",
       "      <td>0</td>\n",
       "    </tr>\n",
       "    <tr>\n",
       "      <th>298</th>\n",
       "      <td>0.422691</td>\n",
       "      <td>-0.888574</td>\n",
       "      <td>0.652249</td>\n",
       "      <td>-2.150756</td>\n",
       "      <td>0.113665</td>\n",
       "      <td>0.704005</td>\n",
       "      <td>-0.669393</td>\n",
       "      <td>-1.346839</td>\n",
       "      <td>-0.103924</td>\n",
       "      <td>1.166866</td>\n",
       "      <td>1.164169</td>\n",
       "      <td>-0.802644</td>\n",
       "      <td>0.321042</td>\n",
       "      <td>1.299126</td>\n",
       "      <td>-1.566449</td>\n",
       "      <td>1</td>\n",
       "    </tr>\n",
       "    <tr>\n",
       "      <th>109</th>\n",
       "      <td>-1.709257</td>\n",
       "      <td>1.107386</td>\n",
       "      <td>-1.456361</td>\n",
       "      <td>1.621631</td>\n",
       "      <td>1.374521</td>\n",
       "      <td>-0.643293</td>\n",
       "      <td>-0.104316</td>\n",
       "      <td>1.352251</td>\n",
       "      <td>-1.119829</td>\n",
       "      <td>0.735789</td>\n",
       "      <td>1.186638</td>\n",
       "      <td>1.304159</td>\n",
       "      <td>0.714575</td>\n",
       "      <td>-0.935725</td>\n",
       "      <td>1.049344</td>\n",
       "      <td>1</td>\n",
       "    </tr>\n",
       "    <tr>\n",
       "      <th>837</th>\n",
       "      <td>0.716325</td>\n",
       "      <td>1.027042</td>\n",
       "      <td>0.235127</td>\n",
       "      <td>-0.269846</td>\n",
       "      <td>1.093935</td>\n",
       "      <td>0.525249</td>\n",
       "      <td>-0.917828</td>\n",
       "      <td>0.707867</td>\n",
       "      <td>-0.266655</td>\n",
       "      <td>1.145936</td>\n",
       "      <td>-0.965947</td>\n",
       "      <td>0.844382</td>\n",
       "      <td>1.147225</td>\n",
       "      <td>-0.895727</td>\n",
       "      <td>1.602720</td>\n",
       "      <td>1</td>\n",
       "    </tr>\n",
       "    <tr>\n",
       "      <th>194</th>\n",
       "      <td>1.068916</td>\n",
       "      <td>-1.909257</td>\n",
       "      <td>-0.176414</td>\n",
       "      <td>1.318712</td>\n",
       "      <td>-0.060179</td>\n",
       "      <td>1.498959</td>\n",
       "      <td>0.685068</td>\n",
       "      <td>-0.271883</td>\n",
       "      <td>0.637292</td>\n",
       "      <td>-0.087642</td>\n",
       "      <td>0.685876</td>\n",
       "      <td>1.218632</td>\n",
       "      <td>-0.443940</td>\n",
       "      <td>0.436173</td>\n",
       "      <td>0.786021</td>\n",
       "      <td>1</td>\n",
       "    </tr>\n",
       "  </tbody>\n",
       "</table>\n",
       "</div>"
      ],
      "text/plain": [
       "         cad0      cad1      cad2      cad3      cad4      cad5      cad6  \\\n",
       "545 -2.154437  2.350941  0.817070  0.070597  0.183276 -1.197490 -0.388677   \n",
       "298  0.422691 -0.888574  0.652249 -2.150756  0.113665  0.704005 -0.669393   \n",
       "109 -1.709257  1.107386 -1.456361  1.621631  1.374521 -0.643293 -0.104316   \n",
       "837  0.716325  1.027042  0.235127 -0.269846  1.093935  0.525249 -0.917828   \n",
       "194  1.068916 -1.909257 -0.176414  1.318712 -0.060179  1.498959  0.685068   \n",
       "\n",
       "         cad7      cad8      cad9       dv0       dv1       dv2       dv3  \\\n",
       "545  1.305508  0.306209 -1.129895  0.904040  0.438087 -0.494778  1.123486   \n",
       "298 -1.346839 -0.103924  1.166866  1.164169 -0.802644  0.321042  1.299126   \n",
       "109  1.352251 -1.119829  0.735789  1.186638  1.304159  0.714575 -0.935725   \n",
       "837  0.707867 -0.266655  1.145936 -0.965947  0.844382  1.147225 -0.895727   \n",
       "194 -0.271883  0.637292 -0.087642  0.685876  1.218632 -0.443940  0.436173   \n",
       "\n",
       "          dv4  target  \n",
       "545  0.954192       0  \n",
       "298 -1.566449       1  \n",
       "109  1.049344       1  \n",
       "837  1.602720       1  \n",
       "194  0.786021       1  "
      ]
     },
     "execution_count": 15,
     "metadata": {},
     "output_type": "execute_result"
    }
   ],
   "source": [
    "Dva.head()"
   ]
  },
  {
   "cell_type": "markdown",
   "metadata": {},
   "source": [
    "Define and train SCM model object. We're not going to tune any hyperparameters here. Note that we now supply the binaryCadreModel object with the cadre-assignment features and target-prediction features, as well as the name of the target feature.\n",
    "\n",
    "If we did not supply any cadreFts or targetFts, they default to being every column in data other than targetCol"
   ]
  },
  {
   "cell_type": "code",
   "execution_count": 16,
   "metadata": {},
   "outputs": [
    {
     "name": "stdout",
     "output_type": "stream",
     "text": [
      "WARNING:tensorflow:From C:\\ProgramData\\Anaconda3\\lib\\site-packages\\tensorflow\\python\\framework\\op_def_library.py:263: colocate_with (from tensorflow.python.framework.ops) is deprecated and will be removed in a future version.\n",
      "Instructions for updating:\n",
      "Colocations handled automatically by placer.\n",
      "WARNING:tensorflow:From C:\\ProgramData\\Anaconda3\\lib\\site-packages\\tensorflow\\python\\ops\\math_ops.py:3066: to_int32 (from tensorflow.python.ops.math_ops) is deprecated and will be removed in a future version.\n",
      "Instructions for updating:\n",
      "Use tf.cast instead.\n",
      "0\n",
      "10 0.8208385 0.4775 0.7995537 0.555 0.2642242908477783\n",
      "20 0.81429994 0.49625 0.79481584 0.55 0.9418368339538574\n",
      "30 0.8107994 0.5 0.7922693 0.55 1.1147384643554688\n",
      "40 0.80813026 0.50125 0.79016584 0.55 1.2876386642456055\n",
      "50 0.8059521 0.50875 0.7884476 0.555 1.4725346565246582\n",
      "60 0.80416214 0.5125 0.7869545 0.565 1.6494333744049072\n",
      "70 0.80254394 0.52375 0.78550076 0.565 1.8323278427124023\n",
      "80 0.8010125 0.52375 0.7841404 0.58 1.9992320537567139\n",
      "90 0.79962647 0.52625 0.782937 0.58 2.1711337566375732\n",
      "100 0.798263 0.53 0.781764 0.58 2.3480331897735596\n",
      "110 0.7970829 0.54 0.7807642 0.585 2.527930498123169\n",
      "120 0.79599094 0.54125 0.77980834 0.59 2.711825370788574\n",
      "130 0.7949443 0.54875 0.77891356 0.59 2.8927218914031982\n",
      "140 0.79380566 0.555 0.7779189 0.595 3.061626434326172\n",
      "150 0.7927784 0.5575 0.77704 0.595 3.2375245094299316\n",
      "160 0.7918765 0.5575 0.77629095 0.595 3.4114267826080322\n",
      "170 0.79098296 0.56 0.7755536 0.6 3.584326982498169\n",
      "180 0.7901057 0.56125 0.77482957 0.605 3.7552289962768555\n",
      "190 0.7892473 0.56 0.7741171 0.61 3.9281301498413086\n",
      "200 0.7884181 0.56125 0.7734436 0.61 4.093037128448486\n",
      "210 0.7876409 0.56 0.7727927 0.615 4.2639384269714355\n",
      "220 0.78691673 0.55875 0.77218395 0.62 4.428844690322876\n",
      "230 0.7862448 0.56125 0.77157897 0.62 4.603744268417358\n",
      "240 0.7855716 0.565 0.77101105 0.62 4.768651723861694\n",
      "250 0.7849171 0.57125 0.77045614 0.625 4.939553737640381\n",
      "260 0.7842576 0.5725 0.7699353 0.625 5.1154539585113525\n",
      "270 0.7836563 0.5775 0.76944935 0.625 5.29235053062439\n",
      "280 0.78311265 0.58 0.76900065 0.63 5.463254690170288\n",
      "290 0.7825373 0.5825 0.76851165 0.625 5.634157419204712\n",
      "300 0.7819304 0.58875 0.7680173 0.63 5.808056592941284\n",
      "310 0.7813459 0.5925 0.76752317 0.63 5.977959632873535\n",
      "320 0.7807564 0.59875 0.7670617 0.635 6.15086030960083\n",
      "330 0.78019047 0.60375 0.7666058 0.635 6.316766023635864\n",
      "340 0.77967423 0.6075 0.7662007 0.645 6.487668752670288\n",
      "350 0.77915204 0.60875 0.7657581 0.645 6.688554048538208\n",
      "360 0.7786461 0.61 0.76536745 0.645 6.901432514190674\n",
      "370 0.7781159 0.61 0.7649621 0.655 7.1093127727508545\n",
      "380 0.7775986 0.6125 0.7645303 0.655 7.279216766357422\n",
      "390 0.7771454 0.615 0.7641528 0.65 7.453117847442627\n",
      "400 0.7766887 0.6175 0.76376915 0.65 7.624019384384155\n",
      "410 0.7762547 0.6175 0.7634131 0.65 7.807922601699829\n",
      "420 0.7758271 0.62 0.76306516 0.655 8.010799169540405\n",
      "430 0.7753985 0.62125 0.7627119 0.66 8.17270541191101\n",
      "440 0.77497077 0.625 0.76232594 0.66 8.335613489151001\n",
      "450 0.77456886 0.63 0.7619488 0.665 8.523505449295044\n",
      "460 0.7741735 0.63125 0.76156 0.665 8.733386039733887\n",
      "470 0.7737892 0.6325 0.76121783 0.665 8.918280124664307\n",
      "480 0.7733842 0.635 0.7608712 0.665 9.078189134597778\n",
      "490 0.7729996 0.63625 0.7605225 0.665 9.24409294128418\n",
      "500 0.7726302 0.64 0.7601785 0.67 9.404002666473389\n",
      "510 0.77223694 0.63625 0.7598237 0.665 9.569907426834106\n",
      "520 0.7718484 0.63875 0.7594845 0.665 9.728817224502563\n",
      "530 0.7714704 0.6425 0.7591593 0.665 9.893722534179688\n",
      "540 0.7710659 0.6425 0.7588313 0.67 10.051631689071655\n",
      "550 0.7706665 0.64125 0.75849706 0.67 10.213539600372314\n",
      "560 0.77030957 0.64375 0.75820595 0.67 10.377445459365845\n",
      "570 0.76992744 0.645 0.7579014 0.67 10.55434513092041\n",
      "580 0.7695755 0.645 0.75763714 0.675 10.712254762649536\n",
      "590 0.7692299 0.64375 0.7573471 0.68 10.884157657623291\n",
      "600 0.7688987 0.64625 0.75705606 0.68 11.042067289352417\n",
      "610 0.7685978 0.645 0.7567654 0.685 11.206972360610962\n",
      "620 0.7682821 0.645 0.75646067 0.685 11.379873991012573\n",
      "630 0.7679584 0.64875 0.7561521 0.685 11.554773330688477\n",
      "640 0.76764834 0.64875 0.7558639 0.685 11.728675365447998\n",
      "650 0.7673479 0.64875 0.7556084 0.685 11.911569833755493\n",
      "660 0.76701355 0.64875 0.7553171 0.685 12.077475547790527\n",
      "670 0.7666787 0.65 0.75499356 0.69 12.23438572883606\n",
      "680 0.7663492 0.65 0.75468475 0.69 12.400290966033936\n",
      "690 0.7660207 0.65125 0.7543909 0.69 12.562197923660278\n",
      "700 0.76571417 0.6525 0.75410926 0.69 12.726104736328125\n",
      "710 0.765426 0.6525 0.75385064 0.69 12.910000562667847\n",
      "720 0.7651292 0.65375 0.7535939 0.69 13.111884355545044\n",
      "730 0.76481813 0.65375 0.7533521 0.69 13.280787467956543\n",
      "740 0.76452047 0.655 0.7531044 0.69 13.446693897247314\n",
      "750 0.76423824 0.655 0.75286865 0.69 13.607600688934326\n",
      "760 0.76393276 0.655 0.7525746 0.69 13.772506713867188\n",
      "770 0.76364446 0.655 0.75232553 0.69 13.932415246963501\n",
      "780 0.7633732 0.655 0.75207347 0.69 14.093324184417725\n",
      "790 0.7630941 0.66125 0.75179553 0.69 14.25023365020752\n",
      "800 0.7628131 0.66125 0.7515392 0.69 14.418137788772583\n",
      "810 0.7625342 0.66 0.7512778 0.69 14.581046342849731\n",
      "820 0.76226103 0.66 0.75102407 0.695 14.74695086479187\n",
      "830 0.76199937 0.66 0.7507879 0.7 14.90686845779419\n",
      "840 0.76175684 0.6625 0.7505495 0.705 15.070765495300293\n",
      "850 0.7614874 0.6625 0.75029254 0.705 15.229674339294434\n",
      "860 0.7612144 0.6625 0.7500393 0.705 15.416568756103516\n",
      "870 0.7609727 0.6625 0.7498026 0.705 15.616460084915161\n",
      "880 0.7607328 0.6625 0.74956536 0.705 15.785357236862183\n",
      "890 0.7605085 0.66375 0.74935097 0.705 15.9512619972229\n",
      "900 0.76026726 0.66375 0.7491126 0.705 16.109172344207764\n",
      "910 0.76002526 0.66375 0.7488916 0.705 16.276078939437866\n",
      "920 0.7597668 0.66375 0.7486566 0.71 16.435985565185547\n",
      "930 0.75952226 0.66375 0.7484444 0.71 16.601890563964844\n",
      "940 0.75928617 0.6625 0.7482264 0.715 16.78178882598877\n",
      "950 0.75904053 0.66375 0.74800944 0.715 17.000670671463013\n",
      "960 0.7588083 0.66375 0.74779636 0.715 17.18156147003174\n",
      "970 0.75857365 0.66375 0.7475932 0.72 17.363455772399902\n",
      "980 0.7583391 0.665 0.74738973 0.715 17.544352769851685\n",
      "990 0.7581069 0.66625 0.7471842 0.72 17.71025776863098\n",
      "1000 0.75787926 0.66625 0.7469765 0.72 17.90014910697937\n"
     ]
    },
    {
     "data": {
      "text/plain": [
       "<classificationBinary2.binaryCadreModel at 0x22777a2abe0>"
      ]
     },
     "execution_count": 16,
     "metadata": {},
     "output_type": "execute_result"
    }
   ],
   "source": [
    "scm = binaryCadreModel(M=5, Tmax=1001, record=10)\n",
    "scm.fit(data=Dtr,\n",
    "       targetCol='target',\n",
    "       cadreFts=cadreFts,\n",
    "       predictFts=predictFts,\n",
    "       dataVa=Dva,\n",
    "       progress=True)"
   ]
  },
  {
   "cell_type": "markdown",
   "metadata": {},
   "source": [
    "The metrics attribute of scm contains training and validation metrics values. We can plot them separately. ROC_AUC is the receiver operator characteristic area under the curve (sklearn.metrics.roc_auc_score). PR_AUC is the average precision, i.e., area under the precision-recall curve (sklearn.metrics.average_precision_score).\n",
    "\n",
    "The x-axis in these plots dependent on iteration count."
   ]
  },
  {
   "cell_type": "code",
   "execution_count": 17,
   "metadata": {},
   "outputs": [
    {
     "data": {
      "text/plain": [
       "<matplotlib.axes._subplots.AxesSubplot at 0x227778f3cf8>"
      ]
     },
     "execution_count": 17,
     "metadata": {},
     "output_type": "execute_result"
    },
    {
     "data": {
      "image/png": "[encoded data removed]",
      "text/plain": [
       "<Figure size 432x288 with 1 Axes>"
      ]
     },
     "metadata": {
      "needs_background": "light"
     },
     "output_type": "display_data"
    }
   ],
   "source": [
    "scm.metrics['training'].plot()"
   ]
  },
  {
   "cell_type": "code",
   "execution_count": 18,
   "metadata": {},
   "outputs": [
    {
     "data": {
      "text/plain": [
       "<matplotlib.axes._subplots.AxesSubplot at 0x227794ab470>"
      ]
     },
     "execution_count": 18,
     "metadata": {},
     "output_type": "execute_result"
    },
    {
     "data": {
      "image/png": "[encoded data removed]",
      "text/plain": [
       "<Figure size 432x288 with 1 Axes>"
      ]
     },
     "metadata": {
      "needs_background": "light"
     },
     "output_type": "display_data"
    }
   ],
   "source": [
    "scm.metrics['validation'].plot()"
   ]
  },
  {
   "cell_type": "markdown",
   "metadata": {},
   "source": [
    "Model parameters are stored as pd.DataFrame objects."
   ]
  },
  {
   "cell_type": "code",
   "execution_count": 19,
   "metadata": {},
   "outputs": [
    {
     "data": {
      "text/html": [
       "<div>\n",
       "<style scoped>\n",
       "    .dataframe tbody tr th:only-of-type {\n",
       "        vertical-align: middle;\n",
       "    }\n",
       "\n",
       "    .dataframe tbody tr th {\n",
       "        vertical-align: top;\n",
       "    }\n",
       "\n",
       "    .dataframe thead th {\n",
       "        text-align: right;\n",
       "    }\n",
       "</style>\n",
       "<table border=\"1\" class=\"dataframe\">\n",
       "  <thead>\n",
       "    <tr style=\"text-align: right;\">\n",
       "      <th></th>\n",
       "      <th>0</th>\n",
       "      <th>1</th>\n",
       "      <th>2</th>\n",
       "      <th>3</th>\n",
       "      <th>4</th>\n",
       "    </tr>\n",
       "  </thead>\n",
       "  <tbody>\n",
       "    <tr>\n",
       "      <th>dv0</th>\n",
       "      <td>0.120721</td>\n",
       "      <td>0.093844</td>\n",
       "      <td>0.058915</td>\n",
       "      <td>-0.003124</td>\n",
       "      <td>-0.002593</td>\n",
       "    </tr>\n",
       "    <tr>\n",
       "      <th>dv1</th>\n",
       "      <td>-0.074982</td>\n",
       "      <td>-0.102949</td>\n",
       "      <td>-0.118991</td>\n",
       "      <td>-0.000026</td>\n",
       "      <td>0.000050</td>\n",
       "    </tr>\n",
       "    <tr>\n",
       "      <th>dv2</th>\n",
       "      <td>-0.002046</td>\n",
       "      <td>0.094000</td>\n",
       "      <td>0.180257</td>\n",
       "      <td>0.080697</td>\n",
       "      <td>0.217973</td>\n",
       "    </tr>\n",
       "    <tr>\n",
       "      <th>dv3</th>\n",
       "      <td>0.127287</td>\n",
       "      <td>-0.046809</td>\n",
       "      <td>-0.008243</td>\n",
       "      <td>-0.033597</td>\n",
       "      <td>-0.000005</td>\n",
       "    </tr>\n",
       "    <tr>\n",
       "      <th>dv4</th>\n",
       "      <td>0.208432</td>\n",
       "      <td>0.040007</td>\n",
       "      <td>-0.050242</td>\n",
       "      <td>0.053338</td>\n",
       "      <td>0.041541</td>\n",
       "    </tr>\n",
       "  </tbody>\n",
       "</table>\n",
       "</div>"
      ],
      "text/plain": [
       "            0         1         2         3         4\n",
       "dv0  0.120721  0.093844  0.058915 -0.003124 -0.002593\n",
       "dv1 -0.074982 -0.102949 -0.118991 -0.000026  0.000050\n",
       "dv2 -0.002046  0.094000  0.180257  0.080697  0.217973\n",
       "dv3  0.127287 -0.046809 -0.008243 -0.033597 -0.000005\n",
       "dv4  0.208432  0.040007 -0.050242  0.053338  0.041541"
      ]
     },
     "execution_count": 19,
     "metadata": {},
     "output_type": "execute_result"
    }
   ],
   "source": [
    "scm.W"
   ]
  },
  {
   "cell_type": "code",
   "execution_count": 20,
   "metadata": {},
   "outputs": [
    {
     "data": {
      "text/html": [
       "<div>\n",
       "<style scoped>\n",
       "    .dataframe tbody tr th:only-of-type {\n",
       "        vertical-align: middle;\n",
       "    }\n",
       "\n",
       "    .dataframe tbody tr th {\n",
       "        vertical-align: top;\n",
       "    }\n",
       "\n",
       "    .dataframe thead th {\n",
       "        text-align: right;\n",
       "    }\n",
       "</style>\n",
       "<table border=\"1\" class=\"dataframe\">\n",
       "  <thead>\n",
       "    <tr style=\"text-align: right;\">\n",
       "      <th></th>\n",
       "      <th>0</th>\n",
       "      <th>1</th>\n",
       "      <th>2</th>\n",
       "      <th>3</th>\n",
       "      <th>4</th>\n",
       "    </tr>\n",
       "  </thead>\n",
       "  <tbody>\n",
       "    <tr>\n",
       "      <th>cad0</th>\n",
       "      <td>-0.100156</td>\n",
       "      <td>0.084283</td>\n",
       "      <td>0.005360</td>\n",
       "      <td>0.048513</td>\n",
       "      <td>-0.081715</td>\n",
       "    </tr>\n",
       "    <tr>\n",
       "      <th>cad1</th>\n",
       "      <td>-0.114023</td>\n",
       "      <td>0.035790</td>\n",
       "      <td>-0.004804</td>\n",
       "      <td>0.109489</td>\n",
       "      <td>-0.037671</td>\n",
       "    </tr>\n",
       "    <tr>\n",
       "      <th>cad2</th>\n",
       "      <td>-0.100713</td>\n",
       "      <td>-0.045165</td>\n",
       "      <td>0.280118</td>\n",
       "      <td>0.169836</td>\n",
       "      <td>0.107118</td>\n",
       "    </tr>\n",
       "    <tr>\n",
       "      <th>cad3</th>\n",
       "      <td>0.260824</td>\n",
       "      <td>0.103698</td>\n",
       "      <td>-0.007322</td>\n",
       "      <td>0.068211</td>\n",
       "      <td>0.005900</td>\n",
       "    </tr>\n",
       "    <tr>\n",
       "      <th>cad4</th>\n",
       "      <td>-0.042863</td>\n",
       "      <td>-0.029358</td>\n",
       "      <td>-0.039610</td>\n",
       "      <td>-0.119269</td>\n",
       "      <td>-0.065141</td>\n",
       "    </tr>\n",
       "    <tr>\n",
       "      <th>cad5</th>\n",
       "      <td>0.077348</td>\n",
       "      <td>-0.076923</td>\n",
       "      <td>0.057591</td>\n",
       "      <td>0.071211</td>\n",
       "      <td>-0.077177</td>\n",
       "    </tr>\n",
       "    <tr>\n",
       "      <th>cad6</th>\n",
       "      <td>0.083113</td>\n",
       "      <td>0.028551</td>\n",
       "      <td>0.036153</td>\n",
       "      <td>0.098720</td>\n",
       "      <td>-0.051825</td>\n",
       "    </tr>\n",
       "    <tr>\n",
       "      <th>cad7</th>\n",
       "      <td>0.101556</td>\n",
       "      <td>-0.163074</td>\n",
       "      <td>0.094438</td>\n",
       "      <td>-0.011871</td>\n",
       "      <td>-0.184432</td>\n",
       "    </tr>\n",
       "    <tr>\n",
       "      <th>cad8</th>\n",
       "      <td>-0.025172</td>\n",
       "      <td>-0.066167</td>\n",
       "      <td>-0.037370</td>\n",
       "      <td>0.164598</td>\n",
       "      <td>0.074750</td>\n",
       "    </tr>\n",
       "    <tr>\n",
       "      <th>cad9</th>\n",
       "      <td>-0.046989</td>\n",
       "      <td>-0.141645</td>\n",
       "      <td>-0.051353</td>\n",
       "      <td>0.062336</td>\n",
       "      <td>0.048682</td>\n",
       "    </tr>\n",
       "  </tbody>\n",
       "</table>\n",
       "</div>"
      ],
      "text/plain": [
       "             0         1         2         3         4\n",
       "cad0 -0.100156  0.084283  0.005360  0.048513 -0.081715\n",
       "cad1 -0.114023  0.035790 -0.004804  0.109489 -0.037671\n",
       "cad2 -0.100713 -0.045165  0.280118  0.169836  0.107118\n",
       "cad3  0.260824  0.103698 -0.007322  0.068211  0.005900\n",
       "cad4 -0.042863 -0.029358 -0.039610 -0.119269 -0.065141\n",
       "cad5  0.077348 -0.076923  0.057591  0.071211 -0.077177\n",
       "cad6  0.083113  0.028551  0.036153  0.098720 -0.051825\n",
       "cad7  0.101556 -0.163074  0.094438 -0.011871 -0.184432\n",
       "cad8 -0.025172 -0.066167 -0.037370  0.164598  0.074750\n",
       "cad9 -0.046989 -0.141645 -0.051353  0.062336  0.048682"
      ]
     },
     "execution_count": 20,
     "metadata": {},
     "output_type": "execute_result"
    }
   ],
   "source": [
    "scm.C"
   ]
  },
  {
   "cell_type": "code",
   "execution_count": 21,
   "metadata": {},
   "outputs": [
    {
     "data": {
      "text/html": [
       "<div>\n",
       "<style scoped>\n",
       "    .dataframe tbody tr th:only-of-type {\n",
       "        vertical-align: middle;\n",
       "    }\n",
       "\n",
       "    .dataframe tbody tr th {\n",
       "        vertical-align: top;\n",
       "    }\n",
       "\n",
       "    .dataframe thead th {\n",
       "        text-align: right;\n",
       "    }\n",
       "</style>\n",
       "<table border=\"1\" class=\"dataframe\">\n",
       "  <thead>\n",
       "    <tr style=\"text-align: right;\">\n",
       "      <th></th>\n",
       "      <th>0</th>\n",
       "      <th>1</th>\n",
       "      <th>2</th>\n",
       "      <th>3</th>\n",
       "      <th>4</th>\n",
       "    </tr>\n",
       "  </thead>\n",
       "  <tbody>\n",
       "    <tr>\n",
       "      <th>0</th>\n",
       "      <td>0.21000</td>\n",
       "      <td>0.31375</td>\n",
       "      <td>0.18625</td>\n",
       "      <td>0.26750</td>\n",
       "      <td>0.02250</td>\n",
       "    </tr>\n",
       "    <tr>\n",
       "      <th>1</th>\n",
       "      <td>0.21875</td>\n",
       "      <td>0.30375</td>\n",
       "      <td>0.19250</td>\n",
       "      <td>0.25625</td>\n",
       "      <td>0.02875</td>\n",
       "    </tr>\n",
       "    <tr>\n",
       "      <th>2</th>\n",
       "      <td>0.22125</td>\n",
       "      <td>0.29875</td>\n",
       "      <td>0.20125</td>\n",
       "      <td>0.24750</td>\n",
       "      <td>0.03125</td>\n",
       "    </tr>\n",
       "    <tr>\n",
       "      <th>3</th>\n",
       "      <td>0.22625</td>\n",
       "      <td>0.29375</td>\n",
       "      <td>0.20625</td>\n",
       "      <td>0.24375</td>\n",
       "      <td>0.03000</td>\n",
       "    </tr>\n",
       "    <tr>\n",
       "      <th>4</th>\n",
       "      <td>0.22500</td>\n",
       "      <td>0.29125</td>\n",
       "      <td>0.21000</td>\n",
       "      <td>0.23750</td>\n",
       "      <td>0.03625</td>\n",
       "    </tr>\n",
       "  </tbody>\n",
       "</table>\n",
       "</div>"
      ],
      "text/plain": [
       "         0        1        2        3        4\n",
       "0  0.21000  0.31375  0.18625  0.26750  0.02250\n",
       "1  0.21875  0.30375  0.19250  0.25625  0.02875\n",
       "2  0.22125  0.29875  0.20125  0.24750  0.03125\n",
       "3  0.22625  0.29375  0.20625  0.24375  0.03000\n",
       "4  0.22500  0.29125  0.21000  0.23750  0.03625"
      ]
     },
     "execution_count": 21,
     "metadata": {},
     "output_type": "execute_result"
    }
   ],
   "source": [
    "scm.proportions.head()"
   ]
  },
  {
   "cell_type": "code",
   "execution_count": 22,
   "metadata": {},
   "outputs": [
    {
     "data": {
      "text/plain": [
       "<matplotlib.axes._subplots.AxesSubplot at 0x227795f0278>"
      ]
     },
     "execution_count": 22,
     "metadata": {},
     "output_type": "execute_result"
    },
    {
     "data": {
      "image/png": "[encoded data removed]",
      "text/plain": [
       "<Figure size 432x288 with 1 Axes>"
      ]
     },
     "metadata": {
      "needs_background": "light"
     },
     "output_type": "display_data"
    }
   ],
   "source": [
    "scm.proportions.plot()"
   ]
  },
  {
   "cell_type": "markdown",
   "metadata": {},
   "source": [
    "Cadre 1 (orange) is the largest cadre and contains around 33% of the training data. Cadre 4 (purple) is the smallest. In Alex's code, one cadre disappears halfway through the training process"
   ]
  },
  {
   "cell_type": "code",
   "execution_count": 23,
   "metadata": {},
   "outputs": [],
   "source": [
    "margin, label, cadre_weight, cadre, loss = scm.predictFull(Dva)"
   ]
  },
  {
   "cell_type": "markdown",
   "metadata": {},
   "source": [
    "The predictFull method now also calculates the loss value for the supplied data as the last argument."
   ]
  },
  {
   "cell_type": "code",
   "execution_count": 24,
   "metadata": {},
   "outputs": [
    {
     "data": {
      "text/html": [
       "<div>\n",
       "<style scoped>\n",
       "    .dataframe tbody tr th:only-of-type {\n",
       "        vertical-align: middle;\n",
       "    }\n",
       "\n",
       "    .dataframe tbody tr th {\n",
       "        vertical-align: top;\n",
       "    }\n",
       "\n",
       "    .dataframe thead th {\n",
       "        text-align: right;\n",
       "    }\n",
       "</style>\n",
       "<table border=\"1\" class=\"dataframe\">\n",
       "  <thead>\n",
       "    <tr style=\"text-align: right;\">\n",
       "      <th></th>\n",
       "      <th>loss</th>\n",
       "      <th>accuracy</th>\n",
       "      <th>ROC_AUC</th>\n",
       "      <th>PR_AUC</th>\n",
       "    </tr>\n",
       "  </thead>\n",
       "  <tbody>\n",
       "    <tr>\n",
       "      <th>0</th>\n",
       "      <td>0.698886</td>\n",
       "      <td>0.715</td>\n",
       "      <td>0.798319</td>\n",
       "      <td>0.813482</td>\n",
       "    </tr>\n",
       "  </tbody>\n",
       "</table>\n",
       "</div>"
      ],
      "text/plain": [
       "       loss  accuracy   ROC_AUC    PR_AUC\n",
       "0  0.698886     0.715  0.798319  0.813482"
      ]
     },
     "execution_count": 24,
     "metadata": {},
     "output_type": "execute_result"
    }
   ],
   "source": [
    "scm.scoreMetrics(Dva)"
   ]
  },
  {
   "cell_type": "code",
   "execution_count": null,
   "metadata": {},
   "outputs": [],
   "source": []
  },
  {
   "cell_type": "markdown",
   "metadata": {},
   "source": [
    "**Logistic Regression**"
   ]
  },
  {
   "cell_type": "code",
   "execution_count": 25,
   "metadata": {},
   "outputs": [
    {
     "data": {
      "text/plain": [
       "<matplotlib.axes._subplots.AxesSubplot at 0x227791424a8>"
      ]
     },
     "execution_count": 25,
     "metadata": {},
     "output_type": "execute_result"
    },
    {
     "data": {
      "image/png": "[encoded data removed]",
      "text/plain": [
       "<Figure size 432x288 with 1 Axes>"
      ]
     },
     "metadata": {
      "needs_background": "light"
     },
     "output_type": "display_data"
    }
   ],
   "source": [
    "sns.countplot(x='target',data=z, hue='cadre')"
   ]
  },
  {
   "cell_type": "markdown",
   "metadata": {},
   "source": [
    "Exploratory  - plot histogram to understand distribution of cadres with respect to target"
   ]
  },
  {
   "cell_type": "code",
   "execution_count": null,
   "metadata": {},
   "outputs": [],
   "source": []
  },
  {
   "cell_type": "markdown",
   "metadata": {},
   "source": [
    "Set up dataframe for X features and y features:\n",
    "1. Note that we separate target prediction features from cadre prediction features\n",
    "2. Due to the above, we perform a binomial logistic regression for the target using only the target prediction features (dv0 - dv4)\n",
    "3. Then, we perform a multinomial logistic regression for the cadre assignment using only the cadre prediction features (cad0 - cad9)\n",
    "4. We use the sklearn logistic regression model since the SCM does training and testing as well"
   ]
  },
  {
   "cell_type": "code",
   "execution_count": 27,
   "metadata": {},
   "outputs": [],
   "source": [
    "# import Logistic Regression Module\n",
    "from sklearn.linear_model import LogisticRegression\n",
    "from sklearn import metrics\n",
    "logreg = LogisticRegression()"
   ]
  },
  {
   "cell_type": "markdown",
   "metadata": {},
   "source": [
    "Logistic Regression for cadre 0"
   ]
  },
  {
   "cell_type": "code",
   "execution_count": 72,
   "metadata": {},
   "outputs": [],
   "source": [
    "# select data for each cadre only\n",
    "\n",
    "# Drop row/observation from dataset if cadre is not == 0\n",
    "cadre0 = z[z.cadre == 0] \n",
    "\n",
    "# Select X features for cadre 0\n",
    "cadre0X = cadre0.drop(['cadre', 'index_c', 'target','cad0','cad1','cad2','cad3','cad4','cad5','cad6','cad7','cad8','cad9'], axis=1) \n",
    "\n",
    "# Select y features for cadre 0\n",
    "cadre0y = cadre0['target'] \n",
    "\n",
    "# Run logistic regression\n",
    "X_train, X_test, y_train, y_test = train_test_split(cadre0X, cadre0y, test_size=0.2, random_state=101)\n",
    "cadre0_result = logreg.fit(X_train, y_train)\n",
    "\n",
    "cadre0r = pd.DataFrame(cadre0_result.coef_)\n",
    "cadre0r = cadre0r.T #need to transpose because results appear in array form\n",
    "\n",
    "# rename index and colum for easy identification when merged\n",
    "cadre0r.rename(index = {0: \"dv0\", 1: \"dv1\", 2: \"dv2\", 3: \"dv3\", 4: \"dv4\"}, inplace = True)\n",
    "cadre0r.rename(columns = {0: \"log0\"}, inplace = True)"
   ]
  },
  {
   "cell_type": "markdown",
   "metadata": {},
   "source": [
    "Logistic Regression for cadre 1"
   ]
  },
  {
   "cell_type": "code",
   "execution_count": 73,
   "metadata": {},
   "outputs": [],
   "source": [
    "# Drop row/observation from dataset if cadre is not == 1\n",
    "cadre1 = z[z.cadre == 1] \n",
    "\n",
    "# Select X features for cadre 1\n",
    "cadre1X = cadre1.drop(['cadre', 'index_c', 'target','cad0','cad1','cad2','cad3','cad4','cad5','cad6','cad7','cad8','cad9'], axis=1) \n",
    "\n",
    "# Select y features for cadre 1\n",
    "cadre1y = cadre1['target'] \n",
    "\n",
    "# Run logistic regression\n",
    "X_train, X_test, y_train, y_test = train_test_split(cadre1X, cadre1y, test_size=0.2, random_state=101)\n",
    "cadre1_result = logreg.fit(X_train, y_train)\n",
    "\n",
    "cadre1r = pd.DataFrame(cadre1_result.coef_)\n",
    "cadre1r = cadre1r.T #need to transpose because results appear in array form\n",
    "\n",
    "# rename index and colum for easy identification when merged\n",
    "cadre1r.rename(index = {0: \"dv0\", 1: \"dv1\", 2: \"dv2\", 3: \"dv3\", 4: \"dv4\"}, inplace = True)\n",
    "cadre1r.rename(columns = {0: \"log1\"}, inplace = True)"
   ]
  },
  {
   "cell_type": "markdown",
   "metadata": {},
   "source": [
    "Logistic Regression for cadre 2"
   ]
  },
  {
   "cell_type": "code",
   "execution_count": 74,
   "metadata": {},
   "outputs": [],
   "source": [
    "# Drop row/observation from dataset if cadre is not == 2\n",
    "cadre2 = z[z.cadre == 2] \n",
    "\n",
    "# Select X features for cadre 2\n",
    "cadre2X = cadre2.drop(['cadre', 'index_c', 'target','cad0','cad1','cad2','cad3','cad4','cad5','cad6','cad7','cad8','cad9'], axis=1) \n",
    "\n",
    "# Select y features for cadre 2\n",
    "cadre2y = cadre2['target'] \n",
    "\n",
    "# Run logistic regression\n",
    "X_train, X_test, y_train, y_test = train_test_split(cadre2X, cadre2y, test_size=0.2, random_state=101)\n",
    "cadre2_result = logreg.fit(X_train, y_train)\n",
    "\n",
    "cadre2r = pd.DataFrame(cadre2_result.coef_)\n",
    "cadre2r = cadre2r.T #need to transpose because results appear in array form\n",
    "\n",
    "# rename index and colum for easy identification when merged\n",
    "cadre2r.rename(index = {0: \"dv0\", 1: \"dv1\", 2: \"dv2\", 3: \"dv3\", 4: \"dv4\"}, inplace = True)\n",
    "cadre2r.rename(columns = {0: \"log2\"}, inplace = True)"
   ]
  },
  {
   "cell_type": "markdown",
   "metadata": {},
   "source": [
    "Logistic Regression for cadre 3"
   ]
  },
  {
   "cell_type": "code",
   "execution_count": 75,
   "metadata": {},
   "outputs": [],
   "source": [
    "# Drop row/observation from dataset if cadre is not == 3\n",
    "cadre3 = z[z.cadre == 3] \n",
    "\n",
    "# Select X features for cadre 3\n",
    "cadre3X = cadre3.drop(['cadre', 'index_c', 'target','cad0','cad1','cad2','cad3','cad4','cad5','cad6','cad7','cad8','cad9'], axis=1) \n",
    "\n",
    "# Select y features for cadre 3\n",
    "cadre3y = cadre3['target'] \n",
    "\n",
    "# Run logistic regression\n",
    "X_train, X_test, y_train, y_test = train_test_split(cadre3X, cadre3y, test_size=0.2, random_state=101)\n",
    "cadre3_result = logreg.fit(X_train, y_train)\n",
    "\n",
    "cadre3r = pd.DataFrame(cadre3_result.coef_)\n",
    "cadre3r = cadre3r.T #need to transpose because results appear in array form\n",
    "\n",
    "# rename index and colum for easy identification when merged\n",
    "cadre3r.rename(index = {0: \"dv0\", 1: \"dv1\", 2: \"dv2\", 3: \"dv3\", 4: \"dv4\"}, inplace = True)\n",
    "cadre3r.rename(columns = {0: \"log3\"}, inplace = True)"
   ]
  },
  {
   "cell_type": "markdown",
   "metadata": {},
   "source": [
    "Logistic Regression for cadre 4"
   ]
  },
  {
   "cell_type": "code",
   "execution_count": 76,
   "metadata": {},
   "outputs": [],
   "source": [
    "# Drop row/observation from dataset if cadre is not == 4\n",
    "cadre4 = z[z.cadre == 4] \n",
    "\n",
    "# Select X features for cadre 4\n",
    "cadre4X = cadre4.drop(['cadre', 'index_c', 'target','cad0','cad1','cad2','cad3','cad4','cad5','cad6','cad7','cad8','cad9'], axis=1) \n",
    "\n",
    "# Select y features for cadre 4\n",
    "cadre4y = cadre4['target'] \n",
    "\n",
    "# Run logistic regression\n",
    "X_train, X_test, y_train, y_test = train_test_split(cadre4X, cadre4y, test_size=0.2, random_state=101)\n",
    "cadre4_result = logreg.fit(X_train, y_train)\n",
    "\n",
    "cadre4r = pd.DataFrame(cadre4_result.coef_)\n",
    "cadre4r = cadre4r.T #need to transpose because results appear in array form\n",
    "\n",
    "# rename index and colum for easy identification when merged\n",
    "cadre4r.rename(index = {0: \"dv0\", 1: \"dv1\", 2: \"dv2\", 3: \"dv3\", 4: \"dv4\"}, inplace = True)\n",
    "cadre4r.rename(columns = {0: \"log4\"}, inplace = True)"
   ]
  },
  {
   "cell_type": "markdown",
   "metadata": {},
   "source": [
    "Next, we compare the results from the regular Logit regression with the SCM"
   ]
  },
  {
   "cell_type": "code",
   "execution_count": 70,
   "metadata": {},
   "outputs": [
    {
     "data": {
      "text/html": [
       "<div>\n",
       "<style scoped>\n",
       "    .dataframe tbody tr th:only-of-type {\n",
       "        vertical-align: middle;\n",
       "    }\n",
       "\n",
       "    .dataframe tbody tr th {\n",
       "        vertical-align: top;\n",
       "    }\n",
       "\n",
       "    .dataframe thead th {\n",
       "        text-align: right;\n",
       "    }\n",
       "</style>\n",
       "<table border=\"1\" class=\"dataframe\">\n",
       "  <thead>\n",
       "    <tr style=\"text-align: right;\">\n",
       "      <th></th>\n",
       "      <th>scm0</th>\n",
       "      <th>scm1</th>\n",
       "      <th>scm2</th>\n",
       "      <th>scm3</th>\n",
       "      <th>scm4</th>\n",
       "    </tr>\n",
       "  </thead>\n",
       "  <tbody>\n",
       "    <tr>\n",
       "      <th>dv0</th>\n",
       "      <td>0.120721</td>\n",
       "      <td>0.093844</td>\n",
       "      <td>0.058915</td>\n",
       "      <td>-0.003124</td>\n",
       "      <td>-0.002593</td>\n",
       "    </tr>\n",
       "    <tr>\n",
       "      <th>dv1</th>\n",
       "      <td>-0.074982</td>\n",
       "      <td>-0.102949</td>\n",
       "      <td>-0.118991</td>\n",
       "      <td>-0.000026</td>\n",
       "      <td>0.000050</td>\n",
       "    </tr>\n",
       "    <tr>\n",
       "      <th>dv2</th>\n",
       "      <td>-0.002046</td>\n",
       "      <td>0.094000</td>\n",
       "      <td>0.180257</td>\n",
       "      <td>0.080697</td>\n",
       "      <td>0.217973</td>\n",
       "    </tr>\n",
       "    <tr>\n",
       "      <th>dv3</th>\n",
       "      <td>0.127287</td>\n",
       "      <td>-0.046809</td>\n",
       "      <td>-0.008243</td>\n",
       "      <td>-0.033597</td>\n",
       "      <td>-0.000005</td>\n",
       "    </tr>\n",
       "    <tr>\n",
       "      <th>dv4</th>\n",
       "      <td>0.208432</td>\n",
       "      <td>0.040007</td>\n",
       "      <td>-0.050242</td>\n",
       "      <td>0.053338</td>\n",
       "      <td>0.041541</td>\n",
       "    </tr>\n",
       "  </tbody>\n",
       "</table>\n",
       "</div>"
      ],
      "text/plain": [
       "         scm0      scm1      scm2      scm3      scm4\n",
       "dv0  0.120721  0.093844  0.058915 -0.003124 -0.002593\n",
       "dv1 -0.074982 -0.102949 -0.118991 -0.000026  0.000050\n",
       "dv2 -0.002046  0.094000  0.180257  0.080697  0.217973\n",
       "dv3  0.127287 -0.046809 -0.008243 -0.033597 -0.000005\n",
       "dv4  0.208432  0.040007 -0.050242  0.053338  0.041541"
      ]
     },
     "execution_count": 70,
     "metadata": {},
     "output_type": "execute_result"
    }
   ],
   "source": [
    "# this is our result for running the SCM for our target\n",
    "scm_target = pd.DataFrame(scm.W) \n",
    "\n",
    "# rename index and colum for easy identification when merged\n",
    "scm_target.rename(columns = {0: \"scm0\", 1: \"scm1\", 2: \"scm2\", 3: \"scm3\", 4: \"scm4\"}, inplace = True)\n",
    "\n",
    "scm_target "
   ]
  },
  {
   "cell_type": "code",
   "execution_count": 71,
   "metadata": {},
   "outputs": [
    {
     "data": {
      "text/html": [
       "<div>\n",
       "<style scoped>\n",
       "    .dataframe tbody tr th:only-of-type {\n",
       "        vertical-align: middle;\n",
       "    }\n",
       "\n",
       "    .dataframe tbody tr th {\n",
       "        vertical-align: top;\n",
       "    }\n",
       "\n",
       "    .dataframe thead th {\n",
       "        text-align: right;\n",
       "    }\n",
       "</style>\n",
       "<table border=\"1\" class=\"dataframe\">\n",
       "  <thead>\n",
       "    <tr style=\"text-align: right;\">\n",
       "      <th></th>\n",
       "      <th>scm0</th>\n",
       "      <th>scm1</th>\n",
       "      <th>scm2</th>\n",
       "      <th>scm3</th>\n",
       "      <th>scm4</th>\n",
       "      <th>log0</th>\n",
       "      <th>log1</th>\n",
       "      <th>log2</th>\n",
       "      <th>log3</th>\n",
       "      <th>log4</th>\n",
       "    </tr>\n",
       "  </thead>\n",
       "  <tbody>\n",
       "    <tr>\n",
       "      <th>dv0</th>\n",
       "      <td>0.120721</td>\n",
       "      <td>0.093844</td>\n",
       "      <td>0.058915</td>\n",
       "      <td>-0.003124</td>\n",
       "      <td>-0.002593</td>\n",
       "      <td>0.110749</td>\n",
       "      <td>-1.469676</td>\n",
       "      <td>0.454100</td>\n",
       "      <td>-1.635129</td>\n",
       "      <td>-0.459614</td>\n",
       "    </tr>\n",
       "    <tr>\n",
       "      <th>dv1</th>\n",
       "      <td>-0.074982</td>\n",
       "      <td>-0.102949</td>\n",
       "      <td>-0.118991</td>\n",
       "      <td>-0.000026</td>\n",
       "      <td>0.000050</td>\n",
       "      <td>0.197844</td>\n",
       "      <td>0.233465</td>\n",
       "      <td>-0.706790</td>\n",
       "      <td>-0.013470</td>\n",
       "      <td>-0.463613</td>\n",
       "    </tr>\n",
       "    <tr>\n",
       "      <th>dv2</th>\n",
       "      <td>-0.002046</td>\n",
       "      <td>0.094000</td>\n",
       "      <td>0.180257</td>\n",
       "      <td>0.080697</td>\n",
       "      <td>0.217973</td>\n",
       "      <td>-0.568977</td>\n",
       "      <td>0.976306</td>\n",
       "      <td>0.414327</td>\n",
       "      <td>0.923323</td>\n",
       "      <td>0.799459</td>\n",
       "    </tr>\n",
       "    <tr>\n",
       "      <th>dv3</th>\n",
       "      <td>0.127287</td>\n",
       "      <td>-0.046809</td>\n",
       "      <td>-0.008243</td>\n",
       "      <td>-0.033597</td>\n",
       "      <td>-0.000005</td>\n",
       "      <td>0.706340</td>\n",
       "      <td>2.339101</td>\n",
       "      <td>0.110600</td>\n",
       "      <td>-0.366505</td>\n",
       "      <td>-1.096094</td>\n",
       "    </tr>\n",
       "    <tr>\n",
       "      <th>dv4</th>\n",
       "      <td>0.208432</td>\n",
       "      <td>0.040007</td>\n",
       "      <td>-0.050242</td>\n",
       "      <td>0.053338</td>\n",
       "      <td>0.041541</td>\n",
       "      <td>-0.003251</td>\n",
       "      <td>0.753641</td>\n",
       "      <td>-0.047166</td>\n",
       "      <td>-0.167681</td>\n",
       "      <td>0.850943</td>\n",
       "    </tr>\n",
       "  </tbody>\n",
       "</table>\n",
       "</div>"
      ],
      "text/plain": [
       "         scm0      scm1      scm2      scm3      scm4      log0      log1  \\\n",
       "dv0  0.120721  0.093844  0.058915 -0.003124 -0.002593  0.110749 -1.469676   \n",
       "dv1 -0.074982 -0.102949 -0.118991 -0.000026  0.000050  0.197844  0.233465   \n",
       "dv2 -0.002046  0.094000  0.180257  0.080697  0.217973 -0.568977  0.976306   \n",
       "dv3  0.127287 -0.046809 -0.008243 -0.033597 -0.000005  0.706340  2.339101   \n",
       "dv4  0.208432  0.040007 -0.050242  0.053338  0.041541 -0.003251  0.753641   \n",
       "\n",
       "         log2      log3      log4  \n",
       "dv0  0.454100 -1.635129 -0.459614  \n",
       "dv1 -0.706790 -0.013470 -0.463613  \n",
       "dv2  0.414327  0.923323  0.799459  \n",
       "dv3  0.110600 -0.366505 -1.096094  \n",
       "dv4 -0.047166 -0.167681  0.850943  "
      ]
     },
     "execution_count": 71,
     "metadata": {},
     "output_type": "execute_result"
    }
   ],
   "source": [
    "# join scm coefficients to logistic regression results for individual cadres\n",
    "compare_table = pd.concat([scm_target, cadre0r, cadre1r, cadre2r, cadre3r, cadre4r], axis = 1)\n",
    "compare_table"
   ]
  },
  {
   "cell_type": "markdown",
   "metadata": {},
   "source": [
    "The table above compares the coefficients from teh SMC and Logit Regression. NB: Not sure what to make of this yet. Need more searching "
   ]
  },
  {
   "cell_type": "code",
   "execution_count": null,
   "metadata": {},
   "outputs": [],
   "source": []
  },
  {
   "cell_type": "code",
   "execution_count": null,
   "metadata": {},
   "outputs": [],
   "source": []
  },
  {
   "cell_type": "code",
   "execution_count": null,
   "metadata": {},
   "outputs": [],
   "source": []
  },
  {
   "cell_type": "code",
   "execution_count": null,
   "metadata": {},
   "outputs": [],
   "source": []
  },
  {
   "cell_type": "code",
   "execution_count": null,
   "metadata": {},
   "outputs": [],
   "source": []
  },
  {
   "cell_type": "code",
   "execution_count": null,
   "metadata": {},
   "outputs": [],
   "source": []
  },
  {
   "cell_type": "code",
   "execution_count": null,
   "metadata": {},
   "outputs": [],
   "source": []
  },
  {
   "cell_type": "code",
   "execution_count": null,
   "metadata": {},
   "outputs": [],
   "source": []
  },
  {
   "cell_type": "code",
   "execution_count": null,
   "metadata": {},
   "outputs": [],
   "source": []
  },
  {
   "cell_type": "code",
   "execution_count": null,
   "metadata": {},
   "outputs": [],
   "source": []
  },
  {
   "cell_type": "code",
   "execution_count": null,
   "metadata": {},
   "outputs": [],
   "source": []
  },
  {
   "cell_type": "code",
   "execution_count": null,
   "metadata": {},
   "outputs": [],
   "source": []
  },
  {
   "cell_type": "code",
   "execution_count": null,
   "metadata": {},
   "outputs": [],
   "source": []
  },
  {
   "cell_type": "code",
   "execution_count": null,
   "metadata": {},
   "outputs": [],
   "source": []
  },
  {
   "cell_type": "code",
   "execution_count": null,
   "metadata": {},
   "outputs": [],
   "source": []
  },
  {
   "cell_type": "code",
   "execution_count": null,
   "metadata": {},
   "outputs": [],
   "source": []
  },
  {
   "cell_type": "code",
   "execution_count": null,
   "metadata": {},
   "outputs": [],
   "source": []
  },
  {
   "cell_type": "code",
   "execution_count": null,
   "metadata": {},
   "outputs": [],
   "source": []
  },
  {
   "cell_type": "code",
   "execution_count": null,
   "metadata": {},
   "outputs": [],
   "source": []
  },
  {
   "cell_type": "code",
   "execution_count": null,
   "metadata": {},
   "outputs": [],
   "source": []
  },
  {
   "cell_type": "code",
   "execution_count": null,
   "metadata": {},
   "outputs": [],
   "source": []
  }
 ],
 "metadata": {
  "kernelspec": {
   "display_name": "Python 3",
   "language": "python",
   "name": "python3"
  },
  "language_info": {
   "codemirror_mode": {
    "name": "ipython",
    "version": 3
   },
   "file_extension": ".py",
   "mimetype": "text/x-python",
   "name": "python",
   "nbconvert_exporter": "python",
   "pygments_lexer": "ipython3",
   "version": "3.7.3"
  }
 },
 "nbformat": 4,
 "nbformat_minor": 2
}
