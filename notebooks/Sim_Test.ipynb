{
 "cells": [
  {
   "cell_type": "code",
   "execution_count": 1,
   "metadata": {},
   "outputs": [],
   "source": [
    "from  sklearn.datasets import make_regression\n",
    "from matplotlib import pyplot\n",
    "import pandas as pd    \n",
    "import numpy as np\n",
    "from DGen import DGenerator"
   ]
  },
  {
   "cell_type": "code",
   "execution_count": 2,
   "metadata": {},
   "outputs": [
    {
     "data": {
      "text/html": [
       "<div>\n",
       "<style scoped>\n",
       "    .dataframe tbody tr th:only-of-type {\n",
       "        vertical-align: middle;\n",
       "    }\n",
       "\n",
       "    .dataframe tbody tr th {\n",
       "        vertical-align: top;\n",
       "    }\n",
       "\n",
       "    .dataframe thead th {\n",
       "        text-align: right;\n",
       "    }\n",
       "</style>\n",
       "<table border=\"1\" class=\"dataframe\">\n",
       "  <thead>\n",
       "    <tr style=\"text-align: right;\">\n",
       "      <th></th>\n",
       "      <th>cad0</th>\n",
       "      <th>cad1</th>\n",
       "      <th>cad2</th>\n",
       "      <th>cad3</th>\n",
       "      <th>cad4</th>\n",
       "      <th>cad5</th>\n",
       "      <th>cad6</th>\n",
       "      <th>cad7</th>\n",
       "      <th>cad8</th>\n",
       "      <th>cad9</th>\n",
       "      <th>cadre</th>\n",
       "      <th>index_c</th>\n",
       "    </tr>\n",
       "  </thead>\n",
       "  <tbody>\n",
       "    <tr>\n",
       "      <th>0</th>\n",
       "      <td>0.407586</td>\n",
       "      <td>0.807843</td>\n",
       "      <td>0.554055</td>\n",
       "      <td>0.665715</td>\n",
       "      <td>-0.012889</td>\n",
       "      <td>0.417509</td>\n",
       "      <td>0.204408</td>\n",
       "      <td>2.679182</td>\n",
       "      <td>1.203500</td>\n",
       "      <td>0.672022</td>\n",
       "      <td>0</td>\n",
       "      <td>0</td>\n",
       "    </tr>\n",
       "    <tr>\n",
       "      <th>1</th>\n",
       "      <td>0.618658</td>\n",
       "      <td>-2.052563</td>\n",
       "      <td>0.452358</td>\n",
       "      <td>0.230087</td>\n",
       "      <td>2.379257</td>\n",
       "      <td>-2.735926</td>\n",
       "      <td>0.456032</td>\n",
       "      <td>0.895160</td>\n",
       "      <td>2.123482</td>\n",
       "      <td>0.763162</td>\n",
       "      <td>0</td>\n",
       "      <td>1</td>\n",
       "    </tr>\n",
       "    <tr>\n",
       "      <th>2</th>\n",
       "      <td>-1.087436</td>\n",
       "      <td>-2.567767</td>\n",
       "      <td>1.152164</td>\n",
       "      <td>-1.013228</td>\n",
       "      <td>1.564215</td>\n",
       "      <td>-0.491927</td>\n",
       "      <td>-0.435325</td>\n",
       "      <td>0.893025</td>\n",
       "      <td>2.201165</td>\n",
       "      <td>0.016883</td>\n",
       "      <td>1</td>\n",
       "      <td>0</td>\n",
       "    </tr>\n",
       "    <tr>\n",
       "      <th>3</th>\n",
       "      <td>-0.985153</td>\n",
       "      <td>-0.155276</td>\n",
       "      <td>1.368957</td>\n",
       "      <td>-2.736464</td>\n",
       "      <td>1.163777</td>\n",
       "      <td>-1.515968</td>\n",
       "      <td>1.719803</td>\n",
       "      <td>1.135898</td>\n",
       "      <td>0.901734</td>\n",
       "      <td>-0.074192</td>\n",
       "      <td>1</td>\n",
       "      <td>1</td>\n",
       "    </tr>\n",
       "    <tr>\n",
       "      <th>4</th>\n",
       "      <td>-0.445873</td>\n",
       "      <td>0.685874</td>\n",
       "      <td>-0.194142</td>\n",
       "      <td>-0.166646</td>\n",
       "      <td>-0.173325</td>\n",
       "      <td>0.030802</td>\n",
       "      <td>-1.303100</td>\n",
       "      <td>-1.512265</td>\n",
       "      <td>-0.138765</td>\n",
       "      <td>0.171330</td>\n",
       "      <td>1</td>\n",
       "      <td>0</td>\n",
       "    </tr>\n",
       "    <tr>\n",
       "      <th>5</th>\n",
       "      <td>-0.332921</td>\n",
       "      <td>-0.928602</td>\n",
       "      <td>1.234598</td>\n",
       "      <td>0.661029</td>\n",
       "      <td>-2.033043</td>\n",
       "      <td>-1.818552</td>\n",
       "      <td>0.774966</td>\n",
       "      <td>1.575660</td>\n",
       "      <td>-0.915780</td>\n",
       "      <td>2.713813</td>\n",
       "      <td>2</td>\n",
       "      <td>1</td>\n",
       "    </tr>\n",
       "    <tr>\n",
       "      <th>6</th>\n",
       "      <td>1.523750</td>\n",
       "      <td>1.290230</td>\n",
       "      <td>1.147455</td>\n",
       "      <td>2.785010</td>\n",
       "      <td>-2.763423</td>\n",
       "      <td>2.355840</td>\n",
       "      <td>3.443494</td>\n",
       "      <td>-1.776021</td>\n",
       "      <td>-4.382270</td>\n",
       "      <td>-2.827271</td>\n",
       "      <td>2</td>\n",
       "      <td>0</td>\n",
       "    </tr>\n",
       "    <tr>\n",
       "      <th>7</th>\n",
       "      <td>-0.140432</td>\n",
       "      <td>0.119145</td>\n",
       "      <td>-3.295186</td>\n",
       "      <td>0.834355</td>\n",
       "      <td>0.319064</td>\n",
       "      <td>1.146729</td>\n",
       "      <td>-1.303806</td>\n",
       "      <td>0.766569</td>\n",
       "      <td>0.205183</td>\n",
       "      <td>0.136841</td>\n",
       "      <td>3</td>\n",
       "      <td>1</td>\n",
       "    </tr>\n",
       "    <tr>\n",
       "      <th>8</th>\n",
       "      <td>0.214234</td>\n",
       "      <td>-0.240510</td>\n",
       "      <td>-0.673845</td>\n",
       "      <td>-1.478319</td>\n",
       "      <td>-1.117292</td>\n",
       "      <td>-2.194064</td>\n",
       "      <td>0.803340</td>\n",
       "      <td>-3.791055</td>\n",
       "      <td>-3.135028</td>\n",
       "      <td>0.302713</td>\n",
       "      <td>3</td>\n",
       "      <td>0</td>\n",
       "    </tr>\n",
       "    <tr>\n",
       "      <th>9</th>\n",
       "      <td>-0.468756</td>\n",
       "      <td>0.860097</td>\n",
       "      <td>1.465471</td>\n",
       "      <td>1.715950</td>\n",
       "      <td>1.554221</td>\n",
       "      <td>-1.410200</td>\n",
       "      <td>0.565558</td>\n",
       "      <td>-2.076881</td>\n",
       "      <td>0.487243</td>\n",
       "      <td>-1.086860</td>\n",
       "      <td>3</td>\n",
       "      <td>1</td>\n",
       "    </tr>\n",
       "  </tbody>\n",
       "</table>\n",
       "</div>"
      ],
      "text/plain": [
       "       cad0      cad1      cad2      cad3      cad4      cad5      cad6  \\\n",
       "0  0.407586  0.807843  0.554055  0.665715 -0.012889  0.417509  0.204408   \n",
       "1  0.618658 -2.052563  0.452358  0.230087  2.379257 -2.735926  0.456032   \n",
       "2 -1.087436 -2.567767  1.152164 -1.013228  1.564215 -0.491927 -0.435325   \n",
       "3 -0.985153 -0.155276  1.368957 -2.736464  1.163777 -1.515968  1.719803   \n",
       "4 -0.445873  0.685874 -0.194142 -0.166646 -0.173325  0.030802 -1.303100   \n",
       "5 -0.332921 -0.928602  1.234598  0.661029 -2.033043 -1.818552  0.774966   \n",
       "6  1.523750  1.290230  1.147455  2.785010 -2.763423  2.355840  3.443494   \n",
       "7 -0.140432  0.119145 -3.295186  0.834355  0.319064  1.146729 -1.303806   \n",
       "8  0.214234 -0.240510 -0.673845 -1.478319 -1.117292 -2.194064  0.803340   \n",
       "9 -0.468756  0.860097  1.465471  1.715950  1.554221 -1.410200  0.565558   \n",
       "\n",
       "       cad7      cad8      cad9  cadre  index_c  \n",
       "0  2.679182  1.203500  0.672022      0        0  \n",
       "1  0.895160  2.123482  0.763162      0        1  \n",
       "2  0.893025  2.201165  0.016883      1        0  \n",
       "3  1.135898  0.901734 -0.074192      1        1  \n",
       "4 -1.512265 -0.138765  0.171330      1        0  \n",
       "5  1.575660 -0.915780  2.713813      2        1  \n",
       "6 -1.776021 -4.382270 -2.827271      2        0  \n",
       "7  0.766569  0.205183  0.136841      3        1  \n",
       "8 -3.791055 -3.135028  0.302713      3        0  \n",
       "9 -2.076881  0.487243 -1.086860      3        1  "
      ]
     },
     "execution_count": 2,
     "metadata": {},
     "output_type": "execute_result"
    }
   ],
   "source": [
    "df_cadre = DGenerator.generate_cadres(10, 10, 5, 5, 101)\n",
    "df_cadre"
   ]
  },
  {
   "cell_type": "code",
   "execution_count": 10,
   "metadata": {},
   "outputs": [
    {
     "data": {
      "text/html": [
       "<div>\n",
       "<style scoped>\n",
       "    .dataframe tbody tr th:only-of-type {\n",
       "        vertical-align: middle;\n",
       "    }\n",
       "\n",
       "    .dataframe tbody tr th {\n",
       "        vertical-align: top;\n",
       "    }\n",
       "\n",
       "    .dataframe thead th {\n",
       "        text-align: right;\n",
       "    }\n",
       "</style>\n",
       "<table border=\"1\" class=\"dataframe\">\n",
       "  <thead>\n",
       "    <tr style=\"text-align: right;\">\n",
       "      <th></th>\n",
       "      <th>cadre</th>\n",
       "    </tr>\n",
       "  </thead>\n",
       "  <tbody>\n",
       "    <tr>\n",
       "      <th>0</th>\n",
       "      <td>0</td>\n",
       "    </tr>\n",
       "    <tr>\n",
       "      <th>1</th>\n",
       "      <td>0</td>\n",
       "    </tr>\n",
       "    <tr>\n",
       "      <th>2</th>\n",
       "      <td>1</td>\n",
       "    </tr>\n",
       "    <tr>\n",
       "      <th>3</th>\n",
       "      <td>1</td>\n",
       "    </tr>\n",
       "    <tr>\n",
       "      <th>4</th>\n",
       "      <td>1</td>\n",
       "    </tr>\n",
       "    <tr>\n",
       "      <th>5</th>\n",
       "      <td>2</td>\n",
       "    </tr>\n",
       "    <tr>\n",
       "      <th>6</th>\n",
       "      <td>2</td>\n",
       "    </tr>\n",
       "    <tr>\n",
       "      <th>7</th>\n",
       "      <td>3</td>\n",
       "    </tr>\n",
       "    <tr>\n",
       "      <th>8</th>\n",
       "      <td>3</td>\n",
       "    </tr>\n",
       "    <tr>\n",
       "      <th>9</th>\n",
       "      <td>3</td>\n",
       "    </tr>\n",
       "  </tbody>\n",
       "</table>\n",
       "</div>"
      ],
      "text/plain": [
       "   cadre\n",
       "0      0\n",
       "1      0\n",
       "2      1\n",
       "3      1\n",
       "4      1\n",
       "5      2\n",
       "6      2\n",
       "7      3\n",
       "8      3\n",
       "9      3"
      ]
     },
     "execution_count": 10,
     "metadata": {},
     "output_type": "execute_result"
    }
   ],
   "source": [
    "z = pd.DataFrame(df_cadre['cadre'])\n",
    "z"
   ]
  },
  {
   "cell_type": "code",
   "execution_count": 3,
   "metadata": {},
   "outputs": [
    {
     "ename": "ZeroDivisionError",
     "evalue": "division by zero",
     "output_type": "error",
     "traceback": [
      "\u001b[1;31m---------------------------------------------------------------------------\u001b[0m",
      "\u001b[1;31mZeroDivisionError\u001b[0m                         Traceback (most recent call last)",
      "\u001b[1;32m<ipython-input-3-641713a17dcc>\u001b[0m in \u001b[0;36m<module>\u001b[1;34m()\u001b[0m\n\u001b[1;32m----> 1\u001b[1;33m \u001b[0mdf_variables\u001b[0m \u001b[1;33m=\u001b[0m \u001b[0mDGenerator\u001b[0m\u001b[1;33m.\u001b[0m\u001b[0mgenerate_variables\u001b[0m\u001b[1;33m(\u001b[0m\u001b[0mdf_cadre\u001b[0m\u001b[1;33m,\u001b[0m \u001b[1;36m10\u001b[0m\u001b[1;33m,\u001b[0m \u001b[1;36m5\u001b[0m\u001b[1;33m,\u001b[0m \u001b[1;36m2\u001b[0m\u001b[1;33m,\u001b[0m \u001b[1;36m3\u001b[0m\u001b[1;33m,\u001b[0m \u001b[1;36m10\u001b[0m\u001b[1;33m)\u001b[0m\u001b[1;33m\u001b[0m\u001b[0m\n\u001b[0m\u001b[0;32m      2\u001b[0m \u001b[0mdf_variables\u001b[0m\u001b[1;33m\u001b[0m\u001b[0m\n",
      "\u001b[1;32m~\\Documents\\GitHub\\supervised-cadres\\notebooks\\DGen.py\u001b[0m in \u001b[0;36mgenerate_variables\u001b[1;34m(df, samples, features, classes, informative, seed)\u001b[0m\n\u001b[0;32m     53\u001b[0m         \u001b[1;32mfor\u001b[0m \u001b[0mcadre\u001b[0m \u001b[1;32min\u001b[0m \u001b[0mrange\u001b[0m\u001b[1;33m(\u001b[0m\u001b[0mlen\u001b[0m\u001b[1;33m(\u001b[0m\u001b[0mdf\u001b[0m\u001b[1;33m[\u001b[0m\u001b[1;34m'cadre'\u001b[0m\u001b[1;33m]\u001b[0m\u001b[1;33m)\u001b[0m\u001b[1;33m)\u001b[0m\u001b[1;33m:\u001b[0m\u001b[1;33m\u001b[0m\u001b[0m\n\u001b[0;32m     54\u001b[0m             \u001b[0mseed_c\u001b[0m\u001b[1;33m=\u001b[0m\u001b[0mcadre\u001b[0m\u001b[1;33m*\u001b[0m\u001b[0mseed\u001b[0m\u001b[1;33m\u001b[0m\u001b[0m\n\u001b[1;32m---> 55\u001b[1;33m             \u001b[0mX\u001b[0m\u001b[1;33m,\u001b[0m \u001b[0my\u001b[0m\u001b[1;33m=\u001b[0m \u001b[0mmake_classification\u001b[0m\u001b[1;33m(\u001b[0m\u001b[0mn_samples\u001b[0m\u001b[1;33m=\u001b[0m\u001b[0msamples\u001b[0m\u001b[1;33m/\u001b[0m\u001b[0mcadre\u001b[0m\u001b[1;33m,\u001b[0m \u001b[0mn_features\u001b[0m\u001b[1;33m=\u001b[0m\u001b[0mfeatures\u001b[0m\u001b[1;33m,\u001b[0m \u001b[0mn_informative\u001b[0m\u001b[1;33m=\u001b[0m\u001b[0minformative\u001b[0m\u001b[1;33m,\u001b[0m  \u001b[0mn_classes\u001b[0m\u001b[1;33m=\u001b[0m\u001b[0mclasses\u001b[0m\u001b[1;33m,\u001b[0m  \u001b[0mrandom_state\u001b[0m\u001b[1;33m=\u001b[0m\u001b[0mseed_c\u001b[0m\u001b[1;33m)\u001b[0m\u001b[1;33m\u001b[0m\u001b[0m\n\u001b[0m\u001b[0;32m     56\u001b[0m             \u001b[0mcolumns\u001b[0m\u001b[1;33m=\u001b[0m \u001b[1;33m[\u001b[0m \u001b[1;34m'dv'\u001b[0m\u001b[1;33m+\u001b[0m\u001b[0mstr\u001b[0m\u001b[1;33m(\u001b[0m\u001b[0mx\u001b[0m\u001b[1;33m)\u001b[0m \u001b[1;32mfor\u001b[0m \u001b[0mx\u001b[0m \u001b[1;32min\u001b[0m \u001b[0mrange\u001b[0m\u001b[1;33m(\u001b[0m\u001b[0mfeatures\u001b[0m\u001b[1;33m)\u001b[0m\u001b[1;33m]\u001b[0m\u001b[1;33m\u001b[0m\u001b[0m\n\u001b[0;32m     57\u001b[0m             \u001b[0mdf3\u001b[0m \u001b[1;33m=\u001b[0m \u001b[0mpd\u001b[0m\u001b[1;33m.\u001b[0m\u001b[0mDataFrame\u001b[0m\u001b[1;33m(\u001b[0m\u001b[0mX\u001b[0m\u001b[1;33m,\u001b[0m \u001b[0mcolumns\u001b[0m \u001b[1;33m=\u001b[0m \u001b[0mcolumns\u001b[0m\u001b[1;33m)\u001b[0m\u001b[1;33m\u001b[0m\u001b[0m\n",
      "\u001b[1;31mZeroDivisionError\u001b[0m: division by zero"
     ]
    }
   ],
   "source": [
    "df_variables = DGenerator.generate_variables(df_cadre, 10, 5, 2, 3, 10)\n",
    "df_variables"
   ]
  },
  {
   "cell_type": "code",
   "execution_count": 7,
   "metadata": {},
   "outputs": [
    {
     "data": {
      "text/plain": [
       "4"
      ]
     },
     "execution_count": 7,
     "metadata": {},
     "output_type": "execute_result"
    }
   ],
   "source": [
    "b = len(df_cadre['cadre'].unique())\n",
    "b"
   ]
  },
  {
   "cell_type": "code",
   "execution_count": 4,
   "metadata": {},
   "outputs": [
    {
     "data": {
      "text/plain": [
       "0    0\n",
       "6    0\n",
       "1    1\n",
       "2    1\n",
       "7    1\n",
       "3    2\n",
       "9    2\n",
       "4    3\n",
       "5    3\n",
       "8    3\n",
       "Name: cadre, dtype: int32"
      ]
     },
     "execution_count": 4,
     "metadata": {},
     "output_type": "execute_result"
    }
   ],
   "source": [
    "f = df_cadre['cadre']\n",
    "f.astype(int)\n",
    "f"
   ]
  },
  {
   "cell_type": "code",
   "execution_count": null,
   "metadata": {},
   "outputs": [],
   "source": []
  },
  {
   "cell_type": "code",
   "execution_count": null,
   "metadata": {},
   "outputs": [],
   "source": []
  },
  {
   "cell_type": "code",
   "execution_count": null,
   "metadata": {},
   "outputs": [],
   "source": []
  },
  {
   "cell_type": "code",
   "execution_count": null,
   "metadata": {},
   "outputs": [],
   "source": []
  },
  {
   "cell_type": "code",
   "execution_count": null,
   "metadata": {},
   "outputs": [],
   "source": []
  },
  {
   "cell_type": "code",
   "execution_count": null,
   "metadata": {},
   "outputs": [],
   "source": []
  },
  {
   "cell_type": "code",
   "execution_count": null,
   "metadata": {},
   "outputs": [],
   "source": []
  },
  {
   "cell_type": "code",
   "execution_count": null,
   "metadata": {},
   "outputs": [],
   "source": []
  },
  {
   "cell_type": "code",
   "execution_count": null,
   "metadata": {},
   "outputs": [],
   "source": []
  },
  {
   "cell_type": "code",
   "execution_count": null,
   "metadata": {},
   "outputs": [],
   "source": []
  },
  {
   "cell_type": "code",
   "execution_count": null,
   "metadata": {},
   "outputs": [],
   "source": []
  },
  {
   "cell_type": "code",
   "execution_count": null,
   "metadata": {},
   "outputs": [],
   "source": []
  },
  {
   "cell_type": "code",
   "execution_count": null,
   "metadata": {},
   "outputs": [],
   "source": []
  },
  {
   "cell_type": "code",
   "execution_count": null,
   "metadata": {},
   "outputs": [],
   "source": []
  },
  {
   "cell_type": "code",
   "execution_count": null,
   "metadata": {},
   "outputs": [],
   "source": []
  },
  {
   "cell_type": "code",
   "execution_count": null,
   "metadata": {},
   "outputs": [],
   "source": []
  },
  {
   "cell_type": "code",
   "execution_count": null,
   "metadata": {},
   "outputs": [],
   "source": []
  }
 ],
 "metadata": {
  "kernelspec": {
   "display_name": "Python 3",
   "language": "python",
   "name": "python3"
  },
  "language_info": {
   "codemirror_mode": {
    "name": "ipython",
    "version": 3
   },
   "file_extension": ".py",
   "mimetype": "text/x-python",
   "name": "python",
   "nbconvert_exporter": "python",
   "pygments_lexer": "ipython3",
   "version": "3.7.0"
  }
 },
 "nbformat": 4,
 "nbformat_minor": 2
}
