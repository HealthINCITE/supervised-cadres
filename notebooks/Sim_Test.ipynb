{
 "cells": [
  {
   "cell_type": "markdown",
   "metadata": {},
   "source": [
    "This notebook has three main objectives:\n",
    "1. First we generate synthetic data using the `DGen` module \n",
    "2. Second, we replicate the SCM from the `binaryClassification2.py` module\n",
    "3. Finally, we test the results from step 2, using regular Logistic Regression (since the target is binary)"
   ]
  },
  {
   "cell_type": "markdown",
   "metadata": {},
   "source": [
    "**Import Modules**"
   ]
  },
  {
   "cell_type": "code",
   "execution_count": 1,
   "metadata": {},
   "outputs": [],
   "source": [
    "from  sklearn.datasets import make_regression\n",
    "import pandas as pd    \n",
    "import numpy as np\n",
    "from DGen import DGenerator\n",
    "import matplotlib.pyplot as plt\n",
    "import seaborn as sns\n",
    "%matplotlib inline"
   ]
  },
  {
   "cell_type": "code",
   "execution_count": 2,
   "metadata": {},
   "outputs": [
    {
     "data": {
      "text/plain": [
       "<module 'DGen' from 'C:\\\\Users\\\\kofi_\\\\Documents\\\\GitHub\\\\supervised-cadres\\\\notebooks\\\\DGen.py'>"
      ]
     },
     "execution_count": 2,
     "metadata": {},
     "output_type": "execute_result"
    }
   ],
   "source": [
    "import importlib\n",
    "import DGen\n",
    "importlib.reload(DGen)"
   ]
  },
  {
   "cell_type": "code",
   "execution_count": 3,
   "metadata": {},
   "outputs": [],
   "source": [
    "# imports from binary example 2\n",
    "import sys\n",
    "from scipy.stats import zscore, zmap\n",
    "from sklearn.model_selection import train_test_split, KFold\n",
    "from itertools import product\n",
    "from joblib import Parallel, delayed\n",
    "from multiprocessing import cpu_count"
   ]
  },
  {
   "cell_type": "code",
   "execution_count": 4,
   "metadata": {},
   "outputs": [],
   "source": [
    "sys.path.insert(0, '../cadreModels/')\n",
    "from classificationBinary2 import binaryCadreModel"
   ]
  },
  {
   "cell_type": "markdown",
   "metadata": {},
   "source": [
    "**Generate Cadres and Cadre Features**"
   ]
  },
  {
   "cell_type": "code",
   "execution_count": 5,
   "metadata": {},
   "outputs": [],
   "source": [
    "c_samples = 1000\n",
    "c_features = 10\n",
    "c_informative = 5\n",
    "c_cadres = 5\n",
    "c_seed = 101"
   ]
  },
  {
   "cell_type": "code",
   "execution_count": 6,
   "metadata": {},
   "outputs": [
    {
     "data": {
      "text/html": [
       "<div>\n",
       "<style scoped>\n",
       "    .dataframe tbody tr th:only-of-type {\n",
       "        vertical-align: middle;\n",
       "    }\n",
       "\n",
       "    .dataframe tbody tr th {\n",
       "        vertical-align: top;\n",
       "    }\n",
       "\n",
       "    .dataframe thead th {\n",
       "        text-align: right;\n",
       "    }\n",
       "</style>\n",
       "<table border=\"1\" class=\"dataframe\">\n",
       "  <thead>\n",
       "    <tr style=\"text-align: right;\">\n",
       "      <th></th>\n",
       "      <th>cad0</th>\n",
       "      <th>cad1</th>\n",
       "      <th>cad2</th>\n",
       "      <th>cad3</th>\n",
       "      <th>cad4</th>\n",
       "      <th>cad5</th>\n",
       "      <th>cad6</th>\n",
       "      <th>cad7</th>\n",
       "      <th>cad8</th>\n",
       "      <th>cad9</th>\n",
       "      <th>cadre</th>\n",
       "      <th>index_c</th>\n",
       "    </tr>\n",
       "  </thead>\n",
       "  <tbody>\n",
       "    <tr>\n",
       "      <th>0</th>\n",
       "      <td>-0.269700</td>\n",
       "      <td>-0.052448</td>\n",
       "      <td>-0.491707</td>\n",
       "      <td>1.334820</td>\n",
       "      <td>0.346316</td>\n",
       "      <td>0.685278</td>\n",
       "      <td>-0.077507</td>\n",
       "      <td>0.936459</td>\n",
       "      <td>-0.135235</td>\n",
       "      <td>0.537657</td>\n",
       "      <td>0</td>\n",
       "      <td>0</td>\n",
       "    </tr>\n",
       "    <tr>\n",
       "      <th>1</th>\n",
       "      <td>-0.181931</td>\n",
       "      <td>0.649485</td>\n",
       "      <td>-0.422580</td>\n",
       "      <td>2.394812</td>\n",
       "      <td>-0.080366</td>\n",
       "      <td>2.889139</td>\n",
       "      <td>-0.699968</td>\n",
       "      <td>1.838718</td>\n",
       "      <td>1.496954</td>\n",
       "      <td>0.693969</td>\n",
       "      <td>0</td>\n",
       "      <td>1</td>\n",
       "    </tr>\n",
       "    <tr>\n",
       "      <th>2</th>\n",
       "      <td>-1.140108</td>\n",
       "      <td>-1.620099</td>\n",
       "      <td>-1.200107</td>\n",
       "      <td>1.817854</td>\n",
       "      <td>0.628411</td>\n",
       "      <td>0.961853</td>\n",
       "      <td>0.423366</td>\n",
       "      <td>-0.280959</td>\n",
       "      <td>0.051579</td>\n",
       "      <td>0.164921</td>\n",
       "      <td>0</td>\n",
       "      <td>2</td>\n",
       "    </tr>\n",
       "    <tr>\n",
       "      <th>3</th>\n",
       "      <td>-0.885340</td>\n",
       "      <td>-1.678986</td>\n",
       "      <td>0.836371</td>\n",
       "      <td>3.003209</td>\n",
       "      <td>1.146120</td>\n",
       "      <td>3.661416</td>\n",
       "      <td>0.646925</td>\n",
       "      <td>0.714126</td>\n",
       "      <td>3.296597</td>\n",
       "      <td>-1.059550</td>\n",
       "      <td>0</td>\n",
       "      <td>3</td>\n",
       "    </tr>\n",
       "    <tr>\n",
       "      <th>4</th>\n",
       "      <td>0.738830</td>\n",
       "      <td>1.005992</td>\n",
       "      <td>0.208713</td>\n",
       "      <td>0.909989</td>\n",
       "      <td>-1.547411</td>\n",
       "      <td>-0.346845</td>\n",
       "      <td>0.937485</td>\n",
       "      <td>1.302065</td>\n",
       "      <td>0.286691</td>\n",
       "      <td>-0.643863</td>\n",
       "      <td>0</td>\n",
       "      <td>4</td>\n",
       "    </tr>\n",
       "  </tbody>\n",
       "</table>\n",
       "</div>"
      ],
      "text/plain": [
       "       cad0      cad1      cad2      cad3      cad4      cad5      cad6  \\\n",
       "0 -0.269700 -0.052448 -0.491707  1.334820  0.346316  0.685278 -0.077507   \n",
       "1 -0.181931  0.649485 -0.422580  2.394812 -0.080366  2.889139 -0.699968   \n",
       "2 -1.140108 -1.620099 -1.200107  1.817854  0.628411  0.961853  0.423366   \n",
       "3 -0.885340 -1.678986  0.836371  3.003209  1.146120  3.661416  0.646925   \n",
       "4  0.738830  1.005992  0.208713  0.909989 -1.547411 -0.346845  0.937485   \n",
       "\n",
       "       cad7      cad8      cad9  cadre  index_c  \n",
       "0  0.936459 -0.135235  0.537657      0        0  \n",
       "1  1.838718  1.496954  0.693969      0        1  \n",
       "2 -0.280959  0.051579  0.164921      0        2  \n",
       "3  0.714126  3.296597 -1.059550      0        3  \n",
       "4  1.302065  0.286691 -0.643863      0        4  "
      ]
     },
     "execution_count": 6,
     "metadata": {},
     "output_type": "execute_result"
    }
   ],
   "source": [
    "df_cadre = DGen.DGenerator.generate_cadres(samples = c_samples, features = c_features, informative = c_informative, cadres = c_cadres, seed = c_seed)\n",
    "df_cadre.head()"
   ]
  },
  {
   "cell_type": "markdown",
   "metadata": {},
   "source": [
    "**Generate Features and DVs**"
   ]
  },
  {
   "cell_type": "code",
   "execution_count": 7,
   "metadata": {},
   "outputs": [],
   "source": [
    "t_cadres = 5\n",
    "t_samples = int(c_samples/t_cadres)\n",
    "t_features = 5\n",
    "t_classes = 2\n",
    "t_informative = 3\n",
    "t_seed = 101"
   ]
  },
  {
   "cell_type": "code",
   "execution_count": 8,
   "metadata": {},
   "outputs": [
    {
     "data": {
      "text/html": [
       "<div>\n",
       "<style scoped>\n",
       "    .dataframe tbody tr th:only-of-type {\n",
       "        vertical-align: middle;\n",
       "    }\n",
       "\n",
       "    .dataframe tbody tr th {\n",
       "        vertical-align: top;\n",
       "    }\n",
       "\n",
       "    .dataframe thead th {\n",
       "        text-align: right;\n",
       "    }\n",
       "</style>\n",
       "<table border=\"1\" class=\"dataframe\">\n",
       "  <thead>\n",
       "    <tr style=\"text-align: right;\">\n",
       "      <th></th>\n",
       "      <th>dv0</th>\n",
       "      <th>dv1</th>\n",
       "      <th>dv2</th>\n",
       "      <th>dv3</th>\n",
       "      <th>dv4</th>\n",
       "      <th>target</th>\n",
       "      <th>cadre</th>\n",
       "      <th>index_c</th>\n",
       "    </tr>\n",
       "  </thead>\n",
       "  <tbody>\n",
       "    <tr>\n",
       "      <th>0</th>\n",
       "      <td>0.742269</td>\n",
       "      <td>0.831867</td>\n",
       "      <td>-0.771575</td>\n",
       "      <td>0.842334</td>\n",
       "      <td>0.520759</td>\n",
       "      <td>1</td>\n",
       "      <td>0</td>\n",
       "      <td>0</td>\n",
       "    </tr>\n",
       "    <tr>\n",
       "      <th>1</th>\n",
       "      <td>0.160512</td>\n",
       "      <td>-0.159833</td>\n",
       "      <td>-0.780318</td>\n",
       "      <td>0.409191</td>\n",
       "      <td>-0.527419</td>\n",
       "      <td>1</td>\n",
       "      <td>0</td>\n",
       "      <td>1</td>\n",
       "    </tr>\n",
       "    <tr>\n",
       "      <th>2</th>\n",
       "      <td>0.998435</td>\n",
       "      <td>-0.248226</td>\n",
       "      <td>-0.305384</td>\n",
       "      <td>-1.388785</td>\n",
       "      <td>-0.676256</td>\n",
       "      <td>0</td>\n",
       "      <td>0</td>\n",
       "      <td>2</td>\n",
       "    </tr>\n",
       "    <tr>\n",
       "      <th>3</th>\n",
       "      <td>-1.131430</td>\n",
       "      <td>1.655346</td>\n",
       "      <td>1.174063</td>\n",
       "      <td>2.429695</td>\n",
       "      <td>2.735830</td>\n",
       "      <td>0</td>\n",
       "      <td>0</td>\n",
       "      <td>3</td>\n",
       "    </tr>\n",
       "    <tr>\n",
       "      <th>4</th>\n",
       "      <td>-1.092046</td>\n",
       "      <td>0.077012</td>\n",
       "      <td>0.944960</td>\n",
       "      <td>0.616437</td>\n",
       "      <td>0.733610</td>\n",
       "      <td>0</td>\n",
       "      <td>0</td>\n",
       "      <td>4</td>\n",
       "    </tr>\n",
       "  </tbody>\n",
       "</table>\n",
       "</div>"
      ],
      "text/plain": [
       "        dv0       dv1       dv2       dv3       dv4  target  cadre  index_c\n",
       "0  0.742269  0.831867 -0.771575  0.842334  0.520759       1      0        0\n",
       "1  0.160512 -0.159833 -0.780318  0.409191 -0.527419       1      0        1\n",
       "2  0.998435 -0.248226 -0.305384 -1.388785 -0.676256       0      0        2\n",
       "3 -1.131430  1.655346  1.174063  2.429695  2.735830       0      0        3\n",
       "4 -1.092046  0.077012  0.944960  0.616437  0.733610       0      0        4"
      ]
     },
     "execution_count": 8,
     "metadata": {},
     "output_type": "execute_result"
    }
   ],
   "source": [
    "df_variables = DGenerator.generate_variables(cadres = t_cadres, samples = t_samples, features = t_features, classes = t_classes, informative = t_informative, seed = t_seed)\n",
    "df_variables.head()"
   ]
  },
  {
   "cell_type": "code",
   "execution_count": 9,
   "metadata": {},
   "outputs": [
    {
     "data": {
      "text/html": [
       "<div>\n",
       "<style scoped>\n",
       "    .dataframe tbody tr th:only-of-type {\n",
       "        vertical-align: middle;\n",
       "    }\n",
       "\n",
       "    .dataframe tbody tr th {\n",
       "        vertical-align: top;\n",
       "    }\n",
       "\n",
       "    .dataframe thead th {\n",
       "        text-align: right;\n",
       "    }\n",
       "</style>\n",
       "<table border=\"1\" class=\"dataframe\">\n",
       "  <thead>\n",
       "    <tr style=\"text-align: right;\">\n",
       "      <th></th>\n",
       "      <th>cad0</th>\n",
       "      <th>cad1</th>\n",
       "      <th>cad2</th>\n",
       "      <th>cad3</th>\n",
       "      <th>cad4</th>\n",
       "      <th>cad5</th>\n",
       "      <th>cad6</th>\n",
       "      <th>cad7</th>\n",
       "      <th>cad8</th>\n",
       "      <th>cad9</th>\n",
       "      <th>cadre</th>\n",
       "      <th>index_c</th>\n",
       "      <th>dv0</th>\n",
       "      <th>dv1</th>\n",
       "      <th>dv2</th>\n",
       "      <th>dv3</th>\n",
       "      <th>dv4</th>\n",
       "      <th>target</th>\n",
       "    </tr>\n",
       "  </thead>\n",
       "  <tbody>\n",
       "    <tr>\n",
       "      <th>0</th>\n",
       "      <td>-0.269700</td>\n",
       "      <td>-0.052448</td>\n",
       "      <td>-0.491707</td>\n",
       "      <td>1.334820</td>\n",
       "      <td>0.346316</td>\n",
       "      <td>0.685278</td>\n",
       "      <td>-0.077507</td>\n",
       "      <td>0.936459</td>\n",
       "      <td>-0.135235</td>\n",
       "      <td>0.537657</td>\n",
       "      <td>0</td>\n",
       "      <td>0</td>\n",
       "      <td>0.742269</td>\n",
       "      <td>0.831867</td>\n",
       "      <td>-0.771575</td>\n",
       "      <td>0.842334</td>\n",
       "      <td>0.520759</td>\n",
       "      <td>1</td>\n",
       "    </tr>\n",
       "    <tr>\n",
       "      <th>1</th>\n",
       "      <td>0.203320</td>\n",
       "      <td>1.429266</td>\n",
       "      <td>-2.340578</td>\n",
       "      <td>3.666363</td>\n",
       "      <td>0.666266</td>\n",
       "      <td>-0.237156</td>\n",
       "      <td>2.108665</td>\n",
       "      <td>2.719190</td>\n",
       "      <td>-0.814543</td>\n",
       "      <td>0.104569</td>\n",
       "      <td>0</td>\n",
       "      <td>0</td>\n",
       "      <td>0.742269</td>\n",
       "      <td>0.831867</td>\n",
       "      <td>-0.771575</td>\n",
       "      <td>0.842334</td>\n",
       "      <td>0.520759</td>\n",
       "      <td>1</td>\n",
       "    </tr>\n",
       "    <tr>\n",
       "      <th>2</th>\n",
       "      <td>-0.181931</td>\n",
       "      <td>0.649485</td>\n",
       "      <td>-0.422580</td>\n",
       "      <td>2.394812</td>\n",
       "      <td>-0.080366</td>\n",
       "      <td>2.889139</td>\n",
       "      <td>-0.699968</td>\n",
       "      <td>1.838718</td>\n",
       "      <td>1.496954</td>\n",
       "      <td>0.693969</td>\n",
       "      <td>0</td>\n",
       "      <td>1</td>\n",
       "      <td>0.160512</td>\n",
       "      <td>-0.159833</td>\n",
       "      <td>-0.780318</td>\n",
       "      <td>0.409191</td>\n",
       "      <td>-0.527419</td>\n",
       "      <td>1</td>\n",
       "    </tr>\n",
       "    <tr>\n",
       "      <th>3</th>\n",
       "      <td>-1.140108</td>\n",
       "      <td>-1.620099</td>\n",
       "      <td>-1.200107</td>\n",
       "      <td>1.817854</td>\n",
       "      <td>0.628411</td>\n",
       "      <td>0.961853</td>\n",
       "      <td>0.423366</td>\n",
       "      <td>-0.280959</td>\n",
       "      <td>0.051579</td>\n",
       "      <td>0.164921</td>\n",
       "      <td>0</td>\n",
       "      <td>2</td>\n",
       "      <td>0.998435</td>\n",
       "      <td>-0.248226</td>\n",
       "      <td>-0.305384</td>\n",
       "      <td>-1.388785</td>\n",
       "      <td>-0.676256</td>\n",
       "      <td>0</td>\n",
       "    </tr>\n",
       "    <tr>\n",
       "      <th>4</th>\n",
       "      <td>-0.885340</td>\n",
       "      <td>-1.678986</td>\n",
       "      <td>0.836371</td>\n",
       "      <td>3.003209</td>\n",
       "      <td>1.146120</td>\n",
       "      <td>3.661416</td>\n",
       "      <td>0.646925</td>\n",
       "      <td>0.714126</td>\n",
       "      <td>3.296597</td>\n",
       "      <td>-1.059550</td>\n",
       "      <td>0</td>\n",
       "      <td>3</td>\n",
       "      <td>-1.131430</td>\n",
       "      <td>1.655346</td>\n",
       "      <td>1.174063</td>\n",
       "      <td>2.429695</td>\n",
       "      <td>2.735830</td>\n",
       "      <td>0</td>\n",
       "    </tr>\n",
       "  </tbody>\n",
       "</table>\n",
       "</div>"
      ],
      "text/plain": [
       "       cad0      cad1      cad2      cad3      cad4      cad5      cad6  \\\n",
       "0 -0.269700 -0.052448 -0.491707  1.334820  0.346316  0.685278 -0.077507   \n",
       "1  0.203320  1.429266 -2.340578  3.666363  0.666266 -0.237156  2.108665   \n",
       "2 -0.181931  0.649485 -0.422580  2.394812 -0.080366  2.889139 -0.699968   \n",
       "3 -1.140108 -1.620099 -1.200107  1.817854  0.628411  0.961853  0.423366   \n",
       "4 -0.885340 -1.678986  0.836371  3.003209  1.146120  3.661416  0.646925   \n",
       "\n",
       "       cad7      cad8      cad9  cadre  index_c       dv0       dv1       dv2  \\\n",
       "0  0.936459 -0.135235  0.537657      0        0  0.742269  0.831867 -0.771575   \n",
       "1  2.719190 -0.814543  0.104569      0        0  0.742269  0.831867 -0.771575   \n",
       "2  1.838718  1.496954  0.693969      0        1  0.160512 -0.159833 -0.780318   \n",
       "3 -0.280959  0.051579  0.164921      0        2  0.998435 -0.248226 -0.305384   \n",
       "4  0.714126  3.296597 -1.059550      0        3 -1.131430  1.655346  1.174063   \n",
       "\n",
       "        dv3       dv4  target  \n",
       "0  0.842334  0.520759       1  \n",
       "1  0.842334  0.520759       1  \n",
       "2  0.409191 -0.527419       1  \n",
       "3 -1.388785 -0.676256       0  \n",
       "4  2.429695  2.735830       0  "
      ]
     },
     "execution_count": 9,
     "metadata": {},
     "output_type": "execute_result"
    }
   ],
   "source": [
    "z = pd.merge(df_cadre, df_variables)\n",
    "z.head()"
   ]
  },
  {
   "cell_type": "markdown",
   "metadata": {},
   "source": [
    "**Begin SCM**"
   ]
  },
  {
   "cell_type": "code",
   "execution_count": 10,
   "metadata": {},
   "outputs": [
    {
     "data": {
      "text/html": [
       "<div>\n",
       "<style scoped>\n",
       "    .dataframe tbody tr th:only-of-type {\n",
       "        vertical-align: middle;\n",
       "    }\n",
       "\n",
       "    .dataframe tbody tr th {\n",
       "        vertical-align: top;\n",
       "    }\n",
       "\n",
       "    .dataframe thead th {\n",
       "        text-align: right;\n",
       "    }\n",
       "</style>\n",
       "<table border=\"1\" class=\"dataframe\">\n",
       "  <thead>\n",
       "    <tr style=\"text-align: right;\">\n",
       "      <th></th>\n",
       "      <th>cad0</th>\n",
       "      <th>cad1</th>\n",
       "      <th>cad2</th>\n",
       "      <th>cad3</th>\n",
       "      <th>cad4</th>\n",
       "      <th>cad5</th>\n",
       "      <th>cad6</th>\n",
       "      <th>cad7</th>\n",
       "      <th>cad8</th>\n",
       "      <th>cad9</th>\n",
       "      <th>dv0</th>\n",
       "      <th>dv1</th>\n",
       "      <th>dv2</th>\n",
       "      <th>dv3</th>\n",
       "      <th>dv4</th>\n",
       "      <th>target</th>\n",
       "    </tr>\n",
       "  </thead>\n",
       "  <tbody>\n",
       "    <tr>\n",
       "      <th>0</th>\n",
       "      <td>-0.269700</td>\n",
       "      <td>-0.052448</td>\n",
       "      <td>-0.491707</td>\n",
       "      <td>1.334820</td>\n",
       "      <td>0.346316</td>\n",
       "      <td>0.685278</td>\n",
       "      <td>-0.077507</td>\n",
       "      <td>0.936459</td>\n",
       "      <td>-0.135235</td>\n",
       "      <td>0.537657</td>\n",
       "      <td>0.742269</td>\n",
       "      <td>0.831867</td>\n",
       "      <td>-0.771575</td>\n",
       "      <td>0.842334</td>\n",
       "      <td>0.520759</td>\n",
       "      <td>1</td>\n",
       "    </tr>\n",
       "    <tr>\n",
       "      <th>1</th>\n",
       "      <td>0.203320</td>\n",
       "      <td>1.429266</td>\n",
       "      <td>-2.340578</td>\n",
       "      <td>3.666363</td>\n",
       "      <td>0.666266</td>\n",
       "      <td>-0.237156</td>\n",
       "      <td>2.108665</td>\n",
       "      <td>2.719190</td>\n",
       "      <td>-0.814543</td>\n",
       "      <td>0.104569</td>\n",
       "      <td>0.742269</td>\n",
       "      <td>0.831867</td>\n",
       "      <td>-0.771575</td>\n",
       "      <td>0.842334</td>\n",
       "      <td>0.520759</td>\n",
       "      <td>1</td>\n",
       "    </tr>\n",
       "    <tr>\n",
       "      <th>2</th>\n",
       "      <td>-0.181931</td>\n",
       "      <td>0.649485</td>\n",
       "      <td>-0.422580</td>\n",
       "      <td>2.394812</td>\n",
       "      <td>-0.080366</td>\n",
       "      <td>2.889139</td>\n",
       "      <td>-0.699968</td>\n",
       "      <td>1.838718</td>\n",
       "      <td>1.496954</td>\n",
       "      <td>0.693969</td>\n",
       "      <td>0.160512</td>\n",
       "      <td>-0.159833</td>\n",
       "      <td>-0.780318</td>\n",
       "      <td>0.409191</td>\n",
       "      <td>-0.527419</td>\n",
       "      <td>1</td>\n",
       "    </tr>\n",
       "    <tr>\n",
       "      <th>3</th>\n",
       "      <td>-1.140108</td>\n",
       "      <td>-1.620099</td>\n",
       "      <td>-1.200107</td>\n",
       "      <td>1.817854</td>\n",
       "      <td>0.628411</td>\n",
       "      <td>0.961853</td>\n",
       "      <td>0.423366</td>\n",
       "      <td>-0.280959</td>\n",
       "      <td>0.051579</td>\n",
       "      <td>0.164921</td>\n",
       "      <td>0.998435</td>\n",
       "      <td>-0.248226</td>\n",
       "      <td>-0.305384</td>\n",
       "      <td>-1.388785</td>\n",
       "      <td>-0.676256</td>\n",
       "      <td>0</td>\n",
       "    </tr>\n",
       "    <tr>\n",
       "      <th>4</th>\n",
       "      <td>-0.885340</td>\n",
       "      <td>-1.678986</td>\n",
       "      <td>0.836371</td>\n",
       "      <td>3.003209</td>\n",
       "      <td>1.146120</td>\n",
       "      <td>3.661416</td>\n",
       "      <td>0.646925</td>\n",
       "      <td>0.714126</td>\n",
       "      <td>3.296597</td>\n",
       "      <td>-1.059550</td>\n",
       "      <td>-1.131430</td>\n",
       "      <td>1.655346</td>\n",
       "      <td>1.174063</td>\n",
       "      <td>2.429695</td>\n",
       "      <td>2.735830</td>\n",
       "      <td>0</td>\n",
       "    </tr>\n",
       "  </tbody>\n",
       "</table>\n",
       "</div>"
      ],
      "text/plain": [
       "       cad0      cad1      cad2      cad3      cad4      cad5      cad6  \\\n",
       "0 -0.269700 -0.052448 -0.491707  1.334820  0.346316  0.685278 -0.077507   \n",
       "1  0.203320  1.429266 -2.340578  3.666363  0.666266 -0.237156  2.108665   \n",
       "2 -0.181931  0.649485 -0.422580  2.394812 -0.080366  2.889139 -0.699968   \n",
       "3 -1.140108 -1.620099 -1.200107  1.817854  0.628411  0.961853  0.423366   \n",
       "4 -0.885340 -1.678986  0.836371  3.003209  1.146120  3.661416  0.646925   \n",
       "\n",
       "       cad7      cad8      cad9       dv0       dv1       dv2       dv3  \\\n",
       "0  0.936459 -0.135235  0.537657  0.742269  0.831867 -0.771575  0.842334   \n",
       "1  2.719190 -0.814543  0.104569  0.742269  0.831867 -0.771575  0.842334   \n",
       "2  1.838718  1.496954  0.693969  0.160512 -0.159833 -0.780318  0.409191   \n",
       "3 -0.280959  0.051579  0.164921  0.998435 -0.248226 -0.305384 -1.388785   \n",
       "4  0.714126  3.296597 -1.059550 -1.131430  1.655346  1.174063  2.429695   \n",
       "\n",
       "        dv4  target  \n",
       "0  0.520759       1  \n",
       "1  0.520759       1  \n",
       "2 -0.527419       1  \n",
       "3 -0.676256       0  \n",
       "4  2.735830       0  "
      ]
     },
     "execution_count": 10,
     "metadata": {},
     "output_type": "execute_result"
    }
   ],
   "source": [
    "data = z.drop(['cadre','index_c'], 1)\n",
    "data.head()"
   ]
  },
  {
   "cell_type": "markdown",
   "metadata": {},
   "source": [
    "Alex performs randomized train-test split"
   ]
  },
  {
   "cell_type": "code",
   "execution_count": 11,
   "metadata": {},
   "outputs": [],
   "source": [
    "Dtr, Dva = train_test_split(data, test_size=0.2, random_state=101)"
   ]
  },
  {
   "cell_type": "markdown",
   "metadata": {},
   "source": [
    "Separate cadre prediction features from target prediction features (optional)"
   ]
  },
  {
   "cell_type": "code",
   "execution_count": 12,
   "metadata": {},
   "outputs": [],
   "source": [
    "cadreFts = data.columns[data.columns.str.contains('cad')]\n",
    "predictFts = data.columns[data.columns.str.contains('dv')]"
   ]
  },
  {
   "cell_type": "code",
   "execution_count": 13,
   "metadata": {},
   "outputs": [
    {
     "name": "stdout",
     "output_type": "stream",
     "text": [
      "Index(['cad0', 'cad1', 'cad2', 'cad3', 'cad4', 'cad5', 'cad6', 'cad7', 'cad8',\n",
      "       'cad9'],\n",
      "      dtype='object')\n"
     ]
    }
   ],
   "source": [
    "print(cadreFts)"
   ]
  },
  {
   "cell_type": "code",
   "execution_count": 14,
   "metadata": {},
   "outputs": [
    {
     "name": "stdout",
     "output_type": "stream",
     "text": [
      "Index(['dv0', 'dv1', 'dv2', 'dv3', 'dv4'], dtype='object')\n"
     ]
    }
   ],
   "source": [
    "print(predictFts)"
   ]
  },
  {
   "cell_type": "code",
   "execution_count": 15,
   "metadata": {},
   "outputs": [],
   "source": [
    "features = cadreFts.union(predictFts)"
   ]
  },
  {
   "cell_type": "markdown",
   "metadata": {},
   "source": [
    "Standardize training and validation sets"
   ]
  },
  {
   "cell_type": "code",
   "execution_count": 16,
   "metadata": {},
   "outputs": [],
   "source": [
    "Dva[features] = zmap(Dva[features].values, Dtr[features].values)\n",
    "Dtr[features] = zscore(Dtr[features].values)"
   ]
  },
  {
   "cell_type": "code",
   "execution_count": 17,
   "metadata": {},
   "outputs": [
    {
     "data": {
      "text/html": [
       "<div>\n",
       "<style scoped>\n",
       "    .dataframe tbody tr th:only-of-type {\n",
       "        vertical-align: middle;\n",
       "    }\n",
       "\n",
       "    .dataframe tbody tr th {\n",
       "        vertical-align: top;\n",
       "    }\n",
       "\n",
       "    .dataframe thead th {\n",
       "        text-align: right;\n",
       "    }\n",
       "</style>\n",
       "<table border=\"1\" class=\"dataframe\">\n",
       "  <thead>\n",
       "    <tr style=\"text-align: right;\">\n",
       "      <th></th>\n",
       "      <th>cad0</th>\n",
       "      <th>cad1</th>\n",
       "      <th>cad2</th>\n",
       "      <th>cad3</th>\n",
       "      <th>cad4</th>\n",
       "      <th>cad5</th>\n",
       "      <th>cad6</th>\n",
       "      <th>cad7</th>\n",
       "      <th>cad8</th>\n",
       "      <th>cad9</th>\n",
       "      <th>dv0</th>\n",
       "      <th>dv1</th>\n",
       "      <th>dv2</th>\n",
       "      <th>dv3</th>\n",
       "      <th>dv4</th>\n",
       "      <th>target</th>\n",
       "    </tr>\n",
       "  </thead>\n",
       "  <tbody>\n",
       "    <tr>\n",
       "      <th>545</th>\n",
       "      <td>-2.154437</td>\n",
       "      <td>2.350941</td>\n",
       "      <td>0.817070</td>\n",
       "      <td>0.070597</td>\n",
       "      <td>0.183276</td>\n",
       "      <td>-1.197490</td>\n",
       "      <td>-0.388677</td>\n",
       "      <td>1.305508</td>\n",
       "      <td>0.306209</td>\n",
       "      <td>-1.129895</td>\n",
       "      <td>-0.005245</td>\n",
       "      <td>-0.082945</td>\n",
       "      <td>-0.571209</td>\n",
       "      <td>-1.037102</td>\n",
       "      <td>-0.741244</td>\n",
       "      <td>1</td>\n",
       "    </tr>\n",
       "    <tr>\n",
       "      <th>298</th>\n",
       "      <td>0.422691</td>\n",
       "      <td>-0.888574</td>\n",
       "      <td>0.652249</td>\n",
       "      <td>-2.150756</td>\n",
       "      <td>0.113665</td>\n",
       "      <td>0.704005</td>\n",
       "      <td>-0.669393</td>\n",
       "      <td>-1.346839</td>\n",
       "      <td>-0.103924</td>\n",
       "      <td>1.166866</td>\n",
       "      <td>-0.675350</td>\n",
       "      <td>-1.562780</td>\n",
       "      <td>1.099558</td>\n",
       "      <td>-0.648138</td>\n",
       "      <td>-0.910406</td>\n",
       "      <td>1</td>\n",
       "    </tr>\n",
       "    <tr>\n",
       "      <th>109</th>\n",
       "      <td>-1.709257</td>\n",
       "      <td>1.107386</td>\n",
       "      <td>-1.456361</td>\n",
       "      <td>1.621631</td>\n",
       "      <td>1.374521</td>\n",
       "      <td>-0.643293</td>\n",
       "      <td>-0.104316</td>\n",
       "      <td>1.352251</td>\n",
       "      <td>-1.119829</td>\n",
       "      <td>0.735789</td>\n",
       "      <td>1.480969</td>\n",
       "      <td>1.061496</td>\n",
       "      <td>0.455960</td>\n",
       "      <td>-0.904725</td>\n",
       "      <td>1.227603</td>\n",
       "      <td>1</td>\n",
       "    </tr>\n",
       "    <tr>\n",
       "      <th>837</th>\n",
       "      <td>0.716325</td>\n",
       "      <td>1.027042</td>\n",
       "      <td>0.235127</td>\n",
       "      <td>-0.269846</td>\n",
       "      <td>1.093935</td>\n",
       "      <td>0.525249</td>\n",
       "      <td>-0.917828</td>\n",
       "      <td>0.707867</td>\n",
       "      <td>-0.266655</td>\n",
       "      <td>1.145936</td>\n",
       "      <td>0.949042</td>\n",
       "      <td>0.880073</td>\n",
       "      <td>-0.652981</td>\n",
       "      <td>0.153180</td>\n",
       "      <td>-0.570474</td>\n",
       "      <td>0</td>\n",
       "    </tr>\n",
       "    <tr>\n",
       "      <th>194</th>\n",
       "      <td>1.068916</td>\n",
       "      <td>-1.909257</td>\n",
       "      <td>-0.176414</td>\n",
       "      <td>1.318712</td>\n",
       "      <td>-0.060179</td>\n",
       "      <td>1.498959</td>\n",
       "      <td>0.685068</td>\n",
       "      <td>-0.271883</td>\n",
       "      <td>0.637292</td>\n",
       "      <td>-0.087642</td>\n",
       "      <td>0.964373</td>\n",
       "      <td>0.977965</td>\n",
       "      <td>-0.399152</td>\n",
       "      <td>0.431794</td>\n",
       "      <td>0.965383</td>\n",
       "      <td>1</td>\n",
       "    </tr>\n",
       "  </tbody>\n",
       "</table>\n",
       "</div>"
      ],
      "text/plain": [
       "         cad0      cad1      cad2      cad3      cad4      cad5      cad6  \\\n",
       "545 -2.154437  2.350941  0.817070  0.070597  0.183276 -1.197490 -0.388677   \n",
       "298  0.422691 -0.888574  0.652249 -2.150756  0.113665  0.704005 -0.669393   \n",
       "109 -1.709257  1.107386 -1.456361  1.621631  1.374521 -0.643293 -0.104316   \n",
       "837  0.716325  1.027042  0.235127 -0.269846  1.093935  0.525249 -0.917828   \n",
       "194  1.068916 -1.909257 -0.176414  1.318712 -0.060179  1.498959  0.685068   \n",
       "\n",
       "         cad7      cad8      cad9       dv0       dv1       dv2       dv3  \\\n",
       "545  1.305508  0.306209 -1.129895 -0.005245 -0.082945 -0.571209 -1.037102   \n",
       "298 -1.346839 -0.103924  1.166866 -0.675350 -1.562780  1.099558 -0.648138   \n",
       "109  1.352251 -1.119829  0.735789  1.480969  1.061496  0.455960 -0.904725   \n",
       "837  0.707867 -0.266655  1.145936  0.949042  0.880073 -0.652981  0.153180   \n",
       "194 -0.271883  0.637292 -0.087642  0.964373  0.977965 -0.399152  0.431794   \n",
       "\n",
       "          dv4  target  \n",
       "545 -0.741244       1  \n",
       "298 -0.910406       1  \n",
       "109  1.227603       1  \n",
       "837 -0.570474       0  \n",
       "194  0.965383       1  "
      ]
     },
     "execution_count": 17,
     "metadata": {},
     "output_type": "execute_result"
    }
   ],
   "source": [
    "Dva.head()"
   ]
  },
  {
   "cell_type": "markdown",
   "metadata": {},
   "source": [
    "Define and train SCM model object. We're not going to tune any hyperparameters here. Note that we now supply the binaryCadreModel object with the cadre-assignment features and target-prediction features, as well as the name of the target feature.\n",
    "\n",
    "If we did not supply any cadreFts or targetFts, they default to being every column in data other than targetCol"
   ]
  },
  {
   "cell_type": "code",
   "execution_count": 18,
   "metadata": {},
   "outputs": [
    {
     "name": "stdout",
     "output_type": "stream",
     "text": [
      "WARNING:tensorflow:From C:\\ProgramData\\Anaconda3\\lib\\site-packages\\tensorflow\\python\\framework\\op_def_library.py:263: colocate_with (from tensorflow.python.framework.ops) is deprecated and will be removed in a future version.\n",
      "Instructions for updating:\n",
      "Colocations handled automatically by placer.\n",
      "WARNING:tensorflow:From C:\\ProgramData\\Anaconda3\\lib\\site-packages\\tensorflow\\python\\ops\\math_ops.py:3066: to_int32 (from tensorflow.python.ops.math_ops) is deprecated and will be removed in a future version.\n",
      "Instructions for updating:\n",
      "Use tf.cast instead.\n",
      "0\n",
      "10 0.81969273 0.4975 0.7979695 0.55 0.3396177291870117\n",
      "20 0.81487113 0.51375 0.7941942 0.56 0.8513245582580566\n",
      "30 0.8121096 0.51875 0.7920891 0.57 1.0122339725494385\n",
      "40 0.80993694 0.5275 0.79039353 0.59 1.1781389713287354\n",
      "50 0.80805516 0.5325 0.788998 0.595 1.3440442085266113\n",
      "60 0.806444 0.535 0.7878039 0.6 1.519942045211792\n",
      "70 0.80507827 0.5375 0.78676945 0.6 1.6848487854003906\n",
      "80 0.80389464 0.54 0.78585225 0.595 1.8487563133239746\n",
      "90 0.8027426 0.54 0.7849859 0.595 2.007664203643799\n",
      "100 0.80164075 0.54 0.7841146 0.6 2.1725709438323975\n",
      "110 0.8006424 0.5425 0.783369 0.605 2.332479476928711\n",
      "120 0.79967594 0.545 0.78262025 0.615 2.4943864345550537\n",
      "130 0.7987397 0.54875 0.78191984 0.62 2.653294801712036\n",
      "140 0.79784095 0.55125 0.7812562 0.62 2.818201780319214\n",
      "150 0.7970201 0.55125 0.7806408 0.62 2.9781103134155273\n",
      "160 0.7962076 0.55375 0.78007936 0.62 3.146014928817749\n",
      "170 0.7954519 0.55375 0.77955765 0.615 3.306922197341919\n",
      "180 0.7947002 0.555 0.7790353 0.605 3.4758260250091553\n",
      "190 0.7939647 0.55 0.7785168 0.605 3.6357333660125732\n",
      "200 0.7932859 0.55125 0.7780435 0.605 3.799640655517578\n",
      "210 0.79264104 0.54875 0.7776203 0.605 3.959549903869629\n",
      "220 0.7920353 0.54875 0.77719563 0.61 4.1254541873931885\n",
      "230 0.791459 0.55 0.7768012 0.61 4.28636360168457\n",
      "240 0.7908639 0.55 0.776391 0.61 4.45126748085022\n",
      "250 0.7902784 0.55 0.7760139 0.61 4.6181724071502686\n",
      "260 0.7896903 0.55125 0.775627 0.61 4.788076877593994\n",
      "270 0.7891218 0.54875 0.7752627 0.61 4.946985721588135\n",
      "280 0.7885964 0.55 0.77489954 0.61 5.113889217376709\n",
      "290 0.78807795 0.55125 0.7745366 0.61 5.278796434402466\n",
      "300 0.7876125 0.5525 0.7742124 0.61 5.4546966552734375\n",
      "310 0.78715515 0.555 0.77387786 0.61 5.615602493286133\n",
      "320 0.7866852 0.555 0.7735473 0.61 5.780509948730469\n",
      "330 0.78622556 0.55625 0.77324104 0.61 5.9813947677612305\n",
      "340 0.78575456 0.5575 0.772943 0.61 6.158294677734375\n",
      "350 0.78530407 0.5575 0.7726387 0.61 6.321199417114258\n",
      "360 0.78482985 0.55875 0.7723156 0.6 6.486107110977173\n",
      "370 0.78438246 0.5575 0.77200556 0.6 6.660006761550903\n",
      "380 0.7839253 0.56 0.77169335 0.595 6.855896949768066\n",
      "390 0.783468 0.56 0.77138114 0.595 7.044787406921387\n",
      "400 0.78304476 0.56125 0.7710796 0.595 7.2076942920684814\n",
      "410 0.78263426 0.5625 0.7707986 0.595 7.37160062789917\n",
      "420 0.7822065 0.56375 0.77050036 0.59 7.543501377105713\n",
      "430 0.7818304 0.565 0.77022934 0.59 7.71240758895874\n",
      "440 0.7814778 0.565 0.76997435 0.59 7.889305830001831\n",
      "450 0.7811414 0.565 0.76971173 0.59 8.061207294464111\n",
      "460 0.7807953 0.56625 0.7694604 0.59 8.25609540939331\n",
      "470 0.7804421 0.5675 0.7691921 0.595 8.434993982315063\n",
      "480 0.78008384 0.57125 0.76892006 0.595 8.617889642715454\n",
      "490 0.7797589 0.57125 0.7686714 0.59 8.797785997390747\n",
      "500 0.779452 0.5725 0.7684335 0.59 8.971687078475952\n",
      "510 0.7791492 0.5725 0.7681942 0.59 9.147586107254028\n",
      "520 0.7788416 0.5725 0.7679515 0.59 9.317488193511963\n",
      "530 0.77853227 0.5725 0.76773286 0.59 9.502383470535278\n",
      "540 0.7782079 0.57375 0.7675022 0.59 9.681281566619873\n",
      "550 0.7778892 0.575 0.7672679 0.59 9.863179206848145\n",
      "560 0.777574 0.575 0.7670392 0.595 10.044073104858398\n",
      "570 0.7772595 0.575 0.76680183 0.595 10.221972465515137\n",
      "580 0.7769473 0.5725 0.76656836 0.59 10.418859481811523\n",
      "590 0.7766492 0.57375 0.76633674 0.59 10.613748550415039\n",
      "600 0.7763579 0.57375 0.76612645 0.595 10.785649061203003\n",
      "610 0.7760814 0.57375 0.7659028 0.595 10.953554153442383\n",
      "620 0.7757999 0.575 0.7656696 0.595 11.12245798110962\n",
      "630 0.77551985 0.57625 0.76546496 0.59 11.316346883773804\n",
      "640 0.77523464 0.5775 0.76526535 0.59 11.513234853744507\n",
      "650 0.77495193 0.5775 0.7650653 0.59 11.687134504318237\n",
      "660 0.77467114 0.57875 0.76486045 0.59 11.876028060913086\n",
      "670 0.77439934 0.57875 0.76466143 0.59 12.077912092208862\n",
      "680 0.77413327 0.57875 0.7644623 0.59 12.29079008102417\n",
      "690 0.7738677 0.57875 0.7642585 0.59 12.480681657791138\n",
      "700 0.77360237 0.57875 0.76405895 0.59 12.665575981140137\n",
      "710 0.77333033 0.5775 0.76385385 0.595 12.839478254318237\n",
      "720 0.77308905 0.57625 0.76365274 0.595 13.011378526687622\n",
      "730 0.772846 0.5775 0.7634256 0.595 13.180282592773438\n",
      "740 0.7726083 0.5775 0.76320106 0.595 13.35218334197998\n",
      "750 0.7723794 0.57875 0.76300853 0.6 13.52408504486084\n",
      "760 0.77213985 0.57875 0.76280403 0.6 13.690991401672363\n",
      "770 0.771902 0.57875 0.7626107 0.6 13.863890647888184\n",
      "780 0.77165604 0.57875 0.76242095 0.6 14.03079628944397\n",
      "790 0.7714028 0.57875 0.76223063 0.6 14.202697515487671\n",
      "800 0.77117133 0.575 0.76205176 0.605 14.411582708358765\n",
      "810 0.7709563 0.575 0.7618885 0.605 14.62345838546753\n",
      "820 0.7707297 0.57375 0.7617043 0.6 14.801356077194214\n",
      "830 0.7705143 0.5725 0.76152825 0.605 14.963263511657715\n",
      "840 0.77030456 0.57 0.76135826 0.605 15.123172283172607\n",
      "850 0.770095 0.57125 0.76118326 0.605 15.287079095840454\n",
      "860 0.7698874 0.57125 0.76100767 0.61 15.455981969833374\n",
      "870 0.76968145 0.5725 0.76084965 0.61 15.61988878250122\n",
      "880 0.76946783 0.57375 0.7606817 0.61 15.780797243118286\n",
      "890 0.76926076 0.5725 0.76050687 0.61 15.9726881980896\n",
      "900 0.7690741 0.57 0.7603448 0.61 16.16457772254944\n",
      "910 0.7688934 0.5725 0.7601788 0.615 16.33647918701172\n",
      "920 0.7686975 0.5725 0.75999475 0.615 16.513377904891968\n",
      "930 0.76851934 0.5725 0.7598298 0.615 16.67528462409973\n",
      "940 0.7683424 0.5725 0.75968856 0.615 16.841191053390503\n",
      "950 0.7681586 0.57125 0.759553 0.615 17.001099348068237\n",
      "960 0.76795727 0.57125 0.75938845 0.62 17.167004585266113\n",
      "970 0.7677685 0.5725 0.7592302 0.625 17.328912258148193\n",
      "980 0.76757985 0.57375 0.75906056 0.625 17.494816541671753\n",
      "990 0.7673849 0.575 0.758896 0.63 17.652727842330933\n",
      "1000 0.76719135 0.57375 0.75873446 0.63 17.815633535385132\n"
     ]
    },
    {
     "data": {
      "text/plain": [
       "<classificationBinary2.binaryCadreModel at 0x252794b90b8>"
      ]
     },
     "execution_count": 18,
     "metadata": {},
     "output_type": "execute_result"
    }
   ],
   "source": [
    "scm = binaryCadreModel(M=5, Tmax=1001, record=10)\n",
    "scm.fit(data=Dtr,\n",
    "       targetCol='target',\n",
    "       cadreFts=cadreFts,\n",
    "       predictFts=predictFts,\n",
    "       dataVa=Dva,\n",
    "       progress=True)"
   ]
  },
  {
   "cell_type": "markdown",
   "metadata": {},
   "source": [
    "The metrics attribute of scm contains training and validation metrics values. We can plot them separately. ROC_AUC is the receiver operator characteristic area under the curve (sklearn.metrics.roc_auc_score). PR_AUC is the average precision, i.e., area under the precision-recall curve (sklearn.metrics.average_precision_score).\n",
    "\n",
    "The x-axis in these plots dependent on iteration count."
   ]
  },
  {
   "cell_type": "code",
   "execution_count": 19,
   "metadata": {},
   "outputs": [
    {
     "data": {
      "text/plain": [
       "<matplotlib.axes._subplots.AxesSubplot at 0x2527b0d2668>"
      ]
     },
     "execution_count": 19,
     "metadata": {},
     "output_type": "execute_result"
    },
    {
     "data": {
      "image/png": "[encoded data removed]",
      "text/plain": [
       "<Figure size 432x288 with 1 Axes>"
      ]
     },
     "metadata": {
      "needs_background": "light"
     },
     "output_type": "display_data"
    }
   ],
   "source": [
    "scm.metrics['training'].plot()"
   ]
  },
  {
   "cell_type": "code",
   "execution_count": 20,
   "metadata": {},
   "outputs": [
    {
     "data": {
      "text/plain": [
       "<matplotlib.axes._subplots.AxesSubplot at 0x2527b09c940>"
      ]
     },
     "execution_count": 20,
     "metadata": {},
     "output_type": "execute_result"
    },
    {
     "data": {
      "image/png": "[encoded data removed]",
      "text/plain": [
       "<Figure size 432x288 with 1 Axes>"
      ]
     },
     "metadata": {
      "needs_background": "light"
     },
     "output_type": "display_data"
    }
   ],
   "source": [
    "scm.metrics['validation'].plot()"
   ]
  },
  {
   "cell_type": "markdown",
   "metadata": {},
   "source": [
    "Model parameters are stored as pd.DataFrame objects."
   ]
  },
  {
   "cell_type": "code",
   "execution_count": 21,
   "metadata": {},
   "outputs": [
    {
     "data": {
      "text/html": [
       "<div>\n",
       "<style scoped>\n",
       "    .dataframe tbody tr th:only-of-type {\n",
       "        vertical-align: middle;\n",
       "    }\n",
       "\n",
       "    .dataframe tbody tr th {\n",
       "        vertical-align: top;\n",
       "    }\n",
       "\n",
       "    .dataframe thead th {\n",
       "        text-align: right;\n",
       "    }\n",
       "</style>\n",
       "<table border=\"1\" class=\"dataframe\">\n",
       "  <thead>\n",
       "    <tr style=\"text-align: right;\">\n",
       "      <th></th>\n",
       "      <th>0</th>\n",
       "      <th>1</th>\n",
       "      <th>2</th>\n",
       "      <th>3</th>\n",
       "      <th>4</th>\n",
       "    </tr>\n",
       "  </thead>\n",
       "  <tbody>\n",
       "    <tr>\n",
       "      <th>dv0</th>\n",
       "      <td>0.090924</td>\n",
       "      <td>0.111742</td>\n",
       "      <td>0.061834</td>\n",
       "      <td>-0.018099</td>\n",
       "      <td>0.000006</td>\n",
       "    </tr>\n",
       "    <tr>\n",
       "      <th>dv1</th>\n",
       "      <td>-0.117178</td>\n",
       "      <td>-0.190656</td>\n",
       "      <td>-0.035490</td>\n",
       "      <td>-0.058830</td>\n",
       "      <td>0.000039</td>\n",
       "    </tr>\n",
       "    <tr>\n",
       "      <th>dv2</th>\n",
       "      <td>-0.034164</td>\n",
       "      <td>0.000203</td>\n",
       "      <td>-0.002941</td>\n",
       "      <td>-0.026531</td>\n",
       "      <td>0.010806</td>\n",
       "    </tr>\n",
       "    <tr>\n",
       "      <th>dv3</th>\n",
       "      <td>0.069366</td>\n",
       "      <td>-0.017781</td>\n",
       "      <td>-0.092101</td>\n",
       "      <td>-0.132937</td>\n",
       "      <td>0.000002</td>\n",
       "    </tr>\n",
       "    <tr>\n",
       "      <th>dv4</th>\n",
       "      <td>0.189577</td>\n",
       "      <td>0.023990</td>\n",
       "      <td>0.000154</td>\n",
       "      <td>0.129112</td>\n",
       "      <td>0.000018</td>\n",
       "    </tr>\n",
       "  </tbody>\n",
       "</table>\n",
       "</div>"
      ],
      "text/plain": [
       "            0         1         2         3         4\n",
       "dv0  0.090924  0.111742  0.061834 -0.018099  0.000006\n",
       "dv1 -0.117178 -0.190656 -0.035490 -0.058830  0.000039\n",
       "dv2 -0.034164  0.000203 -0.002941 -0.026531  0.010806\n",
       "dv3  0.069366 -0.017781 -0.092101 -0.132937  0.000002\n",
       "dv4  0.189577  0.023990  0.000154  0.129112  0.000018"
      ]
     },
     "execution_count": 21,
     "metadata": {},
     "output_type": "execute_result"
    }
   ],
   "source": [
    "scm.W"
   ]
  },
  {
   "cell_type": "code",
   "execution_count": 22,
   "metadata": {},
   "outputs": [
    {
     "data": {
      "text/html": [
       "<div>\n",
       "<style scoped>\n",
       "    .dataframe tbody tr th:only-of-type {\n",
       "        vertical-align: middle;\n",
       "    }\n",
       "\n",
       "    .dataframe tbody tr th {\n",
       "        vertical-align: top;\n",
       "    }\n",
       "\n",
       "    .dataframe thead th {\n",
       "        text-align: right;\n",
       "    }\n",
       "</style>\n",
       "<table border=\"1\" class=\"dataframe\">\n",
       "  <thead>\n",
       "    <tr style=\"text-align: right;\">\n",
       "      <th></th>\n",
       "      <th>0</th>\n",
       "      <th>1</th>\n",
       "      <th>2</th>\n",
       "      <th>3</th>\n",
       "      <th>4</th>\n",
       "    </tr>\n",
       "  </thead>\n",
       "  <tbody>\n",
       "    <tr>\n",
       "      <th>cad0</th>\n",
       "      <td>-0.107487</td>\n",
       "      <td>0.066797</td>\n",
       "      <td>0.004057</td>\n",
       "      <td>0.019727</td>\n",
       "      <td>-0.028480</td>\n",
       "    </tr>\n",
       "    <tr>\n",
       "      <th>cad1</th>\n",
       "      <td>-0.066480</td>\n",
       "      <td>-0.004489</td>\n",
       "      <td>-0.106007</td>\n",
       "      <td>0.147838</td>\n",
       "      <td>-0.041786</td>\n",
       "    </tr>\n",
       "    <tr>\n",
       "      <th>cad2</th>\n",
       "      <td>-0.123771</td>\n",
       "      <td>-0.065864</td>\n",
       "      <td>0.208864</td>\n",
       "      <td>0.267744</td>\n",
       "      <td>0.166578</td>\n",
       "    </tr>\n",
       "    <tr>\n",
       "      <th>cad3</th>\n",
       "      <td>0.213110</td>\n",
       "      <td>0.047393</td>\n",
       "      <td>0.011035</td>\n",
       "      <td>0.022677</td>\n",
       "      <td>0.109100</td>\n",
       "    </tr>\n",
       "    <tr>\n",
       "      <th>cad4</th>\n",
       "      <td>-0.053790</td>\n",
       "      <td>-0.040860</td>\n",
       "      <td>-0.037207</td>\n",
       "      <td>-0.101696</td>\n",
       "      <td>-0.049296</td>\n",
       "    </tr>\n",
       "    <tr>\n",
       "      <th>cad5</th>\n",
       "      <td>0.114451</td>\n",
       "      <td>-0.125554</td>\n",
       "      <td>0.096509</td>\n",
       "      <td>0.029080</td>\n",
       "      <td>-0.049512</td>\n",
       "    </tr>\n",
       "    <tr>\n",
       "      <th>cad6</th>\n",
       "      <td>0.117584</td>\n",
       "      <td>-0.040664</td>\n",
       "      <td>0.034950</td>\n",
       "      <td>0.117837</td>\n",
       "      <td>-0.041652</td>\n",
       "    </tr>\n",
       "    <tr>\n",
       "      <th>cad7</th>\n",
       "      <td>0.081884</td>\n",
       "      <td>-0.197996</td>\n",
       "      <td>0.041142</td>\n",
       "      <td>0.068900</td>\n",
       "      <td>-0.112460</td>\n",
       "    </tr>\n",
       "    <tr>\n",
       "      <th>cad8</th>\n",
       "      <td>0.010580</td>\n",
       "      <td>-0.110121</td>\n",
       "      <td>-0.016330</td>\n",
       "      <td>0.090266</td>\n",
       "      <td>0.112398</td>\n",
       "    </tr>\n",
       "    <tr>\n",
       "      <th>cad9</th>\n",
       "      <td>-0.059382</td>\n",
       "      <td>-0.127775</td>\n",
       "      <td>-0.033480</td>\n",
       "      <td>0.027139</td>\n",
       "      <td>0.035601</td>\n",
       "    </tr>\n",
       "  </tbody>\n",
       "</table>\n",
       "</div>"
      ],
      "text/plain": [
       "             0         1         2         3         4\n",
       "cad0 -0.107487  0.066797  0.004057  0.019727 -0.028480\n",
       "cad1 -0.066480 -0.004489 -0.106007  0.147838 -0.041786\n",
       "cad2 -0.123771 -0.065864  0.208864  0.267744  0.166578\n",
       "cad3  0.213110  0.047393  0.011035  0.022677  0.109100\n",
       "cad4 -0.053790 -0.040860 -0.037207 -0.101696 -0.049296\n",
       "cad5  0.114451 -0.125554  0.096509  0.029080 -0.049512\n",
       "cad6  0.117584 -0.040664  0.034950  0.117837 -0.041652\n",
       "cad7  0.081884 -0.197996  0.041142  0.068900 -0.112460\n",
       "cad8  0.010580 -0.110121 -0.016330  0.090266  0.112398\n",
       "cad9 -0.059382 -0.127775 -0.033480  0.027139  0.035601"
      ]
     },
     "execution_count": 22,
     "metadata": {},
     "output_type": "execute_result"
    }
   ],
   "source": [
    "scm.C"
   ]
  },
  {
   "cell_type": "code",
   "execution_count": 23,
   "metadata": {},
   "outputs": [
    {
     "data": {
      "text/html": [
       "<div>\n",
       "<style scoped>\n",
       "    .dataframe tbody tr th:only-of-type {\n",
       "        vertical-align: middle;\n",
       "    }\n",
       "\n",
       "    .dataframe tbody tr th {\n",
       "        vertical-align: top;\n",
       "    }\n",
       "\n",
       "    .dataframe thead th {\n",
       "        text-align: right;\n",
       "    }\n",
       "</style>\n",
       "<table border=\"1\" class=\"dataframe\">\n",
       "  <thead>\n",
       "    <tr style=\"text-align: right;\">\n",
       "      <th></th>\n",
       "      <th>0</th>\n",
       "      <th>1</th>\n",
       "      <th>2</th>\n",
       "      <th>3</th>\n",
       "      <th>4</th>\n",
       "    </tr>\n",
       "  </thead>\n",
       "  <tbody>\n",
       "    <tr>\n",
       "      <th>0</th>\n",
       "      <td>0.20875</td>\n",
       "      <td>0.31625</td>\n",
       "      <td>0.19125</td>\n",
       "      <td>0.26750</td>\n",
       "      <td>0.01625</td>\n",
       "    </tr>\n",
       "    <tr>\n",
       "      <th>1</th>\n",
       "      <td>0.21500</td>\n",
       "      <td>0.31125</td>\n",
       "      <td>0.18125</td>\n",
       "      <td>0.27250</td>\n",
       "      <td>0.02000</td>\n",
       "    </tr>\n",
       "    <tr>\n",
       "      <th>2</th>\n",
       "      <td>0.21500</td>\n",
       "      <td>0.30750</td>\n",
       "      <td>0.18000</td>\n",
       "      <td>0.27500</td>\n",
       "      <td>0.02250</td>\n",
       "    </tr>\n",
       "    <tr>\n",
       "      <th>3</th>\n",
       "      <td>0.22250</td>\n",
       "      <td>0.30125</td>\n",
       "      <td>0.17500</td>\n",
       "      <td>0.27750</td>\n",
       "      <td>0.02375</td>\n",
       "    </tr>\n",
       "    <tr>\n",
       "      <th>4</th>\n",
       "      <td>0.22875</td>\n",
       "      <td>0.29500</td>\n",
       "      <td>0.17375</td>\n",
       "      <td>0.27875</td>\n",
       "      <td>0.02375</td>\n",
       "    </tr>\n",
       "  </tbody>\n",
       "</table>\n",
       "</div>"
      ],
      "text/plain": [
       "         0        1        2        3        4\n",
       "0  0.20875  0.31625  0.19125  0.26750  0.01625\n",
       "1  0.21500  0.31125  0.18125  0.27250  0.02000\n",
       "2  0.21500  0.30750  0.18000  0.27500  0.02250\n",
       "3  0.22250  0.30125  0.17500  0.27750  0.02375\n",
       "4  0.22875  0.29500  0.17375  0.27875  0.02375"
      ]
     },
     "execution_count": 23,
     "metadata": {},
     "output_type": "execute_result"
    }
   ],
   "source": [
    "scm.proportions.head()"
   ]
  },
  {
   "cell_type": "code",
   "execution_count": 24,
   "metadata": {},
   "outputs": [
    {
     "data": {
      "text/plain": [
       "<matplotlib.axes._subplots.AxesSubplot at 0x2527b1a9fd0>"
      ]
     },
     "execution_count": 24,
     "metadata": {},
     "output_type": "execute_result"
    },
    {
     "data": {
      "image/png": "[encoded data removed]",
      "text/plain": [
       "<Figure size 432x288 with 1 Axes>"
      ]
     },
     "metadata": {
      "needs_background": "light"
     },
     "output_type": "display_data"
    }
   ],
   "source": [
    "scm.proportions.plot()"
   ]
  },
  {
   "cell_type": "markdown",
   "metadata": {},
   "source": [
    "Cadre 3 (red) is the largest cadre and contains around 33% of the training data. Cadre 4 (purple) is the smallest. In Alex's code, one cadre disappears halfway through the training process"
   ]
  },
  {
   "cell_type": "code",
   "execution_count": 25,
   "metadata": {},
   "outputs": [],
   "source": [
    "margin, label, cadre_weight, cadre, loss = scm.predictFull(Dva)"
   ]
  },
  {
   "cell_type": "markdown",
   "metadata": {},
   "source": [
    "The predictFull method now also calculates the loss value for the supplied data as the last argument."
   ]
  },
  {
   "cell_type": "code",
   "execution_count": 26,
   "metadata": {},
   "outputs": [
    {
     "data": {
      "text/html": [
       "<div>\n",
       "<style scoped>\n",
       "    .dataframe tbody tr th:only-of-type {\n",
       "        vertical-align: middle;\n",
       "    }\n",
       "\n",
       "    .dataframe tbody tr th {\n",
       "        vertical-align: top;\n",
       "    }\n",
       "\n",
       "    .dataframe thead th {\n",
       "        text-align: right;\n",
       "    }\n",
       "</style>\n",
       "<table border=\"1\" class=\"dataframe\">\n",
       "  <thead>\n",
       "    <tr style=\"text-align: right;\">\n",
       "      <th></th>\n",
       "      <th>loss</th>\n",
       "      <th>accuracy</th>\n",
       "      <th>ROC_AUC</th>\n",
       "      <th>PR_AUC</th>\n",
       "    </tr>\n",
       "  </thead>\n",
       "  <tbody>\n",
       "    <tr>\n",
       "      <th>0</th>\n",
       "      <td>0.713904</td>\n",
       "      <td>0.63</td>\n",
       "      <td>0.68932</td>\n",
       "      <td>0.725545</td>\n",
       "    </tr>\n",
       "  </tbody>\n",
       "</table>\n",
       "</div>"
      ],
      "text/plain": [
       "       loss  accuracy  ROC_AUC    PR_AUC\n",
       "0  0.713904      0.63  0.68932  0.725545"
      ]
     },
     "execution_count": 26,
     "metadata": {},
     "output_type": "execute_result"
    }
   ],
   "source": [
    "scm.scoreMetrics(Dva)"
   ]
  },
  {
   "cell_type": "code",
   "execution_count": null,
   "metadata": {},
   "outputs": [],
   "source": []
  },
  {
   "cell_type": "markdown",
   "metadata": {},
   "source": [
    "**Logistic Regression**"
   ]
  },
  {
   "cell_type": "code",
   "execution_count": 27,
   "metadata": {},
   "outputs": [
    {
     "data": {
      "text/plain": [
       "<matplotlib.axes._subplots.AxesSubplot at 0x2527ab60c50>"
      ]
     },
     "execution_count": 27,
     "metadata": {},
     "output_type": "execute_result"
    },
    {
     "data": {
      "image/png": "[encoded data removed]",
      "text/plain": [
       "<Figure size 432x288 with 1 Axes>"
      ]
     },
     "metadata": {
      "needs_background": "light"
     },
     "output_type": "display_data"
    }
   ],
   "source": [
    "sns.countplot(x='target',data=z, hue='cadre')"
   ]
  },
  {
   "cell_type": "markdown",
   "metadata": {},
   "source": [
    "Exploratory  - plot histogram to understand distribution of cadres with respect to target"
   ]
  },
  {
   "cell_type": "code",
   "execution_count": null,
   "metadata": {},
   "outputs": [],
   "source": []
  },
  {
   "cell_type": "code",
   "execution_count": 56,
   "metadata": {},
   "outputs": [],
   "source": [
    "# import Logistic Regression Module\n",
    "from sklearn.linear_model import LogisticRegression\n",
    "from sklearn import metrics\n",
    "from sklearn.metrics import classification_report\n",
    "from sklearn.metrics import confusion_matrix\n",
    "lr = LogisticRegression()"
   ]
  },
  {
   "cell_type": "markdown",
   "metadata": {},
   "source": [
    "Set up dataframe for X features and y features:\n",
    "1. Note that we separate target prediction features from cadre prediction features\n",
    "2. Due to the above, we perform a binomial logistic regression for the target using only the target prediction features (dv0 - dv4)\n",
    "3. We use the sklearn logistic regression model since the SCM does training and testing as well"
   ]
  },
  {
   "cell_type": "code",
   "execution_count": null,
   "metadata": {},
   "outputs": [],
   "source": []
  },
  {
   "cell_type": "markdown",
   "metadata": {},
   "source": [
    "Logistic Regression (using target prediction features) for entire dataset irrespective of cadre"
   ]
  },
  {
   "cell_type": "code",
   "execution_count": 37,
   "metadata": {},
   "outputs": [
    {
     "data": {
      "text/plain": [
       "array([[-0.15832333, -0.29531694, -0.04598114, -0.0707512 ,  0.27109829]])"
      ]
     },
     "execution_count": 37,
     "metadata": {},
     "output_type": "execute_result"
    }
   ],
   "source": [
    "X = data.drop(['target','cad0','cad1','cad2','cad3','cad4','cad5','cad6','cad7','cad8','cad9'], 1)\n",
    "y = data['target']\n",
    "\n",
    "# Run logistic regression\n",
    "X_train, X_test, y_train, y_test = train_test_split(X, y, test_size=0.2, random_state=101)\n",
    "result = lr.fit(X_train, y_train)\n",
    "\n",
    "#display coefficients\n",
    "result.coef_"
   ]
  },
  {
   "cell_type": "code",
   "execution_count": 47,
   "metadata": {},
   "outputs": [],
   "source": [
    "pred = lr.predict(X_test)"
   ]
  },
  {
   "cell_type": "code",
   "execution_count": 54,
   "metadata": {},
   "outputs": [
    {
     "name": "stdout",
     "output_type": "stream",
     "text": [
      "              precision    recall  f1-score   support\n",
      "\n",
      "           0       0.59      0.66      0.62        97\n",
      "           1       0.64      0.56      0.60       103\n",
      "\n",
      "   micro avg       0.61      0.61      0.61       200\n",
      "   macro avg       0.61      0.61      0.61       200\n",
      "weighted avg       0.61      0.61      0.61       200\n",
      "\n"
     ]
    }
   ],
   "source": [
    "print(classification_report(y_test, pred))"
   ]
  },
  {
   "cell_type": "code",
   "execution_count": 57,
   "metadata": {},
   "outputs": [
    {
     "data": {
      "text/plain": [
       "array([[64, 33],\n",
       "       [45, 58]], dtype=int64)"
      ]
     },
     "execution_count": 57,
     "metadata": {},
     "output_type": "execute_result"
    }
   ],
   "source": [
    "confusion_matrix(y_test, pred)"
   ]
  },
  {
   "cell_type": "code",
   "execution_count": null,
   "metadata": {},
   "outputs": [],
   "source": []
  },
  {
   "cell_type": "code",
   "execution_count": null,
   "metadata": {},
   "outputs": [],
   "source": []
  },
  {
   "cell_type": "markdown",
   "metadata": {},
   "source": [
    "Logistic Regression for cadre 0"
   ]
  },
  {
   "cell_type": "code",
   "execution_count": 72,
   "metadata": {},
   "outputs": [],
   "source": [
    "# select data for each cadre only\n",
    "\n",
    "# Drop row/observation from dataset if cadre is not == 0\n",
    "cadre0 = z[z.cadre == 0] \n",
    "\n",
    "# Select X features for cadre 0\n",
    "cadre0X = cadre0.drop(['cadre', 'index_c', 'target','cad0','cad1','cad2','cad3','cad4','cad5','cad6','cad7','cad8','cad9'], axis=1) \n",
    "\n",
    "# Select y features for cadre 0\n",
    "cadre0y = cadre0['target'] \n",
    "\n",
    "# Run logistic regression\n",
    "X_train, X_test, y_train, y_test = train_test_split(cadre0X, cadre0y, test_size=0.2, random_state=101)\n",
    "cadre0_result = logreg.fit(X_train, y_train)\n",
    "\n",
    "cadre0r = pd.DataFrame(cadre0_result.coef_)\n",
    "cadre0r = cadre0r.T #need to transpose because results appear in array form\n",
    "\n",
    "# rename index and colum for easy identification when merged\n",
    "cadre0r.rename(index = {0: \"dv0\", 1: \"dv1\", 2: \"dv2\", 3: \"dv3\", 4: \"dv4\"}, inplace = True)\n",
    "cadre0r.rename(columns = {0: \"log0\"}, inplace = True)"
   ]
  },
  {
   "cell_type": "markdown",
   "metadata": {},
   "source": [
    "Logistic Regression for cadre 1"
   ]
  },
  {
   "cell_type": "code",
   "execution_count": 73,
   "metadata": {},
   "outputs": [],
   "source": [
    "# Drop row/observation from dataset if cadre is not == 1\n",
    "cadre1 = z[z.cadre == 1] \n",
    "\n",
    "# Select X features for cadre 1\n",
    "cadre1X = cadre1.drop(['cadre', 'index_c', 'target','cad0','cad1','cad2','cad3','cad4','cad5','cad6','cad7','cad8','cad9'], axis=1) \n",
    "\n",
    "# Select y features for cadre 1\n",
    "cadre1y = cadre1['target'] \n",
    "\n",
    "# Run logistic regression\n",
    "X_train, X_test, y_train, y_test = train_test_split(cadre1X, cadre1y, test_size=0.2, random_state=101)\n",
    "cadre1_result = logreg.fit(X_train, y_train)\n",
    "\n",
    "cadre1r = pd.DataFrame(cadre1_result.coef_)\n",
    "cadre1r = cadre1r.T #need to transpose because results appear in array form\n",
    "\n",
    "# rename index and colum for easy identification when merged\n",
    "cadre1r.rename(index = {0: \"dv0\", 1: \"dv1\", 2: \"dv2\", 3: \"dv3\", 4: \"dv4\"}, inplace = True)\n",
    "cadre1r.rename(columns = {0: \"log1\"}, inplace = True)"
   ]
  },
  {
   "cell_type": "markdown",
   "metadata": {},
   "source": [
    "Logistic Regression for cadre 2"
   ]
  },
  {
   "cell_type": "code",
   "execution_count": 74,
   "metadata": {},
   "outputs": [],
   "source": [
    "# Drop row/observation from dataset if cadre is not == 2\n",
    "cadre2 = z[z.cadre == 2] \n",
    "\n",
    "# Select X features for cadre 2\n",
    "cadre2X = cadre2.drop(['cadre', 'index_c', 'target','cad0','cad1','cad2','cad3','cad4','cad5','cad6','cad7','cad8','cad9'], axis=1) \n",
    "\n",
    "# Select y features for cadre 2\n",
    "cadre2y = cadre2['target'] \n",
    "\n",
    "# Run logistic regression\n",
    "X_train, X_test, y_train, y_test = train_test_split(cadre2X, cadre2y, test_size=0.2, random_state=101)\n",
    "cadre2_result = logreg.fit(X_train, y_train)\n",
    "\n",
    "cadre2r = pd.DataFrame(cadre2_result.coef_)\n",
    "cadre2r = cadre2r.T #need to transpose because results appear in array form\n",
    "\n",
    "# rename index and colum for easy identification when merged\n",
    "cadre2r.rename(index = {0: \"dv0\", 1: \"dv1\", 2: \"dv2\", 3: \"dv3\", 4: \"dv4\"}, inplace = True)\n",
    "cadre2r.rename(columns = {0: \"log2\"}, inplace = True)"
   ]
  },
  {
   "cell_type": "markdown",
   "metadata": {},
   "source": [
    "Logistic Regression for cadre 3"
   ]
  },
  {
   "cell_type": "code",
   "execution_count": 75,
   "metadata": {},
   "outputs": [],
   "source": [
    "# Drop row/observation from dataset if cadre is not == 3\n",
    "cadre3 = z[z.cadre == 3] \n",
    "\n",
    "# Select X features for cadre 3\n",
    "cadre3X = cadre3.drop(['cadre', 'index_c', 'target','cad0','cad1','cad2','cad3','cad4','cad5','cad6','cad7','cad8','cad9'], axis=1) \n",
    "\n",
    "# Select y features for cadre 3\n",
    "cadre3y = cadre3['target'] \n",
    "\n",
    "# Run logistic regression\n",
    "X_train, X_test, y_train, y_test = train_test_split(cadre3X, cadre3y, test_size=0.2, random_state=101)\n",
    "cadre3_result = logreg.fit(X_train, y_train)\n",
    "\n",
    "cadre3r = pd.DataFrame(cadre3_result.coef_)\n",
    "cadre3r = cadre3r.T #need to transpose because results appear in array form\n",
    "\n",
    "# rename index and colum for easy identification when merged\n",
    "cadre3r.rename(index = {0: \"dv0\", 1: \"dv1\", 2: \"dv2\", 3: \"dv3\", 4: \"dv4\"}, inplace = True)\n",
    "cadre3r.rename(columns = {0: \"log3\"}, inplace = True)"
   ]
  },
  {
   "cell_type": "markdown",
   "metadata": {},
   "source": [
    "Logistic Regression for cadre 4"
   ]
  },
  {
   "cell_type": "code",
   "execution_count": 76,
   "metadata": {},
   "outputs": [],
   "source": [
    "# Drop row/observation from dataset if cadre is not == 4\n",
    "cadre4 = z[z.cadre == 4] \n",
    "\n",
    "# Select X features for cadre 4\n",
    "cadre4X = cadre4.drop(['cadre', 'index_c', 'target','cad0','cad1','cad2','cad3','cad4','cad5','cad6','cad7','cad8','cad9'], axis=1) \n",
    "\n",
    "# Select y features for cadre 4\n",
    "cadre4y = cadre4['target'] \n",
    "\n",
    "# Run logistic regression\n",
    "X_train, X_test, y_train, y_test = train_test_split(cadre4X, cadre4y, test_size=0.2, random_state=101)\n",
    "cadre4_result = logreg.fit(X_train, y_train)\n",
    "\n",
    "cadre4r = pd.DataFrame(cadre4_result.coef_)\n",
    "cadre4r = cadre4r.T #need to transpose because results appear in array form\n",
    "\n",
    "# rename index and colum for easy identification when merged\n",
    "cadre4r.rename(index = {0: \"dv0\", 1: \"dv1\", 2: \"dv2\", 3: \"dv3\", 4: \"dv4\"}, inplace = True)\n",
    "cadre4r.rename(columns = {0: \"log4\"}, inplace = True)"
   ]
  },
  {
   "cell_type": "markdown",
   "metadata": {},
   "source": [
    "Next, we compare the results from the regular Logit regression with the SCM"
   ]
  },
  {
   "cell_type": "code",
   "execution_count": 70,
   "metadata": {},
   "outputs": [
    {
     "data": {
      "text/html": [
       "<div>\n",
       "<style scoped>\n",
       "    .dataframe tbody tr th:only-of-type {\n",
       "        vertical-align: middle;\n",
       "    }\n",
       "\n",
       "    .dataframe tbody tr th {\n",
       "        vertical-align: top;\n",
       "    }\n",
       "\n",
       "    .dataframe thead th {\n",
       "        text-align: right;\n",
       "    }\n",
       "</style>\n",
       "<table border=\"1\" class=\"dataframe\">\n",
       "  <thead>\n",
       "    <tr style=\"text-align: right;\">\n",
       "      <th></th>\n",
       "      <th>scm0</th>\n",
       "      <th>scm1</th>\n",
       "      <th>scm2</th>\n",
       "      <th>scm3</th>\n",
       "      <th>scm4</th>\n",
       "    </tr>\n",
       "  </thead>\n",
       "  <tbody>\n",
       "    <tr>\n",
       "      <th>dv0</th>\n",
       "      <td>0.120721</td>\n",
       "      <td>0.093844</td>\n",
       "      <td>0.058915</td>\n",
       "      <td>-0.003124</td>\n",
       "      <td>-0.002593</td>\n",
       "    </tr>\n",
       "    <tr>\n",
       "      <th>dv1</th>\n",
       "      <td>-0.074982</td>\n",
       "      <td>-0.102949</td>\n",
       "      <td>-0.118991</td>\n",
       "      <td>-0.000026</td>\n",
       "      <td>0.000050</td>\n",
       "    </tr>\n",
       "    <tr>\n",
       "      <th>dv2</th>\n",
       "      <td>-0.002046</td>\n",
       "      <td>0.094000</td>\n",
       "      <td>0.180257</td>\n",
       "      <td>0.080697</td>\n",
       "      <td>0.217973</td>\n",
       "    </tr>\n",
       "    <tr>\n",
       "      <th>dv3</th>\n",
       "      <td>0.127287</td>\n",
       "      <td>-0.046809</td>\n",
       "      <td>-0.008243</td>\n",
       "      <td>-0.033597</td>\n",
       "      <td>-0.000005</td>\n",
       "    </tr>\n",
       "    <tr>\n",
       "      <th>dv4</th>\n",
       "      <td>0.208432</td>\n",
       "      <td>0.040007</td>\n",
       "      <td>-0.050242</td>\n",
       "      <td>0.053338</td>\n",
       "      <td>0.041541</td>\n",
       "    </tr>\n",
       "  </tbody>\n",
       "</table>\n",
       "</div>"
      ],
      "text/plain": [
       "         scm0      scm1      scm2      scm3      scm4\n",
       "dv0  0.120721  0.093844  0.058915 -0.003124 -0.002593\n",
       "dv1 -0.074982 -0.102949 -0.118991 -0.000026  0.000050\n",
       "dv2 -0.002046  0.094000  0.180257  0.080697  0.217973\n",
       "dv3  0.127287 -0.046809 -0.008243 -0.033597 -0.000005\n",
       "dv4  0.208432  0.040007 -0.050242  0.053338  0.041541"
      ]
     },
     "execution_count": 70,
     "metadata": {},
     "output_type": "execute_result"
    }
   ],
   "source": [
    "# this is our result for running the SCM for our target\n",
    "scm_target = pd.DataFrame(scm.W) \n",
    "\n",
    "# rename index and colum for easy identification when merged\n",
    "scm_target.rename(columns = {0: \"scm0\", 1: \"scm1\", 2: \"scm2\", 3: \"scm3\", 4: \"scm4\"}, inplace = True)\n",
    "\n",
    "scm_target "
   ]
  },
  {
   "cell_type": "code",
   "execution_count": 71,
   "metadata": {},
   "outputs": [
    {
     "data": {
      "text/html": [
       "<div>\n",
       "<style scoped>\n",
       "    .dataframe tbody tr th:only-of-type {\n",
       "        vertical-align: middle;\n",
       "    }\n",
       "\n",
       "    .dataframe tbody tr th {\n",
       "        vertical-align: top;\n",
       "    }\n",
       "\n",
       "    .dataframe thead th {\n",
       "        text-align: right;\n",
       "    }\n",
       "</style>\n",
       "<table border=\"1\" class=\"dataframe\">\n",
       "  <thead>\n",
       "    <tr style=\"text-align: right;\">\n",
       "      <th></th>\n",
       "      <th>scm0</th>\n",
       "      <th>scm1</th>\n",
       "      <th>scm2</th>\n",
       "      <th>scm3</th>\n",
       "      <th>scm4</th>\n",
       "      <th>log0</th>\n",
       "      <th>log1</th>\n",
       "      <th>log2</th>\n",
       "      <th>log3</th>\n",
       "      <th>log4</th>\n",
       "    </tr>\n",
       "  </thead>\n",
       "  <tbody>\n",
       "    <tr>\n",
       "      <th>dv0</th>\n",
       "      <td>0.120721</td>\n",
       "      <td>0.093844</td>\n",
       "      <td>0.058915</td>\n",
       "      <td>-0.003124</td>\n",
       "      <td>-0.002593</td>\n",
       "      <td>0.110749</td>\n",
       "      <td>-1.469676</td>\n",
       "      <td>0.454100</td>\n",
       "      <td>-1.635129</td>\n",
       "      <td>-0.459614</td>\n",
       "    </tr>\n",
       "    <tr>\n",
       "      <th>dv1</th>\n",
       "      <td>-0.074982</td>\n",
       "      <td>-0.102949</td>\n",
       "      <td>-0.118991</td>\n",
       "      <td>-0.000026</td>\n",
       "      <td>0.000050</td>\n",
       "      <td>0.197844</td>\n",
       "      <td>0.233465</td>\n",
       "      <td>-0.706790</td>\n",
       "      <td>-0.013470</td>\n",
       "      <td>-0.463613</td>\n",
       "    </tr>\n",
       "    <tr>\n",
       "      <th>dv2</th>\n",
       "      <td>-0.002046</td>\n",
       "      <td>0.094000</td>\n",
       "      <td>0.180257</td>\n",
       "      <td>0.080697</td>\n",
       "      <td>0.217973</td>\n",
       "      <td>-0.568977</td>\n",
       "      <td>0.976306</td>\n",
       "      <td>0.414327</td>\n",
       "      <td>0.923323</td>\n",
       "      <td>0.799459</td>\n",
       "    </tr>\n",
       "    <tr>\n",
       "      <th>dv3</th>\n",
       "      <td>0.127287</td>\n",
       "      <td>-0.046809</td>\n",
       "      <td>-0.008243</td>\n",
       "      <td>-0.033597</td>\n",
       "      <td>-0.000005</td>\n",
       "      <td>0.706340</td>\n",
       "      <td>2.339101</td>\n",
       "      <td>0.110600</td>\n",
       "      <td>-0.366505</td>\n",
       "      <td>-1.096094</td>\n",
       "    </tr>\n",
       "    <tr>\n",
       "      <th>dv4</th>\n",
       "      <td>0.208432</td>\n",
       "      <td>0.040007</td>\n",
       "      <td>-0.050242</td>\n",
       "      <td>0.053338</td>\n",
       "      <td>0.041541</td>\n",
       "      <td>-0.003251</td>\n",
       "      <td>0.753641</td>\n",
       "      <td>-0.047166</td>\n",
       "      <td>-0.167681</td>\n",
       "      <td>0.850943</td>\n",
       "    </tr>\n",
       "  </tbody>\n",
       "</table>\n",
       "</div>"
      ],
      "text/plain": [
       "         scm0      scm1      scm2      scm3      scm4      log0      log1  \\\n",
       "dv0  0.120721  0.093844  0.058915 -0.003124 -0.002593  0.110749 -1.469676   \n",
       "dv1 -0.074982 -0.102949 -0.118991 -0.000026  0.000050  0.197844  0.233465   \n",
       "dv2 -0.002046  0.094000  0.180257  0.080697  0.217973 -0.568977  0.976306   \n",
       "dv3  0.127287 -0.046809 -0.008243 -0.033597 -0.000005  0.706340  2.339101   \n",
       "dv4  0.208432  0.040007 -0.050242  0.053338  0.041541 -0.003251  0.753641   \n",
       "\n",
       "         log2      log3      log4  \n",
       "dv0  0.454100 -1.635129 -0.459614  \n",
       "dv1 -0.706790 -0.013470 -0.463613  \n",
       "dv2  0.414327  0.923323  0.799459  \n",
       "dv3  0.110600 -0.366505 -1.096094  \n",
       "dv4 -0.047166 -0.167681  0.850943  "
      ]
     },
     "execution_count": 71,
     "metadata": {},
     "output_type": "execute_result"
    }
   ],
   "source": [
    "# join scm coefficients to logistic regression results for individual cadres\n",
    "compare_table = pd.concat([scm_target, cadre0r, cadre1r, cadre2r, cadre3r, cadre4r], axis = 1)\n",
    "compare_table"
   ]
  },
  {
   "cell_type": "markdown",
   "metadata": {},
   "source": [
    "The table above compares the coefficients from teh SMC and Logit Regression. NB: Not sure what to make of this yet. Need more searching "
   ]
  },
  {
   "cell_type": "code",
   "execution_count": null,
   "metadata": {},
   "outputs": [],
   "source": []
  },
  {
   "cell_type": "code",
   "execution_count": null,
   "metadata": {},
   "outputs": [],
   "source": []
  },
  {
   "cell_type": "code",
   "execution_count": null,
   "metadata": {},
   "outputs": [],
   "source": []
  },
  {
   "cell_type": "code",
   "execution_count": null,
   "metadata": {},
   "outputs": [],
   "source": []
  },
  {
   "cell_type": "code",
   "execution_count": null,
   "metadata": {},
   "outputs": [],
   "source": []
  },
  {
   "cell_type": "code",
   "execution_count": null,
   "metadata": {},
   "outputs": [],
   "source": []
  },
  {
   "cell_type": "code",
   "execution_count": null,
   "metadata": {},
   "outputs": [],
   "source": []
  },
  {
   "cell_type": "code",
   "execution_count": null,
   "metadata": {},
   "outputs": [],
   "source": []
  },
  {
   "cell_type": "code",
   "execution_count": null,
   "metadata": {},
   "outputs": [],
   "source": []
  },
  {
   "cell_type": "code",
   "execution_count": null,
   "metadata": {},
   "outputs": [],
   "source": []
  },
  {
   "cell_type": "code",
   "execution_count": null,
   "metadata": {},
   "outputs": [],
   "source": []
  },
  {
   "cell_type": "code",
   "execution_count": null,
   "metadata": {},
   "outputs": [],
   "source": []
  },
  {
   "cell_type": "code",
   "execution_count": null,
   "metadata": {},
   "outputs": [],
   "source": []
  },
  {
   "cell_type": "code",
   "execution_count": null,
   "metadata": {},
   "outputs": [],
   "source": []
  },
  {
   "cell_type": "code",
   "execution_count": null,
   "metadata": {},
   "outputs": [],
   "source": []
  },
  {
   "cell_type": "code",
   "execution_count": null,
   "metadata": {},
   "outputs": [],
   "source": []
  },
  {
   "cell_type": "code",
   "execution_count": null,
   "metadata": {},
   "outputs": [],
   "source": []
  },
  {
   "cell_type": "code",
   "execution_count": null,
   "metadata": {},
   "outputs": [],
   "source": []
  },
  {
   "cell_type": "code",
   "execution_count": null,
   "metadata": {},
   "outputs": [],
   "source": []
  }
 ],
 "metadata": {
  "kernelspec": {
   "display_name": "Python 3",
   "language": "python",
   "name": "python3"
  },
  "language_info": {
   "codemirror_mode": {
    "name": "ipython",
    "version": 3
   },
   "file_extension": ".py",
   "mimetype": "text/x-python",
   "name": "python",
   "nbconvert_exporter": "python",
   "pygments_lexer": "ipython3",
   "version": "3.7.3"
  }
 },
 "nbformat": 4,
 "nbformat_minor": 2
}
