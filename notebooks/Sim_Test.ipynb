{
 "cells": [
  {
   "cell_type": "code",
   "execution_count": 135,
   "metadata": {},
   "outputs": [
    {
     "name": "stderr",
     "output_type": "stream",
     "text": [
      "'wget' is not recognized as an internal or external command,\n",
      "operable program or batch file.\n"
     ]
    }
   ],
   "source": [
    "#for running on colab\n",
    "#!wget https://raw.githubusercontent.com/HealthINCITE/supervised-cadres/travis/notebooks/DGen.py && git clone https://github.com/newalexander/supervised-cadres"
   ]
  },
  {
   "cell_type": "markdown",
   "metadata": {},
   "source": [
    "This notebook has three main objectives:\n",
    "1. First we generate synthetic data using the `DGen` module \n",
    "2. Second, we replicate the SCM from the `binaryClassification2.py` module\n",
    "3. Finally, we test the results from step 2, using regular Logistic Regression (since the target is binary)"
   ]
  },
  {
   "cell_type": "markdown",
   "metadata": {},
   "source": [
    "**Import Modules**"
   ]
  },
  {
   "cell_type": "code",
   "execution_count": 1,
   "metadata": {},
   "outputs": [],
   "source": [
    "from  sklearn.datasets import make_regression\n",
    "import pandas as pd    \n",
    "import numpy as np\n",
    "from DGen import DGenerator\n",
    "import matplotlib.pyplot as plt\n",
    "import seaborn as sns\n",
    "%matplotlib inline"
   ]
  },
  {
   "cell_type": "code",
   "execution_count": 2,
   "metadata": {},
   "outputs": [
    {
     "data": {
      "text/plain": [
       "<module 'DGen' from 'C:\\\\Users\\\\kofi_\\\\Documents\\\\GitHub\\\\supervised-cadres\\\\notebooks\\\\DGen.py'>"
      ]
     },
     "execution_count": 2,
     "metadata": {},
     "output_type": "execute_result"
    }
   ],
   "source": [
    "import importlib\n",
    "import DGen\n",
    "importlib.reload(DGen)"
   ]
  },
  {
   "cell_type": "code",
   "execution_count": 3,
   "metadata": {},
   "outputs": [],
   "source": [
    "# imports from binary example 2\n",
    "import sys\n",
    "from scipy.stats import zscore, zmap\n",
    "from sklearn.model_selection import train_test_split, KFold\n",
    "from itertools import product\n",
    "from joblib import Parallel, delayed\n",
    "from multiprocessing import cpu_count"
   ]
  },
  {
   "cell_type": "code",
   "execution_count": 4,
   "metadata": {},
   "outputs": [],
   "source": [
    "sys.path.insert(0, '../cadreModels/')\n",
    "from classificationBinary2 import binaryCadreModel"
   ]
  },
  {
   "cell_type": "markdown",
   "metadata": {},
   "source": [
    "**Generate Cadres and Cadre Features**"
   ]
  },
  {
   "cell_type": "code",
   "execution_count": 5,
   "metadata": {},
   "outputs": [],
   "source": [
    "c_samples = 10000\n",
    "c_features = 10\n",
    "c_informative = 5\n",
    "c_cadres = 5\n",
    "c_seed = 101\n",
    "c_red = 0\n",
    "c_classep = 4\n",
    "c_flip = 0"
   ]
  },
  {
   "cell_type": "code",
   "execution_count": 6,
   "metadata": {},
   "outputs": [
    {
     "data": {
      "text/html": [
       "<div>\n",
       "<style scoped>\n",
       "    .dataframe tbody tr th:only-of-type {\n",
       "        vertical-align: middle;\n",
       "    }\n",
       "\n",
       "    .dataframe tbody tr th {\n",
       "        vertical-align: top;\n",
       "    }\n",
       "\n",
       "    .dataframe thead th {\n",
       "        text-align: right;\n",
       "    }\n",
       "</style>\n",
       "<table border=\"1\" class=\"dataframe\">\n",
       "  <thead>\n",
       "    <tr style=\"text-align: right;\">\n",
       "      <th></th>\n",
       "      <th>cad0</th>\n",
       "      <th>cad1</th>\n",
       "      <th>cad2</th>\n",
       "      <th>cad3</th>\n",
       "      <th>cad4</th>\n",
       "      <th>cad5</th>\n",
       "      <th>cad6</th>\n",
       "      <th>cad7</th>\n",
       "      <th>cad8</th>\n",
       "      <th>cad9</th>\n",
       "      <th>cadre</th>\n",
       "      <th>index_c</th>\n",
       "    </tr>\n",
       "  </thead>\n",
       "  <tbody>\n",
       "    <tr>\n",
       "      <th>0</th>\n",
       "      <td>-0.469093</td>\n",
       "      <td>7.567745</td>\n",
       "      <td>-1.762847</td>\n",
       "      <td>0.133769</td>\n",
       "      <td>0.956646</td>\n",
       "      <td>3.917727</td>\n",
       "      <td>-3.559154</td>\n",
       "      <td>0.949046</td>\n",
       "      <td>1.341543</td>\n",
       "      <td>2.542744</td>\n",
       "      <td>0</td>\n",
       "      <td>0</td>\n",
       "    </tr>\n",
       "    <tr>\n",
       "      <th>1</th>\n",
       "      <td>-0.061138</td>\n",
       "      <td>3.530291</td>\n",
       "      <td>-4.107550</td>\n",
       "      <td>1.723133</td>\n",
       "      <td>-0.600456</td>\n",
       "      <td>3.345649</td>\n",
       "      <td>-3.969014</td>\n",
       "      <td>1.301195</td>\n",
       "      <td>-1.139559</td>\n",
       "      <td>3.377601</td>\n",
       "      <td>0</td>\n",
       "      <td>1</td>\n",
       "    </tr>\n",
       "    <tr>\n",
       "      <th>2</th>\n",
       "      <td>-1.378483</td>\n",
       "      <td>2.199072</td>\n",
       "      <td>-6.393677</td>\n",
       "      <td>-0.469223</td>\n",
       "      <td>-0.296356</td>\n",
       "      <td>3.423886</td>\n",
       "      <td>-4.231474</td>\n",
       "      <td>1.218804</td>\n",
       "      <td>-0.464441</td>\n",
       "      <td>4.035942</td>\n",
       "      <td>0</td>\n",
       "      <td>2</td>\n",
       "    </tr>\n",
       "    <tr>\n",
       "      <th>3</th>\n",
       "      <td>0.660545</td>\n",
       "      <td>-3.506277</td>\n",
       "      <td>3.954696</td>\n",
       "      <td>-1.171736</td>\n",
       "      <td>-0.278800</td>\n",
       "      <td>2.426672</td>\n",
       "      <td>-1.628396</td>\n",
       "      <td>0.030729</td>\n",
       "      <td>-1.240098</td>\n",
       "      <td>6.328232</td>\n",
       "      <td>0</td>\n",
       "      <td>3</td>\n",
       "    </tr>\n",
       "    <tr>\n",
       "      <th>4</th>\n",
       "      <td>-0.762996</td>\n",
       "      <td>-5.142431</td>\n",
       "      <td>4.279181</td>\n",
       "      <td>0.667524</td>\n",
       "      <td>0.123531</td>\n",
       "      <td>5.446941</td>\n",
       "      <td>-4.315281</td>\n",
       "      <td>0.339328</td>\n",
       "      <td>0.045586</td>\n",
       "      <td>4.716531</td>\n",
       "      <td>0</td>\n",
       "      <td>4</td>\n",
       "    </tr>\n",
       "  </tbody>\n",
       "</table>\n",
       "</div>"
      ],
      "text/plain": [
       "       cad0      cad1      cad2      cad3      cad4      cad5      cad6  \\\n",
       "0 -0.469093  7.567745 -1.762847  0.133769  0.956646  3.917727 -3.559154   \n",
       "1 -0.061138  3.530291 -4.107550  1.723133 -0.600456  3.345649 -3.969014   \n",
       "2 -1.378483  2.199072 -6.393677 -0.469223 -0.296356  3.423886 -4.231474   \n",
       "3  0.660545 -3.506277  3.954696 -1.171736 -0.278800  2.426672 -1.628396   \n",
       "4 -0.762996 -5.142431  4.279181  0.667524  0.123531  5.446941 -4.315281   \n",
       "\n",
       "       cad7      cad8      cad9  cadre  index_c  \n",
       "0  0.949046  1.341543  2.542744      0        0  \n",
       "1  1.301195 -1.139559  3.377601      0        1  \n",
       "2  1.218804 -0.464441  4.035942      0        2  \n",
       "3  0.030729 -1.240098  6.328232      0        3  \n",
       "4  0.339328  0.045586  4.716531      0        4  "
      ]
     },
     "execution_count": 6,
     "metadata": {},
     "output_type": "execute_result"
    }
   ],
   "source": [
    "df_cadre = DGen.DGenerator.generate_cadres(samples = c_samples, features = c_features, informative = c_informative, cadres = c_cadres, seed = c_seed, redundant = c_red, classep = c_classep, flip = c_flip)\n",
    "df_cadre.head()"
   ]
  },
  {
   "cell_type": "markdown",
   "metadata": {},
   "source": [
    "**Generate Features and DVs**"
   ]
  },
  {
   "cell_type": "code",
   "execution_count": 80,
   "metadata": {},
   "outputs": [],
   "source": [
    "t_cadres = 5\n",
    "t_samples = int(c_samples/t_cadres)\n",
    "t_features = 5\n",
    "t_classes = 2\n",
    "t_informative = 5\n",
    "t_seed = 101\n",
    "t_red = 0\n",
    "t_classep = 6\n",
    "t_flip = 0"
   ]
  },
  {
   "cell_type": "code",
   "execution_count": 81,
   "metadata": {},
   "outputs": [
    {
     "data": {
      "text/html": [
       "<div>\n",
       "<style scoped>\n",
       "    .dataframe tbody tr th:only-of-type {\n",
       "        vertical-align: middle;\n",
       "    }\n",
       "\n",
       "    .dataframe tbody tr th {\n",
       "        vertical-align: top;\n",
       "    }\n",
       "\n",
       "    .dataframe thead th {\n",
       "        text-align: right;\n",
       "    }\n",
       "</style>\n",
       "<table border=\"1\" class=\"dataframe\">\n",
       "  <thead>\n",
       "    <tr style=\"text-align: right;\">\n",
       "      <th></th>\n",
       "      <th>dv0</th>\n",
       "      <th>dv1</th>\n",
       "      <th>dv2</th>\n",
       "      <th>dv3</th>\n",
       "      <th>dv4</th>\n",
       "      <th>target</th>\n",
       "      <th>cadre</th>\n",
       "      <th>index_c</th>\n",
       "    </tr>\n",
       "  </thead>\n",
       "  <tbody>\n",
       "    <tr>\n",
       "      <th>0</th>\n",
       "      <td>7.433898</td>\n",
       "      <td>-6.165651</td>\n",
       "      <td>-3.838441</td>\n",
       "      <td>6.323716</td>\n",
       "      <td>-5.696206</td>\n",
       "      <td>0</td>\n",
       "      <td>0</td>\n",
       "      <td>0</td>\n",
       "    </tr>\n",
       "    <tr>\n",
       "      <th>1</th>\n",
       "      <td>-5.132010</td>\n",
       "      <td>-5.423612</td>\n",
       "      <td>7.650038</td>\n",
       "      <td>4.558001</td>\n",
       "      <td>6.166987</td>\n",
       "      <td>1</td>\n",
       "      <td>0</td>\n",
       "      <td>1</td>\n",
       "    </tr>\n",
       "    <tr>\n",
       "      <th>2</th>\n",
       "      <td>-5.556806</td>\n",
       "      <td>-5.454604</td>\n",
       "      <td>4.604269</td>\n",
       "      <td>6.764353</td>\n",
       "      <td>5.305944</td>\n",
       "      <td>1</td>\n",
       "      <td>0</td>\n",
       "      <td>2</td>\n",
       "    </tr>\n",
       "    <tr>\n",
       "      <th>3</th>\n",
       "      <td>5.563300</td>\n",
       "      <td>5.086025</td>\n",
       "      <td>-5.559214</td>\n",
       "      <td>6.610818</td>\n",
       "      <td>-6.497687</td>\n",
       "      <td>0</td>\n",
       "      <td>0</td>\n",
       "      <td>3</td>\n",
       "    </tr>\n",
       "    <tr>\n",
       "      <th>4</th>\n",
       "      <td>-4.377710</td>\n",
       "      <td>-3.343118</td>\n",
       "      <td>4.032863</td>\n",
       "      <td>8.781275</td>\n",
       "      <td>5.574705</td>\n",
       "      <td>1</td>\n",
       "      <td>0</td>\n",
       "      <td>4</td>\n",
       "    </tr>\n",
       "  </tbody>\n",
       "</table>\n",
       "</div>"
      ],
      "text/plain": [
       "        dv0       dv1       dv2       dv3       dv4  target  cadre  index_c\n",
       "0  7.433898 -6.165651 -3.838441  6.323716 -5.696206       0      0        0\n",
       "1 -5.132010 -5.423612  7.650038  4.558001  6.166987       1      0        1\n",
       "2 -5.556806 -5.454604  4.604269  6.764353  5.305944       1      0        2\n",
       "3  5.563300  5.086025 -5.559214  6.610818 -6.497687       0      0        3\n",
       "4 -4.377710 -3.343118  4.032863  8.781275  5.574705       1      0        4"
      ]
     },
     "execution_count": 81,
     "metadata": {},
     "output_type": "execute_result"
    }
   ],
   "source": [
    "df_variables = DGenerator.generate_variables(cadres = t_cadres, samples = t_samples, features = t_features, classes = t_classes, informative = t_informative, seed = t_seed, redundant = t_red, classep = t_classep, flip = t_flip)\n",
    "df_variables.head()"
   ]
  },
  {
   "cell_type": "code",
   "execution_count": 104,
   "metadata": {},
   "outputs": [
    {
     "data": {
      "text/html": [
       "<div>\n",
       "<style scoped>\n",
       "    .dataframe tbody tr th:only-of-type {\n",
       "        vertical-align: middle;\n",
       "    }\n",
       "\n",
       "    .dataframe tbody tr th {\n",
       "        vertical-align: top;\n",
       "    }\n",
       "\n",
       "    .dataframe thead th {\n",
       "        text-align: right;\n",
       "    }\n",
       "</style>\n",
       "<table border=\"1\" class=\"dataframe\">\n",
       "  <thead>\n",
       "    <tr style=\"text-align: right;\">\n",
       "      <th></th>\n",
       "      <th>cad0</th>\n",
       "      <th>cad1</th>\n",
       "      <th>cad2</th>\n",
       "      <th>cad3</th>\n",
       "      <th>cad4</th>\n",
       "      <th>cad5</th>\n",
       "      <th>cad6</th>\n",
       "      <th>cad7</th>\n",
       "      <th>cad8</th>\n",
       "      <th>cad9</th>\n",
       "      <th>cadre</th>\n",
       "      <th>index_c</th>\n",
       "      <th>dv0</th>\n",
       "      <th>dv1</th>\n",
       "      <th>dv2</th>\n",
       "      <th>dv3</th>\n",
       "      <th>dv4</th>\n",
       "      <th>target</th>\n",
       "    </tr>\n",
       "  </thead>\n",
       "  <tbody>\n",
       "    <tr>\n",
       "      <th>0</th>\n",
       "      <td>-0.469093</td>\n",
       "      <td>7.567745</td>\n",
       "      <td>-1.762847</td>\n",
       "      <td>0.133769</td>\n",
       "      <td>0.956646</td>\n",
       "      <td>3.917727</td>\n",
       "      <td>-3.559154</td>\n",
       "      <td>0.949046</td>\n",
       "      <td>1.341543</td>\n",
       "      <td>2.542744</td>\n",
       "      <td>0</td>\n",
       "      <td>0</td>\n",
       "      <td>7.433898</td>\n",
       "      <td>-6.165651</td>\n",
       "      <td>-3.838441</td>\n",
       "      <td>6.323716</td>\n",
       "      <td>-5.696206</td>\n",
       "      <td>0</td>\n",
       "    </tr>\n",
       "    <tr>\n",
       "      <th>1</th>\n",
       "      <td>-0.065857</td>\n",
       "      <td>-3.546688</td>\n",
       "      <td>3.468315</td>\n",
       "      <td>-0.264185</td>\n",
       "      <td>0.207933</td>\n",
       "      <td>3.340381</td>\n",
       "      <td>-4.200437</td>\n",
       "      <td>-0.619582</td>\n",
       "      <td>-0.157319</td>\n",
       "      <td>3.725026</td>\n",
       "      <td>0</td>\n",
       "      <td>0</td>\n",
       "      <td>7.433898</td>\n",
       "      <td>-6.165651</td>\n",
       "      <td>-3.838441</td>\n",
       "      <td>6.323716</td>\n",
       "      <td>-5.696206</td>\n",
       "      <td>0</td>\n",
       "    </tr>\n",
       "    <tr>\n",
       "      <th>2</th>\n",
       "      <td>-0.061138</td>\n",
       "      <td>3.530291</td>\n",
       "      <td>-4.107550</td>\n",
       "      <td>1.723133</td>\n",
       "      <td>-0.600456</td>\n",
       "      <td>3.345649</td>\n",
       "      <td>-3.969014</td>\n",
       "      <td>1.301195</td>\n",
       "      <td>-1.139559</td>\n",
       "      <td>3.377601</td>\n",
       "      <td>0</td>\n",
       "      <td>1</td>\n",
       "      <td>-5.132010</td>\n",
       "      <td>-5.423612</td>\n",
       "      <td>7.650038</td>\n",
       "      <td>4.558001</td>\n",
       "      <td>6.166987</td>\n",
       "      <td>1</td>\n",
       "    </tr>\n",
       "    <tr>\n",
       "      <th>3</th>\n",
       "      <td>-1.378483</td>\n",
       "      <td>2.199072</td>\n",
       "      <td>-6.393677</td>\n",
       "      <td>-0.469223</td>\n",
       "      <td>-0.296356</td>\n",
       "      <td>3.423886</td>\n",
       "      <td>-4.231474</td>\n",
       "      <td>1.218804</td>\n",
       "      <td>-0.464441</td>\n",
       "      <td>4.035942</td>\n",
       "      <td>0</td>\n",
       "      <td>2</td>\n",
       "      <td>-5.556806</td>\n",
       "      <td>-5.454604</td>\n",
       "      <td>4.604269</td>\n",
       "      <td>6.764353</td>\n",
       "      <td>5.305944</td>\n",
       "      <td>1</td>\n",
       "    </tr>\n",
       "    <tr>\n",
       "      <th>4</th>\n",
       "      <td>0.660545</td>\n",
       "      <td>-3.506277</td>\n",
       "      <td>3.954696</td>\n",
       "      <td>-1.171736</td>\n",
       "      <td>-0.278800</td>\n",
       "      <td>2.426672</td>\n",
       "      <td>-1.628396</td>\n",
       "      <td>0.030729</td>\n",
       "      <td>-1.240098</td>\n",
       "      <td>6.328232</td>\n",
       "      <td>0</td>\n",
       "      <td>3</td>\n",
       "      <td>5.563300</td>\n",
       "      <td>5.086025</td>\n",
       "      <td>-5.559214</td>\n",
       "      <td>6.610818</td>\n",
       "      <td>-6.497687</td>\n",
       "      <td>0</td>\n",
       "    </tr>\n",
       "  </tbody>\n",
       "</table>\n",
       "</div>"
      ],
      "text/plain": [
       "       cad0      cad1      cad2      cad3      cad4      cad5      cad6  \\\n",
       "0 -0.469093  7.567745 -1.762847  0.133769  0.956646  3.917727 -3.559154   \n",
       "1 -0.065857 -3.546688  3.468315 -0.264185  0.207933  3.340381 -4.200437   \n",
       "2 -0.061138  3.530291 -4.107550  1.723133 -0.600456  3.345649 -3.969014   \n",
       "3 -1.378483  2.199072 -6.393677 -0.469223 -0.296356  3.423886 -4.231474   \n",
       "4  0.660545 -3.506277  3.954696 -1.171736 -0.278800  2.426672 -1.628396   \n",
       "\n",
       "       cad7      cad8      cad9  cadre  index_c       dv0       dv1       dv2  \\\n",
       "0  0.949046  1.341543  2.542744      0        0  7.433898 -6.165651 -3.838441   \n",
       "1 -0.619582 -0.157319  3.725026      0        0  7.433898 -6.165651 -3.838441   \n",
       "2  1.301195 -1.139559  3.377601      0        1 -5.132010 -5.423612  7.650038   \n",
       "3  1.218804 -0.464441  4.035942      0        2 -5.556806 -5.454604  4.604269   \n",
       "4  0.030729 -1.240098  6.328232      0        3  5.563300  5.086025 -5.559214   \n",
       "\n",
       "        dv3       dv4  target  \n",
       "0  6.323716 -5.696206       0  \n",
       "1  6.323716 -5.696206       0  \n",
       "2  4.558001  6.166987       1  \n",
       "3  6.764353  5.305944       1  \n",
       "4  6.610818 -6.497687       0  "
      ]
     },
     "execution_count": 104,
     "metadata": {},
     "output_type": "execute_result"
    }
   ],
   "source": [
    "z = pd.merge(df_cadre, df_variables)\n",
    "z.head()"
   ]
  },
  {
   "cell_type": "code",
   "execution_count": 130,
   "metadata": {},
   "outputs": [
    {
     "name": "stdout",
     "output_type": "stream",
     "text": [
      "regression for cadre  0\n",
      "(2001, 15)\n",
      "cadre 0 train               precision    recall  f1-score   support\n",
      "\n",
      "           0       1.00      1.00      1.00       793\n",
      "           1       1.00      1.00      1.00       807\n",
      "\n",
      "   micro avg       1.00      1.00      1.00      1600\n",
      "   macro avg       1.00      1.00      1.00      1600\n",
      "weighted avg       1.00      1.00      1.00      1600\n",
      "\n",
      "              precision    recall  f1-score   support\n",
      "\n",
      "           0       1.00      1.00      1.00       208\n",
      "           1       1.00      1.00      1.00       193\n",
      "\n",
      "   micro avg       1.00      1.00      1.00       401\n",
      "   macro avg       1.00      1.00      1.00       401\n",
      "weighted avg       1.00      1.00      1.00       401\n",
      "\n",
      "(1600, 15)\n",
      "regression for cadre  1\n",
      "(2001, 15)\n",
      "cadre 1 train               precision    recall  f1-score   support\n",
      "\n",
      "           0       1.00      1.00      1.00       796\n",
      "           1       1.00      1.00      1.00       804\n",
      "\n",
      "   micro avg       1.00      1.00      1.00      1600\n",
      "   macro avg       1.00      1.00      1.00      1600\n",
      "weighted avg       1.00      1.00      1.00      1600\n",
      "\n",
      "              precision    recall  f1-score   support\n",
      "\n",
      "           0       1.00      1.00      1.00       205\n",
      "           1       1.00      1.00      1.00       196\n",
      "\n",
      "   micro avg       1.00      1.00      1.00       401\n",
      "   macro avg       1.00      1.00      1.00       401\n",
      "weighted avg       1.00      1.00      1.00       401\n",
      "\n",
      "(1600, 15)\n",
      "regression for cadre  2\n",
      "(2000, 15)\n",
      "cadre 2 train               precision    recall  f1-score   support\n",
      "\n",
      "           0       1.00      1.00      1.00       807\n",
      "           1       1.00      1.00      1.00       793\n",
      "\n",
      "   micro avg       1.00      1.00      1.00      1600\n",
      "   macro avg       1.00      1.00      1.00      1600\n",
      "weighted avg       1.00      1.00      1.00      1600\n",
      "\n",
      "              precision    recall  f1-score   support\n",
      "\n",
      "           0       1.00      1.00      1.00       193\n",
      "           1       1.00      1.00      1.00       207\n",
      "\n",
      "   micro avg       1.00      1.00      1.00       400\n",
      "   macro avg       1.00      1.00      1.00       400\n",
      "weighted avg       1.00      1.00      1.00       400\n",
      "\n",
      "(1600, 15)\n",
      "regression for cadre  3\n",
      "(2000, 15)\n",
      "cadre 3 train               precision    recall  f1-score   support\n",
      "\n",
      "           0       1.00      1.00      1.00       798\n",
      "           1       1.00      1.00      1.00       802\n",
      "\n",
      "   micro avg       1.00      1.00      1.00      1600\n",
      "   macro avg       1.00      1.00      1.00      1600\n",
      "weighted avg       1.00      1.00      1.00      1600\n",
      "\n",
      "              precision    recall  f1-score   support\n",
      "\n",
      "           0       1.00      1.00      1.00       202\n",
      "           1       1.00      1.00      1.00       198\n",
      "\n",
      "   micro avg       1.00      1.00      1.00       400\n",
      "   macro avg       1.00      1.00      1.00       400\n",
      "weighted avg       1.00      1.00      1.00       400\n",
      "\n",
      "(1600, 15)\n",
      "regression for cadre  4\n",
      "(1998, 15)\n",
      "cadre 4 train               precision    recall  f1-score   support\n",
      "\n",
      "           0       1.00      1.00      1.00       784\n",
      "           1       1.00      1.00      1.00       814\n",
      "\n",
      "   micro avg       1.00      1.00      1.00      1598\n",
      "   macro avg       1.00      1.00      1.00      1598\n",
      "weighted avg       1.00      1.00      1.00      1598\n",
      "\n",
      "              precision    recall  f1-score   support\n",
      "\n",
      "           0       1.00      1.00      1.00       216\n",
      "           1       1.00      1.00      1.00       184\n",
      "\n",
      "   micro avg       1.00      1.00      1.00       400\n",
      "   macro avg       1.00      1.00      1.00       400\n",
      "weighted avg       1.00      1.00      1.00       400\n",
      "\n",
      "(1598, 15)\n"
     ]
    }
   ],
   "source": [
    "# import Logistic Regression Module\n",
    "from sklearn.linear_model import LogisticRegression\n",
    "from sklearn import metrics\n",
    "from sklearn.metrics import classification_report\n",
    "from sklearn.metrics import confusion_matrix\n",
    "lr = LogisticRegression()\n",
    "\n",
    "#Test Cadre\n",
    "for t in range(t_cadres):\n",
    "\n",
    "    y_cadre = z['target']\n",
    "    print(\"regression for cadre \", t)\n",
    "\n",
    "    # Drop row/observation from dataset if cadre is not == 0\n",
    "    cadre = z[z.cadre == t] \n",
    "\n",
    "    # Select X features for cadre 0\n",
    "    X_cadre = cadre.drop(['cadre', 'index_c', 'target'], axis=1) \n",
    "    print (X_cadre.shape)\n",
    "    # Select y features for cadre 0\n",
    "    y_cadre = cadre['target'] \n",
    "\n",
    "    # Run logistic regression\n",
    "    X_train, X_test, y_train, y_test = train_test_split(X_cadre, y_cadre, test_size=0.2, random_state=101)\n",
    "    fit = lr.fit(X_train, y_train)\n",
    "\n",
    "    #test accuracy of predictions\n",
    "    y_train_pred = fit.predict(X_train)\n",
    "    y_test_pred = fit.predict(X_test)\n",
    "    print(\"cadre\", t, \"train\", classification_report(y_train, y_train_pred))\n",
    "    print(classification_report(y_test, y_test_pred))\n",
    "    print (X_train.shape)\n",
    "    \n",
    "  "
   ]
  },
  {
   "cell_type": "markdown",
   "metadata": {},
   "source": [
    "**Begin SCM**"
   ]
  },
  {
   "cell_type": "code",
   "execution_count": 131,
   "metadata": {},
   "outputs": [
    {
     "data": {
      "text/html": [
       "<div>\n",
       "<style scoped>\n",
       "    .dataframe tbody tr th:only-of-type {\n",
       "        vertical-align: middle;\n",
       "    }\n",
       "\n",
       "    .dataframe tbody tr th {\n",
       "        vertical-align: top;\n",
       "    }\n",
       "\n",
       "    .dataframe thead th {\n",
       "        text-align: right;\n",
       "    }\n",
       "</style>\n",
       "<table border=\"1\" class=\"dataframe\">\n",
       "  <thead>\n",
       "    <tr style=\"text-align: right;\">\n",
       "      <th></th>\n",
       "      <th>cad0</th>\n",
       "      <th>cad1</th>\n",
       "      <th>cad2</th>\n",
       "      <th>cad3</th>\n",
       "      <th>cad4</th>\n",
       "      <th>cad5</th>\n",
       "      <th>cad6</th>\n",
       "      <th>cad7</th>\n",
       "      <th>cad8</th>\n",
       "      <th>cad9</th>\n",
       "      <th>dv0</th>\n",
       "      <th>dv1</th>\n",
       "      <th>dv2</th>\n",
       "      <th>dv3</th>\n",
       "      <th>dv4</th>\n",
       "      <th>target</th>\n",
       "    </tr>\n",
       "  </thead>\n",
       "  <tbody>\n",
       "    <tr>\n",
       "      <th>0</th>\n",
       "      <td>-0.469093</td>\n",
       "      <td>7.567745</td>\n",
       "      <td>-1.762847</td>\n",
       "      <td>0.133769</td>\n",
       "      <td>0.956646</td>\n",
       "      <td>3.917727</td>\n",
       "      <td>-3.559154</td>\n",
       "      <td>0.949046</td>\n",
       "      <td>1.341543</td>\n",
       "      <td>2.542744</td>\n",
       "      <td>7.433898</td>\n",
       "      <td>-6.165651</td>\n",
       "      <td>-3.838441</td>\n",
       "      <td>6.323716</td>\n",
       "      <td>-5.696206</td>\n",
       "      <td>0</td>\n",
       "    </tr>\n",
       "    <tr>\n",
       "      <th>1</th>\n",
       "      <td>-0.065857</td>\n",
       "      <td>-3.546688</td>\n",
       "      <td>3.468315</td>\n",
       "      <td>-0.264185</td>\n",
       "      <td>0.207933</td>\n",
       "      <td>3.340381</td>\n",
       "      <td>-4.200437</td>\n",
       "      <td>-0.619582</td>\n",
       "      <td>-0.157319</td>\n",
       "      <td>3.725026</td>\n",
       "      <td>7.433898</td>\n",
       "      <td>-6.165651</td>\n",
       "      <td>-3.838441</td>\n",
       "      <td>6.323716</td>\n",
       "      <td>-5.696206</td>\n",
       "      <td>0</td>\n",
       "    </tr>\n",
       "    <tr>\n",
       "      <th>2</th>\n",
       "      <td>-0.061138</td>\n",
       "      <td>3.530291</td>\n",
       "      <td>-4.107550</td>\n",
       "      <td>1.723133</td>\n",
       "      <td>-0.600456</td>\n",
       "      <td>3.345649</td>\n",
       "      <td>-3.969014</td>\n",
       "      <td>1.301195</td>\n",
       "      <td>-1.139559</td>\n",
       "      <td>3.377601</td>\n",
       "      <td>-5.132010</td>\n",
       "      <td>-5.423612</td>\n",
       "      <td>7.650038</td>\n",
       "      <td>4.558001</td>\n",
       "      <td>6.166987</td>\n",
       "      <td>1</td>\n",
       "    </tr>\n",
       "    <tr>\n",
       "      <th>3</th>\n",
       "      <td>-1.378483</td>\n",
       "      <td>2.199072</td>\n",
       "      <td>-6.393677</td>\n",
       "      <td>-0.469223</td>\n",
       "      <td>-0.296356</td>\n",
       "      <td>3.423886</td>\n",
       "      <td>-4.231474</td>\n",
       "      <td>1.218804</td>\n",
       "      <td>-0.464441</td>\n",
       "      <td>4.035942</td>\n",
       "      <td>-5.556806</td>\n",
       "      <td>-5.454604</td>\n",
       "      <td>4.604269</td>\n",
       "      <td>6.764353</td>\n",
       "      <td>5.305944</td>\n",
       "      <td>1</td>\n",
       "    </tr>\n",
       "    <tr>\n",
       "      <th>4</th>\n",
       "      <td>0.660545</td>\n",
       "      <td>-3.506277</td>\n",
       "      <td>3.954696</td>\n",
       "      <td>-1.171736</td>\n",
       "      <td>-0.278800</td>\n",
       "      <td>2.426672</td>\n",
       "      <td>-1.628396</td>\n",
       "      <td>0.030729</td>\n",
       "      <td>-1.240098</td>\n",
       "      <td>6.328232</td>\n",
       "      <td>5.563300</td>\n",
       "      <td>5.086025</td>\n",
       "      <td>-5.559214</td>\n",
       "      <td>6.610818</td>\n",
       "      <td>-6.497687</td>\n",
       "      <td>0</td>\n",
       "    </tr>\n",
       "  </tbody>\n",
       "</table>\n",
       "</div>"
      ],
      "text/plain": [
       "       cad0      cad1      cad2      cad3      cad4      cad5      cad6  \\\n",
       "0 -0.469093  7.567745 -1.762847  0.133769  0.956646  3.917727 -3.559154   \n",
       "1 -0.065857 -3.546688  3.468315 -0.264185  0.207933  3.340381 -4.200437   \n",
       "2 -0.061138  3.530291 -4.107550  1.723133 -0.600456  3.345649 -3.969014   \n",
       "3 -1.378483  2.199072 -6.393677 -0.469223 -0.296356  3.423886 -4.231474   \n",
       "4  0.660545 -3.506277  3.954696 -1.171736 -0.278800  2.426672 -1.628396   \n",
       "\n",
       "       cad7      cad8      cad9       dv0       dv1       dv2       dv3  \\\n",
       "0  0.949046  1.341543  2.542744  7.433898 -6.165651 -3.838441  6.323716   \n",
       "1 -0.619582 -0.157319  3.725026  7.433898 -6.165651 -3.838441  6.323716   \n",
       "2  1.301195 -1.139559  3.377601 -5.132010 -5.423612  7.650038  4.558001   \n",
       "3  1.218804 -0.464441  4.035942 -5.556806 -5.454604  4.604269  6.764353   \n",
       "4  0.030729 -1.240098  6.328232  5.563300  5.086025 -5.559214  6.610818   \n",
       "\n",
       "        dv4  target  \n",
       "0 -5.696206       0  \n",
       "1 -5.696206       0  \n",
       "2  6.166987       1  \n",
       "3  5.305944       1  \n",
       "4 -6.497687       0  "
      ]
     },
     "execution_count": 131,
     "metadata": {},
     "output_type": "execute_result"
    }
   ],
   "source": [
    "data = z.drop(['cadre','index_c'], 1)\n",
    "data.head()"
   ]
  },
  {
   "cell_type": "markdown",
   "metadata": {},
   "source": [
    "Alex performs randomized train-test split"
   ]
  },
  {
   "cell_type": "code",
   "execution_count": 132,
   "metadata": {},
   "outputs": [],
   "source": [
    "Dtr, Dva = train_test_split(data, test_size=0.2, random_state=101)"
   ]
  },
  {
   "cell_type": "markdown",
   "metadata": {},
   "source": [
    "Separate cadre prediction features from target prediction features (optional)"
   ]
  },
  {
   "cell_type": "code",
   "execution_count": 133,
   "metadata": {},
   "outputs": [],
   "source": [
    "cadreFts = data.columns[data.columns.str.contains('cad')]\n",
    "predictFts = data.columns[data.columns.str.contains('dv')]"
   ]
  },
  {
   "cell_type": "code",
   "execution_count": 134,
   "metadata": {},
   "outputs": [
    {
     "name": "stdout",
     "output_type": "stream",
     "text": [
      "Index(['cad0', 'cad1', 'cad2', 'cad3', 'cad4', 'cad5', 'cad6', 'cad7', 'cad8',\n",
      "       'cad9'],\n",
      "      dtype='object')\n"
     ]
    }
   ],
   "source": [
    "print(cadreFts)"
   ]
  },
  {
   "cell_type": "code",
   "execution_count": 135,
   "metadata": {},
   "outputs": [
    {
     "name": "stdout",
     "output_type": "stream",
     "text": [
      "Index(['dv0', 'dv1', 'dv2', 'dv3', 'dv4'], dtype='object')\n"
     ]
    }
   ],
   "source": [
    "print(predictFts)"
   ]
  },
  {
   "cell_type": "code",
   "execution_count": 136,
   "metadata": {},
   "outputs": [],
   "source": [
    "features = cadreFts.union(predictFts)"
   ]
  },
  {
   "cell_type": "markdown",
   "metadata": {},
   "source": [
    "Standardize training and validation sets"
   ]
  },
  {
   "cell_type": "code",
   "execution_count": 137,
   "metadata": {},
   "outputs": [],
   "source": [
    "Dva[features] = zmap(Dva[features].values, Dtr[features].values)\n",
    "Dtr[features] = zscore(Dtr[features].values)"
   ]
  },
  {
   "cell_type": "code",
   "execution_count": 138,
   "metadata": {},
   "outputs": [
    {
     "data": {
      "text/html": [
       "<div>\n",
       "<style scoped>\n",
       "    .dataframe tbody tr th:only-of-type {\n",
       "        vertical-align: middle;\n",
       "    }\n",
       "\n",
       "    .dataframe tbody tr th {\n",
       "        vertical-align: top;\n",
       "    }\n",
       "\n",
       "    .dataframe thead th {\n",
       "        text-align: right;\n",
       "    }\n",
       "</style>\n",
       "<table border=\"1\" class=\"dataframe\">\n",
       "  <thead>\n",
       "    <tr style=\"text-align: right;\">\n",
       "      <th></th>\n",
       "      <th>cad0</th>\n",
       "      <th>cad1</th>\n",
       "      <th>cad2</th>\n",
       "      <th>cad3</th>\n",
       "      <th>cad4</th>\n",
       "      <th>cad5</th>\n",
       "      <th>cad6</th>\n",
       "      <th>cad7</th>\n",
       "      <th>cad8</th>\n",
       "      <th>cad9</th>\n",
       "      <th>dv0</th>\n",
       "      <th>dv1</th>\n",
       "      <th>dv2</th>\n",
       "      <th>dv3</th>\n",
       "      <th>dv4</th>\n",
       "      <th>target</th>\n",
       "    </tr>\n",
       "  </thead>\n",
       "  <tbody>\n",
       "    <tr>\n",
       "      <th>6676</th>\n",
       "      <td>0.122512</td>\n",
       "      <td>-1.207513</td>\n",
       "      <td>1.143731</td>\n",
       "      <td>-0.856875</td>\n",
       "      <td>0.518762</td>\n",
       "      <td>0.674137</td>\n",
       "      <td>0.866234</td>\n",
       "      <td>1.217003</td>\n",
       "      <td>0.535757</td>\n",
       "      <td>-0.075601</td>\n",
       "      <td>-1.146091</td>\n",
       "      <td>-0.710645</td>\n",
       "      <td>-0.989583</td>\n",
       "      <td>0.838544</td>\n",
       "      <td>0.667412</td>\n",
       "      <td>1</td>\n",
       "    </tr>\n",
       "    <tr>\n",
       "      <th>6421</th>\n",
       "      <td>-0.337137</td>\n",
       "      <td>-0.330253</td>\n",
       "      <td>0.817597</td>\n",
       "      <td>-0.804606</td>\n",
       "      <td>-0.082559</td>\n",
       "      <td>-0.987700</td>\n",
       "      <td>1.069227</td>\n",
       "      <td>0.194300</td>\n",
       "      <td>-1.171890</td>\n",
       "      <td>-0.883354</td>\n",
       "      <td>1.289751</td>\n",
       "      <td>-0.831717</td>\n",
       "      <td>-0.477241</td>\n",
       "      <td>0.698828</td>\n",
       "      <td>-1.139992</td>\n",
       "      <td>1</td>\n",
       "    </tr>\n",
       "    <tr>\n",
       "      <th>9834</th>\n",
       "      <td>-0.200930</td>\n",
       "      <td>-0.853107</td>\n",
       "      <td>-0.491826</td>\n",
       "      <td>-0.194173</td>\n",
       "      <td>-0.946644</td>\n",
       "      <td>-0.194386</td>\n",
       "      <td>-0.337862</td>\n",
       "      <td>-0.359469</td>\n",
       "      <td>-0.988533</td>\n",
       "      <td>-0.045381</td>\n",
       "      <td>0.466151</td>\n",
       "      <td>-0.706945</td>\n",
       "      <td>1.067010</td>\n",
       "      <td>0.980788</td>\n",
       "      <td>0.739382</td>\n",
       "      <td>0</td>\n",
       "    </tr>\n",
       "    <tr>\n",
       "      <th>8492</th>\n",
       "      <td>1.274049</td>\n",
       "      <td>1.213090</td>\n",
       "      <td>0.680294</td>\n",
       "      <td>0.843575</td>\n",
       "      <td>1.225789</td>\n",
       "      <td>0.992843</td>\n",
       "      <td>-1.183020</td>\n",
       "      <td>0.707878</td>\n",
       "      <td>0.009384</td>\n",
       "      <td>-1.150283</td>\n",
       "      <td>-1.349434</td>\n",
       "      <td>-0.589118</td>\n",
       "      <td>-0.963983</td>\n",
       "      <td>-1.169730</td>\n",
       "      <td>-1.065728</td>\n",
       "      <td>1</td>\n",
       "    </tr>\n",
       "    <tr>\n",
       "      <th>9982</th>\n",
       "      <td>0.583916</td>\n",
       "      <td>-0.646165</td>\n",
       "      <td>-0.096330</td>\n",
       "      <td>0.506997</td>\n",
       "      <td>-1.746399</td>\n",
       "      <td>-0.449424</td>\n",
       "      <td>-0.830589</td>\n",
       "      <td>-0.681874</td>\n",
       "      <td>-0.774733</td>\n",
       "      <td>-0.418637</td>\n",
       "      <td>1.041328</td>\n",
       "      <td>1.080009</td>\n",
       "      <td>-0.856717</td>\n",
       "      <td>-1.365094</td>\n",
       "      <td>0.790838</td>\n",
       "      <td>1</td>\n",
       "    </tr>\n",
       "  </tbody>\n",
       "</table>\n",
       "</div>"
      ],
      "text/plain": [
       "          cad0      cad1      cad2      cad3      cad4      cad5      cad6  \\\n",
       "6676  0.122512 -1.207513  1.143731 -0.856875  0.518762  0.674137  0.866234   \n",
       "6421 -0.337137 -0.330253  0.817597 -0.804606 -0.082559 -0.987700  1.069227   \n",
       "9834 -0.200930 -0.853107 -0.491826 -0.194173 -0.946644 -0.194386 -0.337862   \n",
       "8492  1.274049  1.213090  0.680294  0.843575  1.225789  0.992843 -1.183020   \n",
       "9982  0.583916 -0.646165 -0.096330  0.506997 -1.746399 -0.449424 -0.830589   \n",
       "\n",
       "          cad7      cad8      cad9       dv0       dv1       dv2       dv3  \\\n",
       "6676  1.217003  0.535757 -0.075601 -1.146091 -0.710645 -0.989583  0.838544   \n",
       "6421  0.194300 -1.171890 -0.883354  1.289751 -0.831717 -0.477241  0.698828   \n",
       "9834 -0.359469 -0.988533 -0.045381  0.466151 -0.706945  1.067010  0.980788   \n",
       "8492  0.707878  0.009384 -1.150283 -1.349434 -0.589118 -0.963983 -1.169730   \n",
       "9982 -0.681874 -0.774733 -0.418637  1.041328  1.080009 -0.856717 -1.365094   \n",
       "\n",
       "           dv4  target  \n",
       "6676  0.667412       1  \n",
       "6421 -1.139992       1  \n",
       "9834  0.739382       0  \n",
       "8492 -1.065728       1  \n",
       "9982  0.790838       1  "
      ]
     },
     "execution_count": 138,
     "metadata": {},
     "output_type": "execute_result"
    }
   ],
   "source": [
    "Dva.head()"
   ]
  },
  {
   "cell_type": "markdown",
   "metadata": {},
   "source": [
    "Define and train SCM model object. We're not going to tune any hyperparameters here. Note that we now supply the binaryCadreModel object with the cadre-assignment features and target-prediction features, as well as the name of the target feature.\n",
    "\n",
    "If we did not supply any cadreFts or targetFts, they default to being every column in data other than targetCol"
   ]
  },
  {
   "cell_type": "code",
   "execution_count": 142,
   "metadata": {},
   "outputs": [
    {
     "name": "stdout",
     "output_type": "stream",
     "text": [
      "0\n",
      "10 0.817103 0.505375 0.8145021 0.527 0.3567969799041748\n",
      "20 0.810394 0.518 0.80816454 0.535 1.2772696018218994\n",
      "30 0.806893 0.52525 0.8048242 0.539 2.0588228702545166\n",
      "40 0.804216 0.529875 0.8022242 0.544 2.8413753509521484\n",
      "50 0.8020493 0.536375 0.800121 0.5465 3.6169326305389404\n",
      "60 0.8001258 0.538375 0.79826427 0.548 4.385493516921997\n",
      "70 0.7984635 0.541375 0.7966625 0.5515 5.158053398132324\n",
      "80 0.79692274 0.544875 0.7951586 0.5505 5.936608076095581\n",
      "90 0.7954911 0.547125 0.79377025 0.554 6.709166526794434\n",
      "100 0.7941922 0.549125 0.79250747 0.5565 7.482723951339722\n"
     ]
    },
    {
     "data": {
      "text/plain": [
       "<classificationBinary2.binaryCadreModel at 0x2e0f9204be0>"
      ]
     },
     "execution_count": 142,
     "metadata": {},
     "output_type": "execute_result"
    }
   ],
   "source": [
    "scm = binaryCadreModel(M=5, Tmax=101, record=10)\n",
    "scm.fit(data=Dtr,\n",
    "       targetCol='target',\n",
    "       cadreFts=cadreFts,\n",
    "       predictFts=predictFts,\n",
    "       dataVa=Dva,\n",
    "       progress=True)"
   ]
  },
  {
   "cell_type": "markdown",
   "metadata": {},
   "source": [
    "The metrics attribute of scm contains training and validation metrics values. We can plot them separately. ROC_AUC is the receiver operator characteristic area under the curve (sklearn.metrics.roc_auc_score). PR_AUC is the average precision, i.e., area under the precision-recall curve (sklearn.metrics.average_precision_score).\n",
    "\n",
    "The x-axis in these plots dependent on iteration count."
   ]
  },
  {
   "cell_type": "code",
   "execution_count": 143,
   "metadata": {},
   "outputs": [
    {
     "data": {
      "text/plain": [
       "<matplotlib.axes._subplots.AxesSubplot at 0x2e0f9451358>"
      ]
     },
     "execution_count": 143,
     "metadata": {},
     "output_type": "execute_result"
    },
    {
     "data": {
      "image/png": "[encoded data removed]",
      "text/plain": [
       "<Figure size 432x288 with 1 Axes>"
      ]
     },
     "metadata": {
      "needs_background": "light"
     },
     "output_type": "display_data"
    }
   ],
   "source": [
    "scm.metrics['training'].plot()"
   ]
  },
  {
   "cell_type": "code",
   "execution_count": 144,
   "metadata": {},
   "outputs": [
    {
     "data": {
      "text/plain": [
       "<matplotlib.axes._subplots.AxesSubplot at 0x2e0f9488f28>"
      ]
     },
     "execution_count": 144,
     "metadata": {},
     "output_type": "execute_result"
    },
    {
     "data": {
      "image/png": "[encoded data removed]",
      "text/plain": [
       "<Figure size 432x288 with 1 Axes>"
      ]
     },
     "metadata": {
      "needs_background": "light"
     },
     "output_type": "display_data"
    }
   ],
   "source": [
    "scm.metrics['validation'].plot()"
   ]
  },
  {
   "cell_type": "markdown",
   "metadata": {},
   "source": [
    "Model parameters are stored as pd.DataFrame objects."
   ]
  },
  {
   "cell_type": "code",
   "execution_count": 145,
   "metadata": {},
   "outputs": [
    {
     "data": {
      "text/html": [
       "<div>\n",
       "<style scoped>\n",
       "    .dataframe tbody tr th:only-of-type {\n",
       "        vertical-align: middle;\n",
       "    }\n",
       "\n",
       "    .dataframe tbody tr th {\n",
       "        vertical-align: top;\n",
       "    }\n",
       "\n",
       "    .dataframe thead th {\n",
       "        text-align: right;\n",
       "    }\n",
       "</style>\n",
       "<table border=\"1\" class=\"dataframe\">\n",
       "  <thead>\n",
       "    <tr style=\"text-align: right;\">\n",
       "      <th></th>\n",
       "      <th>0</th>\n",
       "      <th>1</th>\n",
       "      <th>2</th>\n",
       "      <th>3</th>\n",
       "      <th>4</th>\n",
       "    </tr>\n",
       "  </thead>\n",
       "  <tbody>\n",
       "    <tr>\n",
       "      <th>dv0</th>\n",
       "      <td>0.149657</td>\n",
       "      <td>0.130046</td>\n",
       "      <td>0.125266</td>\n",
       "      <td>0.042374</td>\n",
       "      <td>-0.047480</td>\n",
       "    </tr>\n",
       "    <tr>\n",
       "      <th>dv1</th>\n",
       "      <td>-0.076101</td>\n",
       "      <td>-0.148999</td>\n",
       "      <td>-0.103468</td>\n",
       "      <td>-0.000253</td>\n",
       "      <td>-0.000394</td>\n",
       "    </tr>\n",
       "    <tr>\n",
       "      <th>dv2</th>\n",
       "      <td>-0.066784</td>\n",
       "      <td>0.010188</td>\n",
       "      <td>0.044432</td>\n",
       "      <td>-0.030152</td>\n",
       "      <td>0.096478</td>\n",
       "    </tr>\n",
       "    <tr>\n",
       "      <th>dv3</th>\n",
       "      <td>0.045051</td>\n",
       "      <td>-0.098693</td>\n",
       "      <td>-0.104450</td>\n",
       "      <td>-0.107904</td>\n",
       "      <td>-0.001840</td>\n",
       "    </tr>\n",
       "    <tr>\n",
       "      <th>dv4</th>\n",
       "      <td>0.269066</td>\n",
       "      <td>-0.006205</td>\n",
       "      <td>-0.013232</td>\n",
       "      <td>0.109738</td>\n",
       "      <td>0.103667</td>\n",
       "    </tr>\n",
       "  </tbody>\n",
       "</table>\n",
       "</div>"
      ],
      "text/plain": [
       "            0         1         2         3         4\n",
       "dv0  0.149657  0.130046  0.125266  0.042374 -0.047480\n",
       "dv1 -0.076101 -0.148999 -0.103468 -0.000253 -0.000394\n",
       "dv2 -0.066784  0.010188  0.044432 -0.030152  0.096478\n",
       "dv3  0.045051 -0.098693 -0.104450 -0.107904 -0.001840\n",
       "dv4  0.269066 -0.006205 -0.013232  0.109738  0.103667"
      ]
     },
     "execution_count": 145,
     "metadata": {},
     "output_type": "execute_result"
    }
   ],
   "source": [
    "scm.W"
   ]
  },
  {
   "cell_type": "code",
   "execution_count": 146,
   "metadata": {},
   "outputs": [
    {
     "data": {
      "text/html": [
       "<div>\n",
       "<style scoped>\n",
       "    .dataframe tbody tr th:only-of-type {\n",
       "        vertical-align: middle;\n",
       "    }\n",
       "\n",
       "    .dataframe tbody tr th {\n",
       "        vertical-align: top;\n",
       "    }\n",
       "\n",
       "    .dataframe thead th {\n",
       "        text-align: right;\n",
       "    }\n",
       "</style>\n",
       "<table border=\"1\" class=\"dataframe\">\n",
       "  <thead>\n",
       "    <tr style=\"text-align: right;\">\n",
       "      <th></th>\n",
       "      <th>0</th>\n",
       "      <th>1</th>\n",
       "      <th>2</th>\n",
       "      <th>3</th>\n",
       "      <th>4</th>\n",
       "    </tr>\n",
       "  </thead>\n",
       "  <tbody>\n",
       "    <tr>\n",
       "      <th>cad0</th>\n",
       "      <td>-0.133720</td>\n",
       "      <td>0.089640</td>\n",
       "      <td>-0.001635</td>\n",
       "      <td>0.050341</td>\n",
       "      <td>-0.040753</td>\n",
       "    </tr>\n",
       "    <tr>\n",
       "      <th>cad1</th>\n",
       "      <td>-0.078977</td>\n",
       "      <td>-0.030039</td>\n",
       "      <td>-0.040241</td>\n",
       "      <td>0.131008</td>\n",
       "      <td>-0.045167</td>\n",
       "    </tr>\n",
       "    <tr>\n",
       "      <th>cad2</th>\n",
       "      <td>-0.070759</td>\n",
       "      <td>-0.091257</td>\n",
       "      <td>0.213656</td>\n",
       "      <td>0.253277</td>\n",
       "      <td>0.144105</td>\n",
       "    </tr>\n",
       "    <tr>\n",
       "      <th>cad3</th>\n",
       "      <td>0.225222</td>\n",
       "      <td>0.085464</td>\n",
       "      <td>-0.020204</td>\n",
       "      <td>0.029201</td>\n",
       "      <td>0.076185</td>\n",
       "    </tr>\n",
       "    <tr>\n",
       "      <th>cad4</th>\n",
       "      <td>-0.093777</td>\n",
       "      <td>0.000906</td>\n",
       "      <td>-0.052809</td>\n",
       "      <td>-0.069387</td>\n",
       "      <td>-0.059523</td>\n",
       "    </tr>\n",
       "    <tr>\n",
       "      <th>cad5</th>\n",
       "      <td>0.038482</td>\n",
       "      <td>-0.091332</td>\n",
       "      <td>0.060749</td>\n",
       "      <td>0.074074</td>\n",
       "      <td>-0.048908</td>\n",
       "    </tr>\n",
       "    <tr>\n",
       "      <th>cad6</th>\n",
       "      <td>0.160397</td>\n",
       "      <td>-0.007160</td>\n",
       "      <td>0.034112</td>\n",
       "      <td>0.061898</td>\n",
       "      <td>-0.058451</td>\n",
       "    </tr>\n",
       "    <tr>\n",
       "      <th>cad7</th>\n",
       "      <td>0.143048</td>\n",
       "      <td>-0.228170</td>\n",
       "      <td>0.030702</td>\n",
       "      <td>0.022472</td>\n",
       "      <td>-0.113767</td>\n",
       "    </tr>\n",
       "    <tr>\n",
       "      <th>cad8</th>\n",
       "      <td>-0.025181</td>\n",
       "      <td>-0.040261</td>\n",
       "      <td>-0.039196</td>\n",
       "      <td>0.119213</td>\n",
       "      <td>0.077434</td>\n",
       "    </tr>\n",
       "    <tr>\n",
       "      <th>cad9</th>\n",
       "      <td>-0.073399</td>\n",
       "      <td>-0.168941</td>\n",
       "      <td>-0.024567</td>\n",
       "      <td>0.011361</td>\n",
       "      <td>0.086453</td>\n",
       "    </tr>\n",
       "  </tbody>\n",
       "</table>\n",
       "</div>"
      ],
      "text/plain": [
       "             0         1         2         3         4\n",
       "cad0 -0.133720  0.089640 -0.001635  0.050341 -0.040753\n",
       "cad1 -0.078977 -0.030039 -0.040241  0.131008 -0.045167\n",
       "cad2 -0.070759 -0.091257  0.213656  0.253277  0.144105\n",
       "cad3  0.225222  0.085464 -0.020204  0.029201  0.076185\n",
       "cad4 -0.093777  0.000906 -0.052809 -0.069387 -0.059523\n",
       "cad5  0.038482 -0.091332  0.060749  0.074074 -0.048908\n",
       "cad6  0.160397 -0.007160  0.034112  0.061898 -0.058451\n",
       "cad7  0.143048 -0.228170  0.030702  0.022472 -0.113767\n",
       "cad8 -0.025181 -0.040261 -0.039196  0.119213  0.077434\n",
       "cad9 -0.073399 -0.168941 -0.024567  0.011361  0.086453"
      ]
     },
     "execution_count": 146,
     "metadata": {},
     "output_type": "execute_result"
    }
   ],
   "source": [
    "scm.C"
   ]
  },
  {
   "cell_type": "code",
   "execution_count": 147,
   "metadata": {},
   "outputs": [
    {
     "data": {
      "text/html": [
       "<div>\n",
       "<style scoped>\n",
       "    .dataframe tbody tr th:only-of-type {\n",
       "        vertical-align: middle;\n",
       "    }\n",
       "\n",
       "    .dataframe tbody tr th {\n",
       "        vertical-align: top;\n",
       "    }\n",
       "\n",
       "    .dataframe thead th {\n",
       "        text-align: right;\n",
       "    }\n",
       "</style>\n",
       "<table border=\"1\" class=\"dataframe\">\n",
       "  <thead>\n",
       "    <tr style=\"text-align: right;\">\n",
       "      <th></th>\n",
       "      <th>0</th>\n",
       "      <th>1</th>\n",
       "      <th>2</th>\n",
       "      <th>3</th>\n",
       "      <th>4</th>\n",
       "    </tr>\n",
       "  </thead>\n",
       "  <tbody>\n",
       "    <tr>\n",
       "      <th>0</th>\n",
       "      <td>0.198500</td>\n",
       "      <td>0.216625</td>\n",
       "      <td>0.339250</td>\n",
       "      <td>0.170125</td>\n",
       "      <td>0.075500</td>\n",
       "    </tr>\n",
       "    <tr>\n",
       "      <th>1</th>\n",
       "      <td>0.205375</td>\n",
       "      <td>0.212625</td>\n",
       "      <td>0.322125</td>\n",
       "      <td>0.171000</td>\n",
       "      <td>0.088875</td>\n",
       "    </tr>\n",
       "    <tr>\n",
       "      <th>2</th>\n",
       "      <td>0.209375</td>\n",
       "      <td>0.211250</td>\n",
       "      <td>0.310000</td>\n",
       "      <td>0.172875</td>\n",
       "      <td>0.096500</td>\n",
       "    </tr>\n",
       "    <tr>\n",
       "      <th>3</th>\n",
       "      <td>0.210875</td>\n",
       "      <td>0.211000</td>\n",
       "      <td>0.302625</td>\n",
       "      <td>0.174125</td>\n",
       "      <td>0.101375</td>\n",
       "    </tr>\n",
       "    <tr>\n",
       "      <th>4</th>\n",
       "      <td>0.211500</td>\n",
       "      <td>0.211750</td>\n",
       "      <td>0.299375</td>\n",
       "      <td>0.175625</td>\n",
       "      <td>0.101750</td>\n",
       "    </tr>\n",
       "  </tbody>\n",
       "</table>\n",
       "</div>"
      ],
      "text/plain": [
       "          0         1         2         3         4\n",
       "0  0.198500  0.216625  0.339250  0.170125  0.075500\n",
       "1  0.205375  0.212625  0.322125  0.171000  0.088875\n",
       "2  0.209375  0.211250  0.310000  0.172875  0.096500\n",
       "3  0.210875  0.211000  0.302625  0.174125  0.101375\n",
       "4  0.211500  0.211750  0.299375  0.175625  0.101750"
      ]
     },
     "execution_count": 147,
     "metadata": {},
     "output_type": "execute_result"
    }
   ],
   "source": [
    "scm.proportions.head()"
   ]
  },
  {
   "cell_type": "code",
   "execution_count": 148,
   "metadata": {},
   "outputs": [
    {
     "data": {
      "text/plain": [
       "<matplotlib.axes._subplots.AxesSubplot at 0x2e0f7eeb278>"
      ]
     },
     "execution_count": 148,
     "metadata": {},
     "output_type": "execute_result"
    },
    {
     "data": {
      "image/png": "[encoded data removed]",
      "text/plain": [
       "<Figure size 432x288 with 1 Axes>"
      ]
     },
     "metadata": {
      "needs_background": "light"
     },
     "output_type": "display_data"
    }
   ],
   "source": [
    "scm.proportions.plot()"
   ]
  },
  {
   "cell_type": "markdown",
   "metadata": {},
   "source": [
    "Cadre 3 (red) is the largest cadre and contains around 33% of the training data. Cadre 4 (purple) is the smallest. In Alex's code, one cadre disappears halfway through the training process"
   ]
  },
  {
   "cell_type": "code",
   "execution_count": 149,
   "metadata": {},
   "outputs": [],
   "source": [
    "margin, label, cadre_weight, cadre, loss = scm.predictFull(Dva)"
   ]
  },
  {
   "cell_type": "markdown",
   "metadata": {},
   "source": [
    "The predictFull method now also calculates the loss value for the supplied data as the last argument."
   ]
  },
  {
   "cell_type": "code",
   "execution_count": 150,
   "metadata": {},
   "outputs": [
    {
     "data": {
      "text/html": [
       "<div>\n",
       "<style scoped>\n",
       "    .dataframe tbody tr th:only-of-type {\n",
       "        vertical-align: middle;\n",
       "    }\n",
       "\n",
       "    .dataframe tbody tr th {\n",
       "        vertical-align: top;\n",
       "    }\n",
       "\n",
       "    .dataframe thead th {\n",
       "        text-align: right;\n",
       "    }\n",
       "</style>\n",
       "<table border=\"1\" class=\"dataframe\">\n",
       "  <thead>\n",
       "    <tr style=\"text-align: right;\">\n",
       "      <th></th>\n",
       "      <th>loss</th>\n",
       "      <th>accuracy</th>\n",
       "      <th>ROC_AUC</th>\n",
       "      <th>PR_AUC</th>\n",
       "    </tr>\n",
       "  </thead>\n",
       "  <tbody>\n",
       "    <tr>\n",
       "      <th>0</th>\n",
       "      <td>0.735598</td>\n",
       "      <td>0.5565</td>\n",
       "      <td>0.614791</td>\n",
       "      <td>0.641697</td>\n",
       "    </tr>\n",
       "  </tbody>\n",
       "</table>\n",
       "</div>"
      ],
      "text/plain": [
       "       loss  accuracy   ROC_AUC    PR_AUC\n",
       "0  0.735598    0.5565  0.614791  0.641697"
      ]
     },
     "execution_count": 150,
     "metadata": {},
     "output_type": "execute_result"
    }
   ],
   "source": [
    "scm.scoreMetrics(Dva)"
   ]
  },
  {
   "cell_type": "code",
   "execution_count": null,
   "metadata": {},
   "outputs": [],
   "source": []
  },
  {
   "cell_type": "markdown",
   "metadata": {},
   "source": [
    "**Logistic Regression**"
   ]
  },
  {
   "cell_type": "code",
   "execution_count": 145,
   "metadata": {},
   "outputs": [
    {
     "data": {
      "text/plain": [
       "<matplotlib.axes._subplots.AxesSubplot at 0x1cb47346668>"
      ]
     },
     "execution_count": 145,
     "metadata": {},
     "output_type": "execute_result"
    },
    {
     "data": {
      "image/png": "[encoded data removed]",
      "text/plain": [
       "<Figure size 432x288 with 1 Axes>"
      ]
     },
     "metadata": {
      "needs_background": "light"
     },
     "output_type": "display_data"
    }
   ],
   "source": [
    "sns.countplot(x='target',data=z, hue='cadre')"
   ]
  },
  {
   "cell_type": "markdown",
   "metadata": {},
   "source": [
    "Exploratory  - plot histogram to understand distribution of cadres with respect to target"
   ]
  },
  {
   "cell_type": "code",
   "execution_count": null,
   "metadata": {},
   "outputs": [],
   "source": []
  },
  {
   "cell_type": "code",
   "execution_count": 126,
   "metadata": {},
   "outputs": [],
   "source": [
    "# import Logistic Regression Module\n",
    "from sklearn.linear_model import LogisticRegression\n",
    "from sklearn import metrics\n",
    "from sklearn.metrics import classification_report\n",
    "from sklearn.metrics import confusion_matrix\n",
    "lr = LogisticRegression()"
   ]
  },
  {
   "cell_type": "markdown",
   "metadata": {},
   "source": [
    "Set up dataframe for X features and y features:\n",
    "1. Note that we separate target prediction features from cadre prediction features\n",
    "2. Due to the above, we perform a binomial logistic regression for the target using only the target prediction features (dv0 - dv4)\n",
    "3. We use the sklearn logistic regression model since the SCM does training and testing as well"
   ]
  },
  {
   "cell_type": "code",
   "execution_count": null,
   "metadata": {},
   "outputs": [],
   "source": []
  },
  {
   "cell_type": "markdown",
   "metadata": {},
   "source": [
    "Logistic Regression (using target prediction features) for entire dataset irrespective of cadre"
   ]
  },
  {
   "cell_type": "code",
   "execution_count": 157,
   "metadata": {},
   "outputs": [
    {
     "data": {
      "text/plain": [
       "array([[ 2.14724246e-02, -5.37560412e-02, -3.61845614e-02,\n",
       "        -5.04303888e-03,  4.42016354e-03,  5.10525800e-02,\n",
       "        -3.59027516e-02,  6.26902373e-05, -1.15312752e-02,\n",
       "        -1.72005105e-02, -6.50080252e-02, -5.34275780e-02,\n",
       "        -3.12527673e-02, -1.02125644e-02,  1.67357968e-01]])"
      ]
     },
     "execution_count": 157,
     "metadata": {},
     "output_type": "execute_result"
    }
   ],
   "source": [
    "X = data.drop(['target'], 1)\n",
    "y = data['target']\n",
    "\n",
    "# Run logistic regression\n",
    "X_train, X_test, y_train, y_test = train_test_split(X, y, test_size=0.2, random_state=101)\n",
    "result = lr.fit(X_train, y_train)\n",
    "\n",
    "#display coefficients\n",
    "result.coef_"
   ]
  },
  {
   "cell_type": "code",
   "execution_count": 158,
   "metadata": {},
   "outputs": [],
   "source": [
    "pred = lr.predict(X_test)"
   ]
  },
  {
   "cell_type": "code",
   "execution_count": 159,
   "metadata": {},
   "outputs": [
    {
     "name": "stdout",
     "output_type": "stream",
     "text": [
      "              precision    recall  f1-score   support\n",
      "\n",
      "           0       0.70      0.66      0.68       966\n",
      "           1       0.70      0.74      0.72      1034\n",
      "\n",
      "   micro avg       0.70      0.70      0.70      2000\n",
      "   macro avg       0.70      0.70      0.70      2000\n",
      "weighted avg       0.70      0.70      0.70      2000\n",
      "\n"
     ]
    }
   ],
   "source": [
    "print(classification_report(y_test, pred))"
   ]
  },
  {
   "cell_type": "code",
   "execution_count": 160,
   "metadata": {},
   "outputs": [
    {
     "data": {
      "text/plain": [
       "array([[633, 333],\n",
       "       [269, 765]], dtype=int64)"
      ]
     },
     "execution_count": 160,
     "metadata": {},
     "output_type": "execute_result"
    }
   ],
   "source": [
    "confusion_matrix(y_test, pred)"
   ]
  },
  {
   "cell_type": "code",
   "execution_count": null,
   "metadata": {},
   "outputs": [],
   "source": []
  },
  {
   "cell_type": "code",
   "execution_count": null,
   "metadata": {},
   "outputs": [],
   "source": []
  },
  {
   "cell_type": "markdown",
   "metadata": {},
   "source": [
    "Logistic Regression for cadre 0"
   ]
  },
  {
   "cell_type": "code",
   "execution_count": 131,
   "metadata": {},
   "outputs": [
    {
     "name": "stdout",
     "output_type": "stream",
     "text": [
      "              precision    recall  f1-score   support\n",
      "\n",
      "           0       1.00      1.00      1.00       198\n",
      "           1       1.00      1.00      1.00       203\n",
      "\n",
      "   micro avg       1.00      1.00      1.00       401\n",
      "   macro avg       1.00      1.00      1.00       401\n",
      "weighted avg       1.00      1.00      1.00       401\n",
      "\n"
     ]
    }
   ],
   "source": [
    "# select data for each cadre only\n",
    "\n",
    "# Drop row/observation from dataset if cadre is not == 0\n",
    "cadre0 = z[z.cadre == 0] \n",
    "\n",
    "# Select X features for cadre 0\n",
    "cadre0X = cadre0.drop(['cadre', 'index_c', 'target','cad0','cad1','cad2','cad3','cad4','cad5','cad6','cad7','cad8','cad9'], axis=1) \n",
    "\n",
    "# Select y features for cadre 0\n",
    "cadre0y = cadre0['target'] \n",
    "\n",
    "# Run logistic regression\n",
    "X_train, X_test, y_train, y_test = train_test_split(cadre0X, cadre0y, test_size=0.2, random_state=101)\n",
    "cadre0_result = lr.fit(X_train, y_train)\n",
    "\n",
    "cadre0r = pd.DataFrame(cadre0_result.coef_)\n",
    "cadre0r = cadre0r.T #need to transpose because results appear in array form\n",
    "\n",
    "# rename index and colum for easy identification when merged\n",
    "cadre0r.rename(index = {0: \"dv0\", 1: \"dv1\", 2: \"dv2\", 3: \"dv3\", 4: \"dv4\"}, inplace = True)\n",
    "cadre0r.rename(columns = {0: \"log0\"}, inplace = True)\n",
    "\n",
    "#test accuracy of predictions\n",
    "predc0 = lr.predict(X_test)\n",
    "print(classification_report(y_test, predc0))"
   ]
  },
  {
   "cell_type": "code",
   "execution_count": null,
   "metadata": {},
   "outputs": [],
   "source": []
  },
  {
   "cell_type": "markdown",
   "metadata": {},
   "source": [
    "Logistic Regression for cadre 1"
   ]
  },
  {
   "cell_type": "code",
   "execution_count": 132,
   "metadata": {},
   "outputs": [
    {
     "ename": "ValueError",
     "evalue": "Found array with 0 sample(s) (shape=(0, 5)) while a minimum of 1 is required.",
     "output_type": "error",
     "traceback": [
      "\u001b[1;31m---------------------------------------------------------------------------\u001b[0m",
      "\u001b[1;31mValueError\u001b[0m                                Traceback (most recent call last)",
      "\u001b[1;32m<ipython-input-132-19dda0c858fe>\u001b[0m in \u001b[0;36m<module>\u001b[1;34m\u001b[0m\n\u001b[0;32m     10\u001b[0m \u001b[1;31m# Run logistic regression\u001b[0m\u001b[1;33m\u001b[0m\u001b[1;33m\u001b[0m\u001b[1;33m\u001b[0m\u001b[0m\n\u001b[0;32m     11\u001b[0m \u001b[0mX_train\u001b[0m\u001b[1;33m,\u001b[0m \u001b[0mX_test\u001b[0m\u001b[1;33m,\u001b[0m \u001b[0my_train\u001b[0m\u001b[1;33m,\u001b[0m \u001b[0my_test\u001b[0m \u001b[1;33m=\u001b[0m \u001b[0mtrain_test_split\u001b[0m\u001b[1;33m(\u001b[0m\u001b[0mcadre1X\u001b[0m\u001b[1;33m,\u001b[0m \u001b[0mcadre1y\u001b[0m\u001b[1;33m,\u001b[0m \u001b[0mtest_size\u001b[0m\u001b[1;33m=\u001b[0m\u001b[1;36m0.2\u001b[0m\u001b[1;33m,\u001b[0m \u001b[0mrandom_state\u001b[0m\u001b[1;33m=\u001b[0m\u001b[1;36m101\u001b[0m\u001b[1;33m)\u001b[0m\u001b[1;33m\u001b[0m\u001b[1;33m\u001b[0m\u001b[0m\n\u001b[1;32m---> 12\u001b[1;33m \u001b[0mcadre1_result\u001b[0m \u001b[1;33m=\u001b[0m \u001b[0mlr\u001b[0m\u001b[1;33m.\u001b[0m\u001b[0mfit\u001b[0m\u001b[1;33m(\u001b[0m\u001b[0mX_train\u001b[0m\u001b[1;33m,\u001b[0m \u001b[0my_train\u001b[0m\u001b[1;33m)\u001b[0m\u001b[1;33m\u001b[0m\u001b[1;33m\u001b[0m\u001b[0m\n\u001b[0m\u001b[0;32m     13\u001b[0m \u001b[1;33m\u001b[0m\u001b[0m\n\u001b[0;32m     14\u001b[0m \u001b[0mcadre1r\u001b[0m \u001b[1;33m=\u001b[0m \u001b[0mpd\u001b[0m\u001b[1;33m.\u001b[0m\u001b[0mDataFrame\u001b[0m\u001b[1;33m(\u001b[0m\u001b[0mcadre1_result\u001b[0m\u001b[1;33m.\u001b[0m\u001b[0mcoef_\u001b[0m\u001b[1;33m)\u001b[0m\u001b[1;33m\u001b[0m\u001b[1;33m\u001b[0m\u001b[0m\n",
      "\u001b[1;32mC:\\ProgramData\\Anaconda3\\lib\\site-packages\\sklearn\\linear_model\\logistic.py\u001b[0m in \u001b[0;36mfit\u001b[1;34m(self, X, y, sample_weight)\u001b[0m\n\u001b[0;32m   1286\u001b[0m \u001b[1;33m\u001b[0m\u001b[0m\n\u001b[0;32m   1287\u001b[0m         X, y = check_X_y(X, y, accept_sparse='csr', dtype=_dtype, order=\"C\",\n\u001b[1;32m-> 1288\u001b[1;33m                          accept_large_sparse=solver != 'liblinear')\n\u001b[0m\u001b[0;32m   1289\u001b[0m         \u001b[0mcheck_classification_targets\u001b[0m\u001b[1;33m(\u001b[0m\u001b[0my\u001b[0m\u001b[1;33m)\u001b[0m\u001b[1;33m\u001b[0m\u001b[1;33m\u001b[0m\u001b[0m\n\u001b[0;32m   1290\u001b[0m         \u001b[0mself\u001b[0m\u001b[1;33m.\u001b[0m\u001b[0mclasses_\u001b[0m \u001b[1;33m=\u001b[0m \u001b[0mnp\u001b[0m\u001b[1;33m.\u001b[0m\u001b[0munique\u001b[0m\u001b[1;33m(\u001b[0m\u001b[0my\u001b[0m\u001b[1;33m)\u001b[0m\u001b[1;33m\u001b[0m\u001b[1;33m\u001b[0m\u001b[0m\n",
      "\u001b[1;32mC:\\ProgramData\\Anaconda3\\lib\\site-packages\\sklearn\\utils\\validation.py\u001b[0m in \u001b[0;36mcheck_X_y\u001b[1;34m(X, y, accept_sparse, accept_large_sparse, dtype, order, copy, force_all_finite, ensure_2d, allow_nd, multi_output, ensure_min_samples, ensure_min_features, y_numeric, warn_on_dtype, estimator)\u001b[0m\n\u001b[0;32m    754\u001b[0m                     \u001b[0mensure_min_features\u001b[0m\u001b[1;33m=\u001b[0m\u001b[0mensure_min_features\u001b[0m\u001b[1;33m,\u001b[0m\u001b[1;33m\u001b[0m\u001b[1;33m\u001b[0m\u001b[0m\n\u001b[0;32m    755\u001b[0m                     \u001b[0mwarn_on_dtype\u001b[0m\u001b[1;33m=\u001b[0m\u001b[0mwarn_on_dtype\u001b[0m\u001b[1;33m,\u001b[0m\u001b[1;33m\u001b[0m\u001b[1;33m\u001b[0m\u001b[0m\n\u001b[1;32m--> 756\u001b[1;33m                     estimator=estimator)\n\u001b[0m\u001b[0;32m    757\u001b[0m     \u001b[1;32mif\u001b[0m \u001b[0mmulti_output\u001b[0m\u001b[1;33m:\u001b[0m\u001b[1;33m\u001b[0m\u001b[1;33m\u001b[0m\u001b[0m\n\u001b[0;32m    758\u001b[0m         y = check_array(y, 'csr', force_all_finite=True, ensure_2d=False,\n",
      "\u001b[1;32mC:\\ProgramData\\Anaconda3\\lib\\site-packages\\sklearn\\utils\\validation.py\u001b[0m in \u001b[0;36mcheck_array\u001b[1;34m(array, accept_sparse, accept_large_sparse, dtype, order, copy, force_all_finite, ensure_2d, allow_nd, ensure_min_samples, ensure_min_features, warn_on_dtype, estimator)\u001b[0m\n\u001b[0;32m    580\u001b[0m                              \u001b[1;34m\" minimum of %d is required%s.\"\u001b[0m\u001b[1;33m\u001b[0m\u001b[1;33m\u001b[0m\u001b[0m\n\u001b[0;32m    581\u001b[0m                              % (n_samples, shape_repr, ensure_min_samples,\n\u001b[1;32m--> 582\u001b[1;33m                                 context))\n\u001b[0m\u001b[0;32m    583\u001b[0m \u001b[1;33m\u001b[0m\u001b[0m\n\u001b[0;32m    584\u001b[0m     \u001b[1;32mif\u001b[0m \u001b[0mensure_min_features\u001b[0m \u001b[1;33m>\u001b[0m \u001b[1;36m0\u001b[0m \u001b[1;32mand\u001b[0m \u001b[0marray\u001b[0m\u001b[1;33m.\u001b[0m\u001b[0mndim\u001b[0m \u001b[1;33m==\u001b[0m \u001b[1;36m2\u001b[0m\u001b[1;33m:\u001b[0m\u001b[1;33m\u001b[0m\u001b[1;33m\u001b[0m\u001b[0m\n",
      "\u001b[1;31mValueError\u001b[0m: Found array with 0 sample(s) (shape=(0, 5)) while a minimum of 1 is required."
     ]
    }
   ],
   "source": [
    "# Drop row/observation from dataset if cadre is not == 1\n",
    "cadre1 = z[z.cadre == 1] \n",
    "\n",
    "# Select X features for cadre 1\n",
    "cadre1X = cadre1.drop(['cadre', 'index_c', 'target','cad0','cad1','cad2','cad3','cad4','cad5','cad6','cad7','cad8','cad9'], axis=1) \n",
    "\n",
    "# Select y features for cadre 1\n",
    "cadre1y = cadre1['target'] \n",
    "\n",
    "# Run logistic regression\n",
    "X_train, X_test, y_train, y_test = train_test_split(cadre1X, cadre1y, test_size=0.2, random_state=101)\n",
    "cadre1_result = lr.fit(X_train, y_train)\n",
    "\n",
    "cadre1r = pd.DataFrame(cadre1_result.coef_)\n",
    "cadre1r = cadre1r.T #need to transpose because results appear in array form\n",
    "\n",
    "# rename index and colum for easy identification when merged\n",
    "cadre1r.rename(index = {0: \"dv0\", 1: \"dv1\", 2: \"dv2\", 3: \"dv3\", 4: \"dv4\"}, inplace = True)\n",
    "cadre1r.rename(columns = {0: \"log1\"}, inplace = True)\n",
    "\n",
    "#test accuracy of predictions\n",
    "predc1 = lr.predict(X_test)\n",
    "print(classification_report(y_test, predc1))"
   ]
  },
  {
   "cell_type": "code",
   "execution_count": null,
   "metadata": {},
   "outputs": [],
   "source": []
  },
  {
   "cell_type": "markdown",
   "metadata": {},
   "source": [
    "Logistic Regression for cadre 2"
   ]
  },
  {
   "cell_type": "code",
   "execution_count": null,
   "metadata": {},
   "outputs": [],
   "source": [
    "# Drop row/observation from dataset if cadre is not == 2\n",
    "cadre2 = z[z.cadre == 2] \n",
    "\n",
    "# Select X features for cadre 2\n",
    "cadre2X = cadre2.drop(['cadre', 'index_c', 'target','cad0','cad1','cad2','cad3','cad4','cad5','cad6','cad7','cad8','cad9'], axis=1) \n",
    "\n",
    "# Select y features for cadre 2\n",
    "cadre2y = cadre2['target'] \n",
    "\n",
    "# Run logistic regression\n",
    "X_train, X_test, y_train, y_test = train_test_split(cadre2X, cadre2y, test_size=0.2, random_state=101)\n",
    "cadre2_result = lr.fit(X_train, y_train)\n",
    "\n",
    "cadre2r = pd.DataFrame(cadre2_result.coef_)\n",
    "cadre2r = cadre2r.T #need to transpose because results appear in array form\n",
    "\n",
    "# rename index and colum for easy identification when merged\n",
    "cadre2r.rename(index = {0: \"dv0\", 1: \"dv1\", 2: \"dv2\", 3: \"dv3\", 4: \"dv4\"}, inplace = True)\n",
    "cadre2r.rename(columns = {0: \"log2\"}, inplace = True)\n",
    "\n",
    "#test accuracy of predictions\n",
    "predc2 = lr.predict(X_test)\n",
    "print(classification_report(y_test, predc2))"
   ]
  },
  {
   "cell_type": "code",
   "execution_count": null,
   "metadata": {},
   "outputs": [],
   "source": []
  },
  {
   "cell_type": "markdown",
   "metadata": {},
   "source": [
    "Logistic Regression for cadre 3"
   ]
  },
  {
   "cell_type": "code",
   "execution_count": null,
   "metadata": {},
   "outputs": [],
   "source": [
    "# Drop row/observation from dataset if cadre is not == 3\n",
    "cadre3 = z[z.cadre == 3] \n",
    "\n",
    "# Select X features for cadre 3\n",
    "cadre3X = cadre3.drop(['cadre', 'index_c', 'target','cad0','cad1','cad2','cad3','cad4','cad5','cad6','cad7','cad8','cad9'], axis=1) \n",
    "\n",
    "# Select y features for cadre 3\n",
    "cadre3y = cadre3['target'] \n",
    "\n",
    "# Run logistic regression\n",
    "X_train, X_test, y_train, y_test = train_test_split(cadre3X, cadre3y, test_size=0.2, random_state=101)\n",
    "cadre3_result = lr.fit(X_train, y_train)\n",
    "\n",
    "cadre3r = pd.DataFrame(cadre3_result.coef_)\n",
    "cadre3r = cadre3r.T #need to transpose because results appear in array form\n",
    "\n",
    "# rename index and colum for easy identification when merged\n",
    "cadre3r.rename(index = {0: \"dv0\", 1: \"dv1\", 2: \"dv2\", 3: \"dv3\", 4: \"dv4\"}, inplace = True)\n",
    "cadre3r.rename(columns = {0: \"log3\"}, inplace = True)\n",
    "\n",
    "#test accuracy of predictions\n",
    "predc3 = lr.predict(X_test)\n",
    "print(classification_report(y_test, predc3))"
   ]
  },
  {
   "cell_type": "code",
   "execution_count": null,
   "metadata": {},
   "outputs": [],
   "source": []
  },
  {
   "cell_type": "markdown",
   "metadata": {},
   "source": [
    "Logistic Regression for cadre 4"
   ]
  },
  {
   "cell_type": "code",
   "execution_count": null,
   "metadata": {},
   "outputs": [],
   "source": [
    "# Drop row/observation from dataset if cadre is not == 4\n",
    "cadre4 = z[z.cadre == 4] \n",
    "\n",
    "# Select X features for cadre 4\n",
    "cadre4X = cadre4.drop(['cadre', 'index_c', 'target','cad0','cad1','cad2','cad3','cad4','cad5','cad6','cad7','cad8','cad9'], axis=1) \n",
    "\n",
    "# Select y features for cadre 4\n",
    "cadre4y = cadre4['target'] \n",
    "\n",
    "# Run logistic regression\n",
    "X_train, X_test, y_train, y_test = train_test_split(cadre4X, cadre4y, test_size=0.2, random_state=101)\n",
    "cadre4_result = lr.fit(X_train, y_train)\n",
    "\n",
    "cadre4r = pd.DataFrame(cadre4_result.coef_)\n",
    "cadre4r = cadre4r.T #need to transpose because results appear in array form\n",
    "\n",
    "# rename index and colum for easy identification when merged\n",
    "cadre4r.rename(index = {0: \"dv0\", 1: \"dv1\", 2: \"dv2\", 3: \"dv3\", 4: \"dv4\"}, inplace = True)\n",
    "cadre4r.rename(columns = {0: \"log4\"}, inplace = True)\n",
    "\n",
    "#test accuracy of predictions\n",
    "predc4 = lr.predict(X_test)\n",
    "print(classification_report(y_test, predc4))"
   ]
  },
  {
   "cell_type": "code",
   "execution_count": null,
   "metadata": {},
   "outputs": [],
   "source": []
  },
  {
   "cell_type": "markdown",
   "metadata": {},
   "source": [
    "Next, we compare the results from the regular Logit regression with the SCM"
   ]
  },
  {
   "cell_type": "code",
   "execution_count": null,
   "metadata": {},
   "outputs": [],
   "source": [
    "# this is our result for running the SCM for our target\n",
    "scm_target = pd.DataFrame(scm.W) \n",
    "\n",
    "# rename index and colum for easy identification when merged\n",
    "scm_target.rename(columns = {0: \"scm0\", 1: \"scm1\", 2: \"scm2\", 3: \"scm3\", 4: \"scm4\"}, inplace = True)\n",
    "\n",
    "scm_target "
   ]
  },
  {
   "cell_type": "code",
   "execution_count": null,
   "metadata": {},
   "outputs": [],
   "source": [
    "# join scm coefficients to logistic regression results for individual cadres\n",
    "compare_table = pd.concat([scm_target, cadre0r, cadre1r, cadre2r, cadre3r, cadre4r], axis = 1)\n",
    "compare_table"
   ]
  },
  {
   "cell_type": "markdown",
   "metadata": {},
   "source": [
    "The table above compares the coefficients from teh SMC and Logit Regression. NB: Not sure what to make of this yet. Need more searching "
   ]
  },
  {
   "cell_type": "code",
   "execution_count": null,
   "metadata": {},
   "outputs": [],
   "source": []
  },
  {
   "cell_type": "code",
   "execution_count": null,
   "metadata": {},
   "outputs": [],
   "source": []
  },
  {
   "cell_type": "code",
   "execution_count": null,
   "metadata": {},
   "outputs": [],
   "source": []
  },
  {
   "cell_type": "code",
   "execution_count": null,
   "metadata": {},
   "outputs": [],
   "source": []
  },
  {
   "cell_type": "code",
   "execution_count": null,
   "metadata": {},
   "outputs": [],
   "source": []
  },
  {
   "cell_type": "code",
   "execution_count": null,
   "metadata": {},
   "outputs": [],
   "source": []
  },
  {
   "cell_type": "code",
   "execution_count": null,
   "metadata": {},
   "outputs": [],
   "source": []
  },
  {
   "cell_type": "code",
   "execution_count": null,
   "metadata": {},
   "outputs": [],
   "source": []
  },
  {
   "cell_type": "code",
   "execution_count": null,
   "metadata": {},
   "outputs": [],
   "source": []
  },
  {
   "cell_type": "code",
   "execution_count": null,
   "metadata": {},
   "outputs": [],
   "source": []
  },
  {
   "cell_type": "code",
   "execution_count": null,
   "metadata": {},
   "outputs": [],
   "source": []
  },
  {
   "cell_type": "code",
   "execution_count": null,
   "metadata": {},
   "outputs": [],
   "source": []
  },
  {
   "cell_type": "code",
   "execution_count": null,
   "metadata": {},
   "outputs": [],
   "source": []
  },
  {
   "cell_type": "code",
   "execution_count": null,
   "metadata": {},
   "outputs": [],
   "source": []
  },
  {
   "cell_type": "code",
   "execution_count": null,
   "metadata": {},
   "outputs": [],
   "source": []
  },
  {
   "cell_type": "code",
   "execution_count": null,
   "metadata": {},
   "outputs": [],
   "source": []
  },
  {
   "cell_type": "code",
   "execution_count": null,
   "metadata": {},
   "outputs": [],
   "source": []
  },
  {
   "cell_type": "code",
   "execution_count": null,
   "metadata": {},
   "outputs": [],
   "source": []
  },
  {
   "cell_type": "code",
   "execution_count": null,
   "metadata": {},
   "outputs": [],
   "source": []
  }
 ],
 "metadata": {
  "kernelspec": {
   "display_name": "Python 3",
   "language": "python",
   "name": "python3"
  },
  "language_info": {
   "codemirror_mode": {
    "name": "ipython",
    "version": 3
   },
   "file_extension": ".py",
   "mimetype": "text/x-python",
   "name": "python",
   "nbconvert_exporter": "python",
   "pygments_lexer": "ipython3",
   "version": "3.7.3"
  }
 },
 "nbformat": 4,
 "nbformat_minor": 2
}
