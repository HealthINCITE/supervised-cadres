{
 "cells": [
  {
   "cell_type": "code",
   "execution_count": null,
   "metadata": {},
   "outputs": [],
   "source": [
    "from sklearn.datasets.samples_generator import make_blobs\n",
    "from  sklearn.datasets import make_classification\n",
    "from matplotlib import pyplot\n",
    "from pandas import DataFrame"
   ]
  },
  {
   "cell_type": "markdown",
   "metadata": {},
   "source": [
    "### Very Simple Simulated Example.\n",
    "\n",
    "- This initially creates clusters of points normally distributed (std=1) about vertices of an n_informative-dimensional hypercube with sides of length 2*class_sep and assigns an equal number of clusters to each class. It introduces interdependence between these features and adds various types of further noise to the data.\n",
    "\n",
    "Without shuffling, X horizontally stacks features in the following order: the primary n_informative features, followed by n_redundant linear combinations of the informative features, followed by n_repeated duplicates, drawn randomly with replacement from the informative and redundant features. The remaining features are filled with random noise. Thus, without shuffling, all useful features are contained in the columns X[:, :n_informative + n_redundant + n_repeated].\n"
   ]
  },
  {
   "cell_type": "code",
   "execution_count": 34,
   "metadata": {},
   "outputs": [],
   "source": [
    "samples=1000 #The number of samples.(Int)\n",
    "features= 20 #The total number of features.\n",
    "informative=5 \n",
    "redundant=2\n",
    "repeated=0\n",
    "classes=5\n",
    "seed=101\n",
    "\n",
    "\n",
    "X, y= make_classification(n_samples=samples, n_features=features, \n",
    "                                     n_informative=informative, n_redundant=redundant, \n",
    "                                     n_repeated=repeated, n_classes=classes, \n",
    "                                     n_clusters_per_class=2, weights=None, \n",
    "                                    flip_y=0.01, class_sep=1.0, hypercube=True, \n",
    "                                    shift=0.0, scale=1.0, shuffle=True, random_state=seed)"
   ]
  },
  {
   "cell_type": "code",
   "execution_count": null,
   "metadata": {},
   "outputs": [],
   "source": [
    "\n",
    "# Code source: Gaël Varoquaux\n",
    "#              Andreas Müller\n",
    "# Modified for documentation by Jaques Grobler\n",
    "# License: BSD 3 clause\n",
    "\n",
    "import numpy as np\n",
    "import matplotlib.pyplot as plt\n",
    "from matplotlib.colors import ListedColormap\n",
    "from sklearn.model_selection import train_test_split\n",
    "from sklearn.preprocessing import StandardScaler\n",
    "from sklearn.datasets import make_moons, make_circles, make_classification\n",
    "from sklearn.neural_network import MLPClassifier\n",
    "from sklearn.neighbors import KNeighborsClassifier\n",
    "from sklearn.svm import SVC\n",
    "from sklearn.gaussian_process import GaussianProcessClassifier\n",
    "from sklearn.gaussian_process.kernels import RBF\n",
    "from sklearn.tree import DecisionTreeClassifier\n",
    "from sklearn.ensemble import RandomForestClassifier, AdaBoostClassifier\n",
    "from sklearn.naive_bayes import GaussianNB\n",
    "from sklearn.discriminant_analysis import QuadraticDiscriminantAnalysis\n",
    "\n",
    "\n",
    "X, y = make_classification(n_features=2, n_redundant=0, n_informative=2,\n",
    "                           random_state=1, n_clusters_per_class=1)\n",
    "rng = np.random.RandomState(2)"
   ]
  },
  {
   "cell_type": "code",
   "execution_count": 31,
   "metadata": {},
   "outputs": [
    {
     "data": {
      "image/png": "[encoded data removed]",
      "text/plain": [
       "<Figure size 432x288 with 1 Axes>"
      ]
     },
     "metadata": {},
     "output_type": "display_data"
    },
    {
     "data": {
      "text/plain": [
       "array([[  9.75651699,   8.40824204,  -4.47007216, ...,  -5.15091556,\n",
       "         -5.52832514,   6.76716113],\n",
       "       [  9.76938484,   9.12791451,  -3.2449417 , ...,  -5.52728453,\n",
       "         -4.55342322,   4.34747282],\n",
       "       [  9.91354236,   5.6859212 ,  -9.44849953, ...,  -8.17986948,\n",
       "         -0.66417684,  -4.27449998],\n",
       "       ...,\n",
       "       [  9.67921985,   4.04608377,  -9.83983629, ...,  -8.20746662,\n",
       "         -0.74649505,  -5.0825914 ],\n",
       "       [ -7.83340894,   3.05740356, -10.47320393, ...,   5.83901526,\n",
       "          9.18358607,  -3.93645716],\n",
       "       [  8.59857614,   8.15394556,  -3.56821941, ...,  -7.28016745,\n",
       "         -6.38625032,   5.64256405]])"
      ]
     },
     "execution_count": 31,
     "metadata": {},
     "output_type": "execute_result"
    }
   ],
   "source": [
    "from sklearn.datasets.samples_generator import make_blobs\n",
    "from  sklearn.datasets import make_classification\n",
    "from matplotlib import pyplot\n",
    "from pandas import DataFrame\n",
    "# generate 2d classification dataset\n",
    "\n",
    "X, y = make_blobs(n_samples=1000, centers=3, n_features=25, random_state = 152)\n",
    "# scatter plot, dots colored by class value\n",
    "df = DataFrame(dict(x=X[:,0], y=X[:,1], label=y))\n",
    "colors = {0:'red', 1:'blue', 2:'green'}\n",
    "fig, ax = pyplot.subplots()\n",
    "grouped = df.groupby('label')\n",
    "for key, group in grouped:\n",
    "    group.plot(ax=ax, kind='scatter', x='x', y='y', label=key, color=colors[key])\n",
    "pyplot.show()\n",
    "\n",
    "X"
   ]
  },
  {
   "cell_type": "code",
   "execution_count": 30,
   "metadata": {},
   "outputs": [
    {
     "data": {
      "text/plain": [
       "(1000, 25)"
      ]
     },
     "execution_count": 30,
     "metadata": {},
     "output_type": "execute_result"
    }
   ],
   "source": [
    "X.shape"
   ]
  },
  {
   "cell_type": "code",
   "execution_count": 23,
   "metadata": {},
   "outputs": [
    {
     "data": {
      "text/plain": [
       "\u001b[0;31mSignature:\u001b[0m \u001b[0mmake_blobs\u001b[0m\u001b[0;34m(\u001b[0m\u001b[0mn_samples\u001b[0m\u001b[0;34m=\u001b[0m\u001b[0;36m100\u001b[0m\u001b[0;34m,\u001b[0m \u001b[0mn_features\u001b[0m\u001b[0;34m=\u001b[0m\u001b[0;36m2\u001b[0m\u001b[0;34m,\u001b[0m \u001b[0mcenters\u001b[0m\u001b[0;34m=\u001b[0m\u001b[0;36m3\u001b[0m\u001b[0;34m,\u001b[0m \u001b[0mcluster_std\u001b[0m\u001b[0;34m=\u001b[0m\u001b[0;36m1.0\u001b[0m\u001b[0;34m,\u001b[0m \u001b[0mcenter_box\u001b[0m\u001b[0;34m=\u001b[0m\u001b[0;34m(\u001b[0m\u001b[0;34m-\u001b[0m\u001b[0;36m10.0\u001b[0m\u001b[0;34m,\u001b[0m \u001b[0;36m10.0\u001b[0m\u001b[0;34m)\u001b[0m\u001b[0;34m,\u001b[0m \u001b[0mshuffle\u001b[0m\u001b[0;34m=\u001b[0m\u001b[0;32mTrue\u001b[0m\u001b[0;34m,\u001b[0m \u001b[0mrandom_state\u001b[0m\u001b[0;34m=\u001b[0m\u001b[0;32mNone\u001b[0m\u001b[0;34m)\u001b[0m\u001b[0;34m\u001b[0m\u001b[0;34m\u001b[0m\u001b[0m\n",
       "\u001b[0;31mDocstring:\u001b[0m\n",
       "Generate isotropic Gaussian blobs for clustering.\n",
       "\n",
       "Read more in the :ref:`User Guide <sample_generators>`.\n",
       "\n",
       "Parameters\n",
       "----------\n",
       "n_samples : int, optional (default=100)\n",
       "    The total number of points equally divided among clusters.\n",
       "\n",
       "n_features : int, optional (default=2)\n",
       "    The number of features for each sample.\n",
       "\n",
       "centers : int or array of shape [n_centers, n_features], optional\n",
       "    (default=3)\n",
       "    The number of centers to generate, or the fixed center locations.\n",
       "\n",
       "cluster_std : float or sequence of floats, optional (default=1.0)\n",
       "    The standard deviation of the clusters.\n",
       "\n",
       "center_box : pair of floats (min, max), optional (default=(-10.0, 10.0))\n",
       "    The bounding box for each cluster center when centers are\n",
       "    generated at random.\n",
       "\n",
       "shuffle : boolean, optional (default=True)\n",
       "    Shuffle the samples.\n",
       "\n",
       "random_state : int, RandomState instance or None, optional (default=None)\n",
       "    If int, random_state is the seed used by the random number generator;\n",
       "    If RandomState instance, random_state is the random number generator;\n",
       "    If None, the random number generator is the RandomState instance used\n",
       "    by `np.random`.\n",
       "\n",
       "Returns\n",
       "-------\n",
       "X : array of shape [n_samples, n_features]\n",
       "    The generated samples.\n",
       "\n",
       "y : array of shape [n_samples]\n",
       "    The integer labels for cluster membership of each sample.\n",
       "\n",
       "Examples\n",
       "--------\n",
       ">>> from sklearn.datasets.samples_generator import make_blobs\n",
       ">>> X, y = make_blobs(n_samples=10, centers=3, n_features=2,\n",
       "...                   random_state=0)\n",
       ">>> print(X.shape)\n",
       "(10, 2)\n",
       ">>> y\n",
       "array([0, 0, 1, 0, 2, 2, 2, 1, 1, 0])\n",
       "\n",
       "See also\n",
       "--------\n",
       "make_classification: a more intricate variant\n",
       "\u001b[0;31mFile:\u001b[0m      /anaconda3/envs/carme/lib/python3.6/site-packages/sklearn/datasets/samples_generator.py\n",
       "\u001b[0;31mType:\u001b[0m      function\n"
      ]
     },
     "metadata": {},
     "output_type": "display_data"
    }
   ],
   "source": [
    "make_blobs?"
   ]
  },
  {
   "cell_type": "code",
   "execution_count": null,
   "metadata": {},
   "outputs": [],
   "source": [
    "sklearn.datasets.make_classification(n_samples=100, n_features=20, n_informative=2, n_redundant=2, n_repeated=0, n_classes=2, n_clusters_per_class=2, weights=None, flip_y=0.01, class_sep=1.0, hypercube=True, shift=0.0, scale=1.0, shuffle=True, random_state=None)"
   ]
  },
  {
   "cell_type": "code",
   "execution_count": 14,
   "metadata": {},
   "outputs": [
    {
     "data": {
      "text/plain": [
       "(3, 3, 2)"
      ]
     },
     "execution_count": 14,
     "metadata": {},
     "output_type": "execute_result"
    }
   ],
   "source": [
    "import numpy as np\n",
    "mean = (1, 2)\n",
    "cov = [[1, 0], [0, 1]]\n",
    "x = np.random.multivariate_normal(mean, cov, (3, 3))\n",
    "x.shape\n",
    "(3, 3, 2)"
   ]
  },
  {
   "cell_type": "code",
   "execution_count": 15,
   "metadata": {},
   "outputs": [
    {
     "data": {
      "text/plain": [
       "array([[[ 0.51486092,  0.60701055],\n",
       "        [ 0.90217153,  2.98235251],\n",
       "        [-0.33701775,  2.92680057]],\n",
       "\n",
       "       [[ 0.24286684,  0.71329241],\n",
       "        [ 1.6940016 , -0.22578106],\n",
       "        [ 0.77821042,  0.95529551]],\n",
       "\n",
       "       [[-0.17585347,  0.16403525],\n",
       "        [ 0.24967045,  2.34224038],\n",
       "        [ 0.33923042,  2.20706655]]])"
      ]
     },
     "execution_count": 15,
     "metadata": {},
     "output_type": "execute_result"
    }
   ],
   "source": [
    "x"
   ]
  },
  {
   "cell_type": "code",
   "execution_count": 16,
   "metadata": {},
   "outputs": [
    {
     "name": "stdout",
     "output_type": "stream",
     "text": [
      "[True, True]\n"
     ]
    },
    {
     "data": {
      "text/plain": [
       "[True, True]"
      ]
     },
     "execution_count": 16,
     "metadata": {},
     "output_type": "execute_result"
    }
   ],
   "source": [
    "print (list( (x[0,0,:] - mean) < 0.6 ))\n",
    "[True, True]"
   ]
  },
  {
   "cell_type": "code",
   "execution_count": 13,
   "metadata": {},
   "outputs": [],
   "source": [
    "from synthesize import *"
   ]
  },
  {
   "cell_type": "code",
   "execution_count": null,
   "metadata": {},
   "outputs": [],
   "source": []
  }
 ],
 "metadata": {
  "kernelspec": {
   "display_name": "Python (carme)",
   "language": "python",
   "name": "carme"
  },
  "language_info": {
   "codemirror_mode": {
    "name": "ipython",
    "version": 3
   },
   "file_extension": ".py",
   "mimetype": "text/x-python",
   "name": "python",
   "nbconvert_exporter": "python",
   "pygments_lexer": "ipython3",
   "version": "3.6.7"
  }
 },
 "nbformat": 4,
 "nbformat_minor": 2
}
